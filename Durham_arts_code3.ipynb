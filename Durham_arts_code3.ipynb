{
 "cells": [
  {
   "cell_type": "markdown",
   "metadata": {},
   "source": [
    "## Durham Arts and Culture Venues\n",
    "> Making people aware of the possibilities for cultural activities in an area is always an ongoing problem. I work with the local Historical Society here in Whitby, Durham Region, Ontario, Canada. We want to put an interactive map on our website that shows the location of our museum and other museums, art galleries, and live theater venues in Durham region. \n",
    "\n",
    "### 1. Data Collection\n",
    "> By far the most time consuming part of the project. Foursquare did not provide enough venues of the categories we needed so a web search for more venues was necessary.  \n",
    "> The categories used were Museum, Art Gallery, and Theater.\n",
    "> The venue data was stored in a CSV file, read into a dataframe, and the longitudes and latitudes were added. \n",
    "### 2. Visualizing the Data\n",
    "> Once the data was collected and cleaned it was looked at to see how many communities had venues, and how many venues each community had.\n",
    "### 3. Creating the Map \n",
    "> The map has 29 locations marked on it. Each location has a popup label that lists the name, the address, and the phone number of the venue or organization. As well the markers are colour coded for each venue category and there is a legend for that.  \n",
    "\n"
   ]
  },
  {
   "cell_type": "code",
   "execution_count": 2,
   "metadata": {},
   "outputs": [
    {
     "name": "stdout",
     "output_type": "stream",
     "text": [
      "Requirement already satisfied: geopy in c:\\programdata\\anaconda3\\lib\\site-packages (2.0.0)\n",
      "Requirement already satisfied: geographiclib<2,>=1.49 in c:\\programdata\\anaconda3\\lib\\site-packages (from geopy) (1.50)\n",
      "Requirement already satisfied: folium in c:\\programdata\\anaconda3\\lib\\site-packages (0.11.0)\n",
      "Requirement already satisfied: branca>=0.3.0 in c:\\programdata\\anaconda3\\lib\\site-packages (from folium) (0.4.1)\n",
      "Requirement already satisfied: requests in c:\\programdata\\anaconda3\\lib\\site-packages (from folium) (2.24.0)\n",
      "Requirement already satisfied: jinja2>=2.9 in c:\\programdata\\anaconda3\\lib\\site-packages (from folium) (2.11.2)\n",
      "Requirement already satisfied: numpy in c:\\programdata\\anaconda3\\lib\\site-packages (from folium) (1.18.5)\n",
      "Requirement already satisfied: chardet<4,>=3.0.2 in c:\\programdata\\anaconda3\\lib\\site-packages (from requests->folium) (3.0.4)\n",
      "Requirement already satisfied: urllib3!=1.25.0,!=1.25.1,<1.26,>=1.21.1 in c:\\programdata\\anaconda3\\lib\\site-packages (from requests->folium) (1.25.9)\n",
      "Requirement already satisfied: certifi>=2017.4.17 in c:\\programdata\\anaconda3\\lib\\site-packages (from requests->folium) (2020.6.20)\n",
      "Requirement already satisfied: idna<3,>=2.5 in c:\\programdata\\anaconda3\\lib\\site-packages (from requests->folium) (2.10)\n",
      "Requirement already satisfied: MarkupSafe>=0.23 in c:\\programdata\\anaconda3\\lib\\site-packages (from jinja2>=2.9->folium) (1.1.1)\n",
      "imports done\n"
     ]
    }
   ],
   "source": [
    "\n",
    "#!pip install geopandas\n",
    "!pip install geopy\n",
    "import requests\n",
    "from geopy.geocoders import Nominatim\n",
    "\n",
    "import types\n",
    "import pandas as pd\n",
    "\n",
    "import numpy as np\n",
    "!pip install folium\n",
    "import folium\n",
    "import csv\n",
    "from pandas import json_normalize #transform json file into a dataframe\n",
    "\n",
    "print('imports done')\n"
   ]
  },
  {
   "cell_type": "markdown",
   "metadata": {},
   "source": [
    "## 1. Data Collection\n",
    "### - The Municipalities in Durham\n",
    "> There are eight municipalities. These will be used as the centers for collecting venues from Foursquare."
   ]
  },
  {
   "cell_type": "code",
   "execution_count": 2,
   "metadata": {},
   "outputs": [],
   "source": [
    "municipalities = ['Ajax Ontario Canada',\n",
    "                  'Brock Ontario Canada',\n",
    "                  'Clarington Ontario Canada',\n",
    "                  'Oshawa Ontario Canada',\n",
    "                  'Pickering Ontario Canada',\n",
    "                  'Scugog Ontario Canada',\n",
    "                  'Uxbridge Ontario Canada',\n",
    "                  'Whitby Ontario Canada']\n"
   ]
  },
  {
   "cell_type": "markdown",
   "metadata": {},
   "source": [
    "#### A short function to retrieve the latitude and longitude for 1 address"
   ]
  },
  {
   "cell_type": "code",
   "execution_count": 19,
   "metadata": {},
   "outputs": [],
   "source": [
    "# create a locator object\n",
    "locator = Nominatim(user_agent='myGeocoder')\n",
    "\n",
    "def get_lat_long(address):\n",
    "    location = locator.geocode(address)\n",
    "    if location != None:\n",
    "        lat = location.latitude\n",
    "        lon = location.longitude\n",
    "    else:\n",
    "        lat = np.nan\n",
    "        lon = np.nan\n",
    "    return lat, lon\n"
   ]
  },
  {
   "cell_type": "markdown",
   "metadata": {},
   "source": [
    "#### Get the longitude and latitude of the eight municipalities"
   ]
  },
  {
   "cell_type": "code",
   "execution_count": 4,
   "metadata": {},
   "outputs": [
    {
     "data": {
      "text/plain": [
       "[['Ajax Ontario Canada', 43.850374, -79.024658],\n",
       " ['Brock Ontario Canada', 44.347685049999995, -79.10016490761303],\n",
       " ['Clarington Ontario Canada', 43.96868585, -78.65135738273909],\n",
       " ['Oshawa Ontario Canada', 43.91768, -78.862953],\n",
       " ['Pickering Ontario Canada', 43.835765, -79.090576],\n",
       " ['Scugog Ontario Canada', 44.1150554, -78.90598875892695],\n",
       " ['Uxbridge Ontario Canada', 44.1088502, -79.1226768],\n",
       " ['Whitby Ontario Canada', 43.899871, -78.940201]]"
      ]
     },
     "execution_count": 4,
     "metadata": {},
     "output_type": "execute_result"
    }
   ],
   "source": [
    "municipalities_locations = []\n",
    "for m in municipalities:\n",
    "    lat, lon = get_lat_long(m)\n",
    "    municipalities_locations.append([m, lat, lon])\n",
    "municipalities_locations"
   ]
  },
  {
   "cell_type": "markdown",
   "metadata": {},
   "source": [
    "#### Build a database of venues for all the municipalities"
   ]
  },
  {
   "cell_type": "code",
   "execution_count": 5,
   "metadata": {},
   "outputs": [
    {
     "data": {
      "text/plain": [
       "(429, 24)"
      ]
     },
     "execution_count": 5,
     "metadata": {},
     "output_type": "execute_result"
    }
   ],
   "source": [
    "\n",
    "# define foursquare arguments \n",
    "client_id ='XXX'\n",
    "client_secret = 'XXX'\n",
    "version = '20180605'\n",
    "limit = 100\n",
    "radius = 5000\n",
    "\n",
    "#create an empty dataframe\n",
    "municipalities_venues = pd.DataFrame()\n",
    "\n",
    "for lst in municipalities_locations:\n",
    "    url = 'https://api.foursquare.com/v2/venues/explore?&client_id={}&client_secret={}&v={}&ll={},{}&radius={}&limit={}'.format(\n",
    "        client_id,\n",
    "        client_secret,\n",
    "        version,\n",
    "        lst[1],\n",
    "        lst[2],\n",
    "        radius,\n",
    "        limit)\n",
    "    results = requests.get(url).json()\n",
    "    #extract the items\n",
    "    venues = results['response']['groups'][0]['items']\n",
    "    #create dataframe\n",
    "    one_m_venues = json_normalize(venues)\n",
    "    #add the new dataframe to the collector dataframe\n",
    "    municipalities_venues = pd.concat([municipalities_venues,one_m_venues], axis=0)\n",
    "\n",
    "municipalities_venues.shape \n"
   ]
  },
  {
   "cell_type": "markdown",
   "metadata": {},
   "source": [
    "### - Extract the Relevant Columns"
   ]
  },
  {
   "cell_type": "code",
   "execution_count": 6,
   "metadata": {
    "scrolled": true
   },
   "outputs": [
    {
     "name": "stdout",
     "output_type": "stream",
     "text": [
      "Index(['referralId', 'reasons.count', 'reasons.items', 'venue.id',\n",
      "       'venue.name', 'venue.location.address', 'venue.location.lat',\n",
      "       'venue.location.lng', 'venue.location.labeledLatLngs',\n",
      "       'venue.location.distance', 'venue.location.postalCode',\n",
      "       'venue.location.cc', 'venue.location.city', 'venue.location.state',\n",
      "       'venue.location.country', 'venue.location.formattedAddress',\n",
      "       'venue.categories', 'venue.photos.count', 'venue.photos.groups',\n",
      "       'venue.venuePage.id', 'venue.location.crossStreet',\n",
      "       'venue.events.count', 'venue.events.summary',\n",
      "       'venue.location.neighborhood'],\n",
      "      dtype='object')\n"
     ]
    }
   ],
   "source": [
    "print(municipalities_venues.columns)"
   ]
  },
  {
   "cell_type": "code",
   "execution_count": 7,
   "metadata": {},
   "outputs": [
    {
     "data": {
      "text/html": [
       "<div>\n",
       "<style scoped>\n",
       "    .dataframe tbody tr th:only-of-type {\n",
       "        vertical-align: middle;\n",
       "    }\n",
       "\n",
       "    .dataframe tbody tr th {\n",
       "        vertical-align: top;\n",
       "    }\n",
       "\n",
       "    .dataframe thead th {\n",
       "        text-align: right;\n",
       "    }\n",
       "</style>\n",
       "<table border=\"1\" class=\"dataframe\">\n",
       "  <thead>\n",
       "    <tr style=\"text-align: right;\">\n",
       "      <th></th>\n",
       "      <th>venue.name</th>\n",
       "      <th>venue.location.address</th>\n",
       "      <th>venue.location.city</th>\n",
       "      <th>venue.categories</th>\n",
       "      <th>venue.location.lat</th>\n",
       "      <th>venue.location.lng</th>\n",
       "    </tr>\n",
       "  </thead>\n",
       "  <tbody>\n",
       "    <tr>\n",
       "      <th>0</th>\n",
       "      <td>Debbie's Boutique Cafe</td>\n",
       "      <td>94 Harwood Avenue South</td>\n",
       "      <td>Ajax</td>\n",
       "      <td>[{'id': '4bf58dd8d48988d16d941735', 'name': 'C...</td>\n",
       "      <td>43.850183</td>\n",
       "      <td>-79.021350</td>\n",
       "    </tr>\n",
       "    <tr>\n",
       "      <th>1</th>\n",
       "      <td>Retro Burger</td>\n",
       "      <td>105 Bayly St W</td>\n",
       "      <td>Ajax</td>\n",
       "      <td>[{'id': '4bf58dd8d48988d16c941735', 'name': 'B...</td>\n",
       "      <td>43.842269</td>\n",
       "      <td>-79.021905</td>\n",
       "    </tr>\n",
       "    <tr>\n",
       "      <th>2</th>\n",
       "      <td>Portly Piper</td>\n",
       "      <td>235 Bayly St W</td>\n",
       "      <td>Ajax</td>\n",
       "      <td>[{'id': '4bf58dd8d48988d157941735', 'name': 'N...</td>\n",
       "      <td>43.841323</td>\n",
       "      <td>-79.026583</td>\n",
       "    </tr>\n",
       "    <tr>\n",
       "      <th>3</th>\n",
       "      <td>Life Time Athletic</td>\n",
       "      <td>100 Beck Crescent</td>\n",
       "      <td>Ajax</td>\n",
       "      <td>[{'id': '4bf58dd8d48988d176941735', 'name': 'G...</td>\n",
       "      <td>43.859315</td>\n",
       "      <td>-79.013105</td>\n",
       "    </tr>\n",
       "    <tr>\n",
       "      <th>4</th>\n",
       "      <td>Mexico Lindo</td>\n",
       "      <td>200 Harwood Avenue</td>\n",
       "      <td>Ajax</td>\n",
       "      <td>[{'id': '4bf58dd8d48988d1c1941735', 'name': 'M...</td>\n",
       "      <td>43.848601</td>\n",
       "      <td>-79.021804</td>\n",
       "    </tr>\n",
       "  </tbody>\n",
       "</table>\n",
       "</div>"
      ],
      "text/plain": [
       "               venue.name   venue.location.address venue.location.city  \\\n",
       "0  Debbie's Boutique Cafe  94 Harwood Avenue South                Ajax   \n",
       "1            Retro Burger           105 Bayly St W                Ajax   \n",
       "2            Portly Piper           235 Bayly St W                Ajax   \n",
       "3      Life Time Athletic        100 Beck Crescent                Ajax   \n",
       "4            Mexico Lindo       200 Harwood Avenue                Ajax   \n",
       "\n",
       "                                    venue.categories  venue.location.lat  \\\n",
       "0  [{'id': '4bf58dd8d48988d16d941735', 'name': 'C...           43.850183   \n",
       "1  [{'id': '4bf58dd8d48988d16c941735', 'name': 'B...           43.842269   \n",
       "2  [{'id': '4bf58dd8d48988d157941735', 'name': 'N...           43.841323   \n",
       "3  [{'id': '4bf58dd8d48988d176941735', 'name': 'G...           43.859315   \n",
       "4  [{'id': '4bf58dd8d48988d1c1941735', 'name': 'M...           43.848601   \n",
       "\n",
       "   venue.location.lng  \n",
       "0          -79.021350  \n",
       "1          -79.021905  \n",
       "2          -79.026583  \n",
       "3          -79.013105  \n",
       "4          -79.021804  "
      ]
     },
     "execution_count": 7,
     "metadata": {},
     "output_type": "execute_result"
    }
   ],
   "source": [
    "filter_col=['venue.name','venue.location.address','venue.location.city','venue.categories','venue.location.lat','venue.location.lng']\n",
    "municipalities_venues = municipalities_venues.loc[:,filter_col]\n",
    "municipalities_venues.head()"
   ]
  },
  {
   "cell_type": "markdown",
   "metadata": {},
   "source": [
    "### - Get the categories of each venue"
   ]
  },
  {
   "cell_type": "code",
   "execution_count": 8,
   "metadata": {},
   "outputs": [],
   "source": [
    "#function that extracts the category of the venue\n",
    "def get_category_type(row):\n",
    "    try:\n",
    "        categories_list=row['categories']\n",
    "    except:\n",
    "        categories_list = row['venue.categories']\n",
    "    if len(categories_list)==0:\n",
    "        return None\n",
    "    else:\n",
    "        return categories_list[0]['name']"
   ]
  },
  {
   "cell_type": "code",
   "execution_count": 9,
   "metadata": {},
   "outputs": [
    {
     "data": {
      "text/html": [
       "<div>\n",
       "<style scoped>\n",
       "    .dataframe tbody tr th:only-of-type {\n",
       "        vertical-align: middle;\n",
       "    }\n",
       "\n",
       "    .dataframe tbody tr th {\n",
       "        vertical-align: top;\n",
       "    }\n",
       "\n",
       "    .dataframe thead th {\n",
       "        text-align: right;\n",
       "    }\n",
       "</style>\n",
       "<table border=\"1\" class=\"dataframe\">\n",
       "  <thead>\n",
       "    <tr style=\"text-align: right;\">\n",
       "      <th></th>\n",
       "      <th>venue.name</th>\n",
       "      <th>venue.location.address</th>\n",
       "      <th>venue.location.city</th>\n",
       "      <th>venue.categories</th>\n",
       "      <th>venue.location.lat</th>\n",
       "      <th>venue.location.lng</th>\n",
       "    </tr>\n",
       "  </thead>\n",
       "  <tbody>\n",
       "    <tr>\n",
       "      <th>0</th>\n",
       "      <td>Debbie's Boutique Cafe</td>\n",
       "      <td>94 Harwood Avenue South</td>\n",
       "      <td>Ajax</td>\n",
       "      <td>Café</td>\n",
       "      <td>43.850183</td>\n",
       "      <td>-79.021350</td>\n",
       "    </tr>\n",
       "    <tr>\n",
       "      <th>1</th>\n",
       "      <td>Retro Burger</td>\n",
       "      <td>105 Bayly St W</td>\n",
       "      <td>Ajax</td>\n",
       "      <td>Burger Joint</td>\n",
       "      <td>43.842269</td>\n",
       "      <td>-79.021905</td>\n",
       "    </tr>\n",
       "    <tr>\n",
       "      <th>2</th>\n",
       "      <td>Portly Piper</td>\n",
       "      <td>235 Bayly St W</td>\n",
       "      <td>Ajax</td>\n",
       "      <td>New American Restaurant</td>\n",
       "      <td>43.841323</td>\n",
       "      <td>-79.026583</td>\n",
       "    </tr>\n",
       "    <tr>\n",
       "      <th>3</th>\n",
       "      <td>Life Time Athletic</td>\n",
       "      <td>100 Beck Crescent</td>\n",
       "      <td>Ajax</td>\n",
       "      <td>Gym</td>\n",
       "      <td>43.859315</td>\n",
       "      <td>-79.013105</td>\n",
       "    </tr>\n",
       "    <tr>\n",
       "      <th>4</th>\n",
       "      <td>Mexico Lindo</td>\n",
       "      <td>200 Harwood Avenue</td>\n",
       "      <td>Ajax</td>\n",
       "      <td>Mexican Restaurant</td>\n",
       "      <td>43.848601</td>\n",
       "      <td>-79.021804</td>\n",
       "    </tr>\n",
       "  </tbody>\n",
       "</table>\n",
       "</div>"
      ],
      "text/plain": [
       "               venue.name   venue.location.address venue.location.city  \\\n",
       "0  Debbie's Boutique Cafe  94 Harwood Avenue South                Ajax   \n",
       "1            Retro Burger           105 Bayly St W                Ajax   \n",
       "2            Portly Piper           235 Bayly St W                Ajax   \n",
       "3      Life Time Athletic        100 Beck Crescent                Ajax   \n",
       "4            Mexico Lindo       200 Harwood Avenue                Ajax   \n",
       "\n",
       "          venue.categories  venue.location.lat  venue.location.lng  \n",
       "0                     Café           43.850183          -79.021350  \n",
       "1             Burger Joint           43.842269          -79.021905  \n",
       "2  New American Restaurant           43.841323          -79.026583  \n",
       "3                      Gym           43.859315          -79.013105  \n",
       "4       Mexican Restaurant           43.848601          -79.021804  "
      ]
     },
     "execution_count": 9,
     "metadata": {},
     "output_type": "execute_result"
    }
   ],
   "source": [
    "#unpack the categories\n",
    "municipalities_venues['venue.categories']=municipalities_venues.apply(get_category_type, axis=1)\n",
    "municipalities_venues.head()"
   ]
  },
  {
   "cell_type": "code",
   "execution_count": 10,
   "metadata": {},
   "outputs": [
    {
     "data": {
      "text/html": [
       "<div>\n",
       "<style scoped>\n",
       "    .dataframe tbody tr th:only-of-type {\n",
       "        vertical-align: middle;\n",
       "    }\n",
       "\n",
       "    .dataframe tbody tr th {\n",
       "        vertical-align: top;\n",
       "    }\n",
       "\n",
       "    .dataframe thead th {\n",
       "        text-align: right;\n",
       "    }\n",
       "</style>\n",
       "<table border=\"1\" class=\"dataframe\">\n",
       "  <thead>\n",
       "    <tr style=\"text-align: right;\">\n",
       "      <th></th>\n",
       "      <th>name</th>\n",
       "      <th>address</th>\n",
       "      <th>city</th>\n",
       "      <th>categories</th>\n",
       "      <th>lat</th>\n",
       "      <th>lng</th>\n",
       "    </tr>\n",
       "  </thead>\n",
       "  <tbody>\n",
       "    <tr>\n",
       "      <th>0</th>\n",
       "      <td>Debbie's Boutique Cafe</td>\n",
       "      <td>94 Harwood Avenue South</td>\n",
       "      <td>Ajax</td>\n",
       "      <td>Café</td>\n",
       "      <td>43.850183</td>\n",
       "      <td>-79.021350</td>\n",
       "    </tr>\n",
       "    <tr>\n",
       "      <th>1</th>\n",
       "      <td>Retro Burger</td>\n",
       "      <td>105 Bayly St W</td>\n",
       "      <td>Ajax</td>\n",
       "      <td>Burger Joint</td>\n",
       "      <td>43.842269</td>\n",
       "      <td>-79.021905</td>\n",
       "    </tr>\n",
       "    <tr>\n",
       "      <th>2</th>\n",
       "      <td>Portly Piper</td>\n",
       "      <td>235 Bayly St W</td>\n",
       "      <td>Ajax</td>\n",
       "      <td>New American Restaurant</td>\n",
       "      <td>43.841323</td>\n",
       "      <td>-79.026583</td>\n",
       "    </tr>\n",
       "    <tr>\n",
       "      <th>3</th>\n",
       "      <td>Life Time Athletic</td>\n",
       "      <td>100 Beck Crescent</td>\n",
       "      <td>Ajax</td>\n",
       "      <td>Gym</td>\n",
       "      <td>43.859315</td>\n",
       "      <td>-79.013105</td>\n",
       "    </tr>\n",
       "    <tr>\n",
       "      <th>4</th>\n",
       "      <td>Mexico Lindo</td>\n",
       "      <td>200 Harwood Avenue</td>\n",
       "      <td>Ajax</td>\n",
       "      <td>Mexican Restaurant</td>\n",
       "      <td>43.848601</td>\n",
       "      <td>-79.021804</td>\n",
       "    </tr>\n",
       "  </tbody>\n",
       "</table>\n",
       "</div>"
      ],
      "text/plain": [
       "                     name                  address  city  \\\n",
       "0  Debbie's Boutique Cafe  94 Harwood Avenue South  Ajax   \n",
       "1            Retro Burger           105 Bayly St W  Ajax   \n",
       "2            Portly Piper           235 Bayly St W  Ajax   \n",
       "3      Life Time Athletic        100 Beck Crescent  Ajax   \n",
       "4            Mexico Lindo       200 Harwood Avenue  Ajax   \n",
       "\n",
       "                categories        lat        lng  \n",
       "0                     Café  43.850183 -79.021350  \n",
       "1             Burger Joint  43.842269 -79.021905  \n",
       "2  New American Restaurant  43.841323 -79.026583  \n",
       "3                      Gym  43.859315 -79.013105  \n",
       "4       Mexican Restaurant  43.848601 -79.021804  "
      ]
     },
     "execution_count": 10,
     "metadata": {},
     "output_type": "execute_result"
    }
   ],
   "source": [
    "#clean the columns\n",
    "municipalities_venues.columns = [col.split('.')[-1] for col in municipalities_venues.columns]\n",
    "municipalities_venues.head()"
   ]
  },
  {
   "cell_type": "markdown",
   "metadata": {},
   "source": [
    "### - Make sure we do not have duplicate entries since the radiuses may overlap. They had to be large to take in all the rural municipalities. Also remove any Toronto venues that were picked up."
   ]
  },
  {
   "cell_type": "code",
   "execution_count": 11,
   "metadata": {},
   "outputs": [
    {
     "data": {
      "text/plain": [
       "(402, 6)"
      ]
     },
     "execution_count": 11,
     "metadata": {},
     "output_type": "execute_result"
    }
   ],
   "source": [
    "#remove duplicate entries from overlap of radius\n",
    "municipalities_venues.drop_duplicates(inplace=True)\n",
    "municipalities_venues.shape"
   ]
  },
  {
   "cell_type": "code",
   "execution_count": 12,
   "metadata": {},
   "outputs": [
    {
     "data": {
      "text/plain": [
       "(402, 6)"
      ]
     },
     "execution_count": 12,
     "metadata": {},
     "output_type": "execute_result"
    }
   ],
   "source": [
    "#make sure we didn't pick up some Toronto locations\n",
    "indexNames = municipalities_venues[ municipalities_venues['city'] == 'Toronto' ].index\n",
    "# Delete these row indexes from dataFrame\n",
    "municipalities_venues.drop(indexNames , inplace=True)\n",
    "municipalities_venues.shape"
   ]
  },
  {
   "cell_type": "code",
   "execution_count": 13,
   "metadata": {},
   "outputs": [
    {
     "data": {
      "text/html": [
       "<div>\n",
       "<style scoped>\n",
       "    .dataframe tbody tr th:only-of-type {\n",
       "        vertical-align: middle;\n",
       "    }\n",
       "\n",
       "    .dataframe tbody tr th {\n",
       "        vertical-align: top;\n",
       "    }\n",
       "\n",
       "    .dataframe thead th {\n",
       "        text-align: right;\n",
       "    }\n",
       "</style>\n",
       "<table border=\"1\" class=\"dataframe\">\n",
       "  <thead>\n",
       "    <tr style=\"text-align: right;\">\n",
       "      <th></th>\n",
       "      <th>name</th>\n",
       "      <th>address</th>\n",
       "      <th>city</th>\n",
       "      <th>categories</th>\n",
       "      <th>lat</th>\n",
       "      <th>lng</th>\n",
       "    </tr>\n",
       "  </thead>\n",
       "  <tbody>\n",
       "    <tr>\n",
       "      <th>0</th>\n",
       "      <td>Debbie's Boutique Cafe</td>\n",
       "      <td>94 Harwood Avenue South</td>\n",
       "      <td>Ajax</td>\n",
       "      <td>Café</td>\n",
       "      <td>43.850183</td>\n",
       "      <td>-79.021350</td>\n",
       "    </tr>\n",
       "    <tr>\n",
       "      <th>1</th>\n",
       "      <td>Retro Burger</td>\n",
       "      <td>105 Bayly St W</td>\n",
       "      <td>Ajax</td>\n",
       "      <td>Burger Joint</td>\n",
       "      <td>43.842269</td>\n",
       "      <td>-79.021905</td>\n",
       "    </tr>\n",
       "    <tr>\n",
       "      <th>2</th>\n",
       "      <td>Portly Piper</td>\n",
       "      <td>235 Bayly St W</td>\n",
       "      <td>Ajax</td>\n",
       "      <td>New American Restaurant</td>\n",
       "      <td>43.841323</td>\n",
       "      <td>-79.026583</td>\n",
       "    </tr>\n",
       "    <tr>\n",
       "      <th>3</th>\n",
       "      <td>Life Time Athletic</td>\n",
       "      <td>100 Beck Crescent</td>\n",
       "      <td>Ajax</td>\n",
       "      <td>Gym</td>\n",
       "      <td>43.859315</td>\n",
       "      <td>-79.013105</td>\n",
       "    </tr>\n",
       "    <tr>\n",
       "      <th>4</th>\n",
       "      <td>Mexico Lindo</td>\n",
       "      <td>200 Harwood Avenue</td>\n",
       "      <td>Ajax</td>\n",
       "      <td>Mexican Restaurant</td>\n",
       "      <td>43.848601</td>\n",
       "      <td>-79.021804</td>\n",
       "    </tr>\n",
       "    <tr>\n",
       "      <th>...</th>\n",
       "      <td>...</td>\n",
       "      <td>...</td>\n",
       "      <td>...</td>\n",
       "      <td>...</td>\n",
       "      <td>...</td>\n",
       "      <td>...</td>\n",
       "    </tr>\n",
       "    <tr>\n",
       "      <th>94</th>\n",
       "      <td>Petro-Canada</td>\n",
       "      <td>1545 Rossland Rd E</td>\n",
       "      <td>Whitby</td>\n",
       "      <td>Gas Station</td>\n",
       "      <td>43.903605</td>\n",
       "      <td>-78.920766</td>\n",
       "    </tr>\n",
       "    <tr>\n",
       "      <th>96</th>\n",
       "      <td>Pita Deli</td>\n",
       "      <td>1600 Champlain Ave</td>\n",
       "      <td>Whitby</td>\n",
       "      <td>Middle Eastern Restaurant</td>\n",
       "      <td>43.873292</td>\n",
       "      <td>-78.905209</td>\n",
       "    </tr>\n",
       "    <tr>\n",
       "      <th>97</th>\n",
       "      <td>Denny's</td>\n",
       "      <td>75 Consumers Lane</td>\n",
       "      <td>Whitby</td>\n",
       "      <td>Breakfast Spot</td>\n",
       "      <td>43.869999</td>\n",
       "      <td>-78.911725</td>\n",
       "    </tr>\n",
       "    <tr>\n",
       "      <th>98</th>\n",
       "      <td>TD Canada Trust</td>\n",
       "      <td>920 Taunton Rd E</td>\n",
       "      <td>Whitby</td>\n",
       "      <td>Bank</td>\n",
       "      <td>43.925001</td>\n",
       "      <td>-78.915966</td>\n",
       "    </tr>\n",
       "    <tr>\n",
       "      <th>99</th>\n",
       "      <td>Michaels</td>\n",
       "      <td>1751 Victoria St E</td>\n",
       "      <td>Whitby</td>\n",
       "      <td>Arts &amp; Crafts Store</td>\n",
       "      <td>43.867677</td>\n",
       "      <td>-78.896894</td>\n",
       "    </tr>\n",
       "  </tbody>\n",
       "</table>\n",
       "<p>402 rows × 6 columns</p>\n",
       "</div>"
      ],
      "text/plain": [
       "                      name                  address    city  \\\n",
       "0   Debbie's Boutique Cafe  94 Harwood Avenue South    Ajax   \n",
       "1             Retro Burger           105 Bayly St W    Ajax   \n",
       "2             Portly Piper           235 Bayly St W    Ajax   \n",
       "3       Life Time Athletic        100 Beck Crescent    Ajax   \n",
       "4             Mexico Lindo       200 Harwood Avenue    Ajax   \n",
       "..                     ...                      ...     ...   \n",
       "94            Petro-Canada       1545 Rossland Rd E  Whitby   \n",
       "96               Pita Deli       1600 Champlain Ave  Whitby   \n",
       "97                 Denny's        75 Consumers Lane  Whitby   \n",
       "98         TD Canada Trust         920 Taunton Rd E  Whitby   \n",
       "99                Michaels       1751 Victoria St E  Whitby   \n",
       "\n",
       "                   categories        lat        lng  \n",
       "0                        Café  43.850183 -79.021350  \n",
       "1                Burger Joint  43.842269 -79.021905  \n",
       "2     New American Restaurant  43.841323 -79.026583  \n",
       "3                         Gym  43.859315 -79.013105  \n",
       "4          Mexican Restaurant  43.848601 -79.021804  \n",
       "..                        ...        ...        ...  \n",
       "94                Gas Station  43.903605 -78.920766  \n",
       "96  Middle Eastern Restaurant  43.873292 -78.905209  \n",
       "97             Breakfast Spot  43.869999 -78.911725  \n",
       "98                       Bank  43.925001 -78.915966  \n",
       "99        Arts & Crafts Store  43.867677 -78.896894  \n",
       "\n",
       "[402 rows x 6 columns]"
      ]
     },
     "execution_count": 13,
     "metadata": {},
     "output_type": "execute_result"
    }
   ],
   "source": [
    "municipalities_venues"
   ]
  },
  {
   "cell_type": "code",
   "execution_count": 14,
   "metadata": {},
   "outputs": [
    {
     "data": {
      "text/html": [
       "<div>\n",
       "<style scoped>\n",
       "    .dataframe tbody tr th:only-of-type {\n",
       "        vertical-align: middle;\n",
       "    }\n",
       "\n",
       "    .dataframe tbody tr th {\n",
       "        vertical-align: top;\n",
       "    }\n",
       "\n",
       "    .dataframe thead th {\n",
       "        text-align: right;\n",
       "    }\n",
       "</style>\n",
       "<table border=\"1\" class=\"dataframe\">\n",
       "  <thead>\n",
       "    <tr style=\"text-align: right;\">\n",
       "      <th></th>\n",
       "      <th>name</th>\n",
       "      <th>address</th>\n",
       "      <th>city</th>\n",
       "      <th>categories</th>\n",
       "      <th>lat</th>\n",
       "      <th>lng</th>\n",
       "    </tr>\n",
       "  </thead>\n",
       "  <tbody>\n",
       "    <tr>\n",
       "      <th>0</th>\n",
       "      <td>Debbie's Boutique Cafe</td>\n",
       "      <td>94 Harwood Avenue South</td>\n",
       "      <td>Ajax</td>\n",
       "      <td>Café</td>\n",
       "      <td>43.850183</td>\n",
       "      <td>-79.021350</td>\n",
       "    </tr>\n",
       "    <tr>\n",
       "      <th>1</th>\n",
       "      <td>Retro Burger</td>\n",
       "      <td>105 Bayly St W</td>\n",
       "      <td>Ajax</td>\n",
       "      <td>Burger Joint</td>\n",
       "      <td>43.842269</td>\n",
       "      <td>-79.021905</td>\n",
       "    </tr>\n",
       "    <tr>\n",
       "      <th>2</th>\n",
       "      <td>Portly Piper</td>\n",
       "      <td>235 Bayly St W</td>\n",
       "      <td>Ajax</td>\n",
       "      <td>New American Restaurant</td>\n",
       "      <td>43.841323</td>\n",
       "      <td>-79.026583</td>\n",
       "    </tr>\n",
       "    <tr>\n",
       "      <th>3</th>\n",
       "      <td>Life Time Athletic</td>\n",
       "      <td>100 Beck Crescent</td>\n",
       "      <td>Ajax</td>\n",
       "      <td>Gym</td>\n",
       "      <td>43.859315</td>\n",
       "      <td>-79.013105</td>\n",
       "    </tr>\n",
       "    <tr>\n",
       "      <th>4</th>\n",
       "      <td>Mexico Lindo</td>\n",
       "      <td>200 Harwood Avenue</td>\n",
       "      <td>Ajax</td>\n",
       "      <td>Mexican Restaurant</td>\n",
       "      <td>43.848601</td>\n",
       "      <td>-79.021804</td>\n",
       "    </tr>\n",
       "    <tr>\n",
       "      <th>...</th>\n",
       "      <td>...</td>\n",
       "      <td>...</td>\n",
       "      <td>...</td>\n",
       "      <td>...</td>\n",
       "      <td>...</td>\n",
       "      <td>...</td>\n",
       "    </tr>\n",
       "    <tr>\n",
       "      <th>397</th>\n",
       "      <td>Petro-Canada</td>\n",
       "      <td>1545 Rossland Rd E</td>\n",
       "      <td>Whitby</td>\n",
       "      <td>Gas Station</td>\n",
       "      <td>43.903605</td>\n",
       "      <td>-78.920766</td>\n",
       "    </tr>\n",
       "    <tr>\n",
       "      <th>398</th>\n",
       "      <td>Pita Deli</td>\n",
       "      <td>1600 Champlain Ave</td>\n",
       "      <td>Whitby</td>\n",
       "      <td>Middle Eastern Restaurant</td>\n",
       "      <td>43.873292</td>\n",
       "      <td>-78.905209</td>\n",
       "    </tr>\n",
       "    <tr>\n",
       "      <th>399</th>\n",
       "      <td>Denny's</td>\n",
       "      <td>75 Consumers Lane</td>\n",
       "      <td>Whitby</td>\n",
       "      <td>Breakfast Spot</td>\n",
       "      <td>43.869999</td>\n",
       "      <td>-78.911725</td>\n",
       "    </tr>\n",
       "    <tr>\n",
       "      <th>400</th>\n",
       "      <td>TD Canada Trust</td>\n",
       "      <td>920 Taunton Rd E</td>\n",
       "      <td>Whitby</td>\n",
       "      <td>Bank</td>\n",
       "      <td>43.925001</td>\n",
       "      <td>-78.915966</td>\n",
       "    </tr>\n",
       "    <tr>\n",
       "      <th>401</th>\n",
       "      <td>Michaels</td>\n",
       "      <td>1751 Victoria St E</td>\n",
       "      <td>Whitby</td>\n",
       "      <td>Arts &amp; Crafts Store</td>\n",
       "      <td>43.867677</td>\n",
       "      <td>-78.896894</td>\n",
       "    </tr>\n",
       "  </tbody>\n",
       "</table>\n",
       "<p>402 rows × 6 columns</p>\n",
       "</div>"
      ],
      "text/plain": [
       "                       name                  address    city  \\\n",
       "0    Debbie's Boutique Cafe  94 Harwood Avenue South    Ajax   \n",
       "1              Retro Burger           105 Bayly St W    Ajax   \n",
       "2              Portly Piper           235 Bayly St W    Ajax   \n",
       "3        Life Time Athletic        100 Beck Crescent    Ajax   \n",
       "4              Mexico Lindo       200 Harwood Avenue    Ajax   \n",
       "..                      ...                      ...     ...   \n",
       "397            Petro-Canada       1545 Rossland Rd E  Whitby   \n",
       "398               Pita Deli       1600 Champlain Ave  Whitby   \n",
       "399                 Denny's        75 Consumers Lane  Whitby   \n",
       "400         TD Canada Trust         920 Taunton Rd E  Whitby   \n",
       "401                Michaels       1751 Victoria St E  Whitby   \n",
       "\n",
       "                    categories        lat        lng  \n",
       "0                         Café  43.850183 -79.021350  \n",
       "1                 Burger Joint  43.842269 -79.021905  \n",
       "2      New American Restaurant  43.841323 -79.026583  \n",
       "3                          Gym  43.859315 -79.013105  \n",
       "4           Mexican Restaurant  43.848601 -79.021804  \n",
       "..                         ...        ...        ...  \n",
       "397                Gas Station  43.903605 -78.920766  \n",
       "398  Middle Eastern Restaurant  43.873292 -78.905209  \n",
       "399             Breakfast Spot  43.869999 -78.911725  \n",
       "400                       Bank  43.925001 -78.915966  \n",
       "401        Arts & Crafts Store  43.867677 -78.896894  \n",
       "\n",
       "[402 rows x 6 columns]"
      ]
     },
     "execution_count": 14,
     "metadata": {},
     "output_type": "execute_result"
    }
   ],
   "source": [
    "municipalities_venues.reset_index(drop=True, inplace = True)\n",
    "municipalities_venues"
   ]
  },
  {
   "cell_type": "markdown",
   "metadata": {},
   "source": [
    "### - Find the relevant categories from the list of categories"
   ]
  },
  {
   "cell_type": "code",
   "execution_count": 15,
   "metadata": {},
   "outputs": [
    {
     "name": "stdout",
     "output_type": "stream",
     "text": [
      "110\n"
     ]
    },
    {
     "data": {
      "text/plain": [
       "array(['Café', 'Burger Joint', 'New American Restaurant', 'Gym',\n",
       "       'Mexican Restaurant', 'Bookstore', 'Restaurant',\n",
       "       'Afghan Restaurant', 'Sports Bar', 'Coffee Shop', 'Wings Joint',\n",
       "       'Breakfast Spot', 'Gym / Fitness Center',\n",
       "       'Middle Eastern Restaurant', 'Grocery Store',\n",
       "       'Japanese Restaurant', 'Liquor Store', 'Park', 'Warehouse Store',\n",
       "       'Fast Food Restaurant', 'Garden Center', 'Smoothie Shop',\n",
       "       'Clothing Store', 'Brewery', 'Ice Cream Shop',\n",
       "       'Caribbean Restaurant', 'Diner', 'Indian Restaurant',\n",
       "       'Pizza Place', 'Pet Store', 'Movie Theater', 'Irish Pub',\n",
       "       'Fried Chicken Joint', 'Pharmacy', 'Comedy Club', 'Poutine Place',\n",
       "       'Dessert Shop', 'Bakery', 'Sporting Goods Shop', 'Bank',\n",
       "       'Arts & Crafts Store', 'Furniture / Home Store', 'Discount Store',\n",
       "       'Department Store', 'Chinese Restaurant', 'Pub', 'Hotel',\n",
       "       'Big Box Store', 'Electronics Store', 'Music Store',\n",
       "       'Athletics & Sports', 'Beer Store', 'Sandwich Place',\n",
       "       'Italian Restaurant', 'Thrift / Vintage Store', 'Hockey Arena',\n",
       "       'Hardware Store', 'Flea Market', 'Gas Station',\n",
       "       'Construction & Landscaping', 'Farm', 'Lake', 'Zoo', 'Stadium',\n",
       "       'Convenience Store', 'Smoke Shop', 'Theater', 'BBQ Joint',\n",
       "       'Greek Restaurant', 'Art Gallery', 'Bowling Alley', 'Museum',\n",
       "       'Deli / Bodega', 'Golf Course', 'Nightclub', 'Sushi Restaurant',\n",
       "       'Cosmetics Shop', 'Burrito Place', 'Frozen Yogurt Shop',\n",
       "       'Shopping Mall', 'Video Game Store', 'Asian Restaurant',\n",
       "       'Food & Drink Shop', 'Seafood Restaurant', 'Gym Pool', 'Buffet',\n",
       "       'Dog Run', 'Bar', 'Salon / Barbershop', 'Beach',\n",
       "       'American Restaurant', 'Thai Restaurant', 'Food', 'Supermarket',\n",
       "       'Organic Grocery', 'Trail', 'Antique Shop', 'Food Truck',\n",
       "       'Candy Store', 'Paper / Office Supplies Store', 'Train Station',\n",
       "       'Home Service', 'Gastropub', 'German Restaurant', 'Skating Rink',\n",
       "       'Soccer Stadium', 'Vietnamese Restaurant', 'Arcade',\n",
       "       'Fish & Chips Shop', 'Butcher'], dtype=object)"
      ]
     },
     "execution_count": 15,
     "metadata": {},
     "output_type": "execute_result"
    }
   ],
   "source": [
    "# make a list of the different categories\n",
    "cat = municipalities_venues['categories'].unique()\n",
    "print(len(cat))\n",
    "cat"
   ]
  },
  {
   "cell_type": "markdown",
   "metadata": {},
   "source": [
    "### - Get the Venues With the Categories Museum, Art Gallery, and Theater"
   ]
  },
  {
   "cell_type": "code",
   "execution_count": 16,
   "metadata": {},
   "outputs": [
    {
     "data": {
      "text/html": [
       "<div>\n",
       "<style scoped>\n",
       "    .dataframe tbody tr th:only-of-type {\n",
       "        vertical-align: middle;\n",
       "    }\n",
       "\n",
       "    .dataframe tbody tr th {\n",
       "        vertical-align: top;\n",
       "    }\n",
       "\n",
       "    .dataframe thead th {\n",
       "        text-align: right;\n",
       "    }\n",
       "</style>\n",
       "<table border=\"1\" class=\"dataframe\">\n",
       "  <thead>\n",
       "    <tr style=\"text-align: right;\">\n",
       "      <th></th>\n",
       "      <th>name</th>\n",
       "      <th>address</th>\n",
       "      <th>city</th>\n",
       "      <th>categories</th>\n",
       "      <th>lat</th>\n",
       "      <th>lng</th>\n",
       "    </tr>\n",
       "  </thead>\n",
       "  <tbody>\n",
       "    <tr>\n",
       "      <th>135</th>\n",
       "      <td>Parkwood Estate</td>\n",
       "      <td>270 Simcoe St N</td>\n",
       "      <td>Oshawa</td>\n",
       "      <td>Museum</td>\n",
       "      <td>43.904584</td>\n",
       "      <td>-78.867608</td>\n",
       "    </tr>\n",
       "  </tbody>\n",
       "</table>\n",
       "</div>"
      ],
      "text/plain": [
       "                name          address    city categories        lat        lng\n",
       "135  Parkwood Estate  270 Simcoe St N  Oshawa     Museum  43.904584 -78.867608"
      ]
     },
     "execution_count": 16,
     "metadata": {},
     "output_type": "execute_result"
    }
   ],
   "source": [
    "museums = municipalities_venues.loc[municipalities_venues['categories']=='Museum']\n",
    "museums"
   ]
  },
  {
   "cell_type": "code",
   "execution_count": 17,
   "metadata": {},
   "outputs": [
    {
     "data": {
      "text/html": [
       "<div>\n",
       "<style scoped>\n",
       "    .dataframe tbody tr th:only-of-type {\n",
       "        vertical-align: middle;\n",
       "    }\n",
       "\n",
       "    .dataframe tbody tr th {\n",
       "        vertical-align: top;\n",
       "    }\n",
       "\n",
       "    .dataframe thead th {\n",
       "        text-align: right;\n",
       "    }\n",
       "</style>\n",
       "<table border=\"1\" class=\"dataframe\">\n",
       "  <thead>\n",
       "    <tr style=\"text-align: right;\">\n",
       "      <th></th>\n",
       "      <th>name</th>\n",
       "      <th>address</th>\n",
       "      <th>city</th>\n",
       "      <th>categories</th>\n",
       "      <th>lat</th>\n",
       "      <th>lng</th>\n",
       "    </tr>\n",
       "  </thead>\n",
       "  <tbody>\n",
       "    <tr>\n",
       "      <th>129</th>\n",
       "      <td>The Robert McLaughlin Gallery (@theRMG)</td>\n",
       "      <td>72 Queen St</td>\n",
       "      <td>Oshawa</td>\n",
       "      <td>Art Gallery</td>\n",
       "      <td>43.895015</td>\n",
       "      <td>-78.865704</td>\n",
       "    </tr>\n",
       "  </tbody>\n",
       "</table>\n",
       "</div>"
      ],
      "text/plain": [
       "                                        name      address    city  \\\n",
       "129  The Robert McLaughlin Gallery (@theRMG)  72 Queen St  Oshawa   \n",
       "\n",
       "      categories        lat        lng  \n",
       "129  Art Gallery  43.895015 -78.865704  "
      ]
     },
     "execution_count": 17,
     "metadata": {},
     "output_type": "execute_result"
    }
   ],
   "source": [
    "arts = municipalities_venues.loc[municipalities_venues['categories']=='Art Gallery']\n",
    "arts"
   ]
  },
  {
   "cell_type": "code",
   "execution_count": 18,
   "metadata": {},
   "outputs": [
    {
     "data": {
      "text/html": [
       "<div>\n",
       "<style scoped>\n",
       "    .dataframe tbody tr th:only-of-type {\n",
       "        vertical-align: middle;\n",
       "    }\n",
       "\n",
       "    .dataframe tbody tr th {\n",
       "        vertical-align: top;\n",
       "    }\n",
       "\n",
       "    .dataframe thead th {\n",
       "        text-align: right;\n",
       "    }\n",
       "</style>\n",
       "<table border=\"1\" class=\"dataframe\">\n",
       "  <thead>\n",
       "    <tr style=\"text-align: right;\">\n",
       "      <th></th>\n",
       "      <th>name</th>\n",
       "      <th>address</th>\n",
       "      <th>city</th>\n",
       "      <th>categories</th>\n",
       "      <th>lat</th>\n",
       "      <th>lng</th>\n",
       "    </tr>\n",
       "  </thead>\n",
       "  <tbody>\n",
       "    <tr>\n",
       "      <th>115</th>\n",
       "      <td>Oshawa Little Theatre</td>\n",
       "      <td>62 Russett Ave.</td>\n",
       "      <td>Oshawa</td>\n",
       "      <td>Theater</td>\n",
       "      <td>43.930277</td>\n",
       "      <td>-78.880503</td>\n",
       "    </tr>\n",
       "    <tr>\n",
       "      <th>154</th>\n",
       "      <td>Regent Theatre</td>\n",
       "      <td>50 King Street East</td>\n",
       "      <td>Oshawa</td>\n",
       "      <td>Theater</td>\n",
       "      <td>43.898317</td>\n",
       "      <td>-78.861939</td>\n",
       "    </tr>\n",
       "  </tbody>\n",
       "</table>\n",
       "</div>"
      ],
      "text/plain": [
       "                      name              address    city categories        lat  \\\n",
       "115  Oshawa Little Theatre      62 Russett Ave.  Oshawa    Theater  43.930277   \n",
       "154         Regent Theatre  50 King Street East  Oshawa    Theater  43.898317   \n",
       "\n",
       "           lng  \n",
       "115 -78.880503  \n",
       "154 -78.861939  "
      ]
     },
     "execution_count": 18,
     "metadata": {},
     "output_type": "execute_result"
    }
   ],
   "source": [
    "theaters = municipalities_venues.loc[municipalities_venues['categories']=='Theater']\n",
    "theaters"
   ]
  },
  {
   "cell_type": "markdown",
   "metadata": {},
   "source": [
    "### - Foursquare came up with only four venues with the relevant categories"
   ]
  },
  {
   "cell_type": "code",
   "execution_count": 19,
   "metadata": {},
   "outputs": [
    {
     "data": {
      "text/html": [
       "<div>\n",
       "<style scoped>\n",
       "    .dataframe tbody tr th:only-of-type {\n",
       "        vertical-align: middle;\n",
       "    }\n",
       "\n",
       "    .dataframe tbody tr th {\n",
       "        vertical-align: top;\n",
       "    }\n",
       "\n",
       "    .dataframe thead th {\n",
       "        text-align: right;\n",
       "    }\n",
       "</style>\n",
       "<table border=\"1\" class=\"dataframe\">\n",
       "  <thead>\n",
       "    <tr style=\"text-align: right;\">\n",
       "      <th></th>\n",
       "      <th>name</th>\n",
       "      <th>address</th>\n",
       "      <th>city</th>\n",
       "      <th>categories</th>\n",
       "      <th>lat</th>\n",
       "      <th>lng</th>\n",
       "    </tr>\n",
       "  </thead>\n",
       "  <tbody>\n",
       "    <tr>\n",
       "      <th>135</th>\n",
       "      <td>Parkwood Estate</td>\n",
       "      <td>270 Simcoe St N</td>\n",
       "      <td>Oshawa</td>\n",
       "      <td>Museum</td>\n",
       "      <td>43.904584</td>\n",
       "      <td>-78.867608</td>\n",
       "    </tr>\n",
       "    <tr>\n",
       "      <th>129</th>\n",
       "      <td>The Robert McLaughlin Gallery (@theRMG)</td>\n",
       "      <td>72 Queen St</td>\n",
       "      <td>Oshawa</td>\n",
       "      <td>Art Gallery</td>\n",
       "      <td>43.895015</td>\n",
       "      <td>-78.865704</td>\n",
       "    </tr>\n",
       "    <tr>\n",
       "      <th>115</th>\n",
       "      <td>Oshawa Little Theatre</td>\n",
       "      <td>62 Russett Ave.</td>\n",
       "      <td>Oshawa</td>\n",
       "      <td>Theater</td>\n",
       "      <td>43.930277</td>\n",
       "      <td>-78.880503</td>\n",
       "    </tr>\n",
       "    <tr>\n",
       "      <th>154</th>\n",
       "      <td>Regent Theatre</td>\n",
       "      <td>50 King Street East</td>\n",
       "      <td>Oshawa</td>\n",
       "      <td>Theater</td>\n",
       "      <td>43.898317</td>\n",
       "      <td>-78.861939</td>\n",
       "    </tr>\n",
       "  </tbody>\n",
       "</table>\n",
       "</div>"
      ],
      "text/plain": [
       "                                        name              address    city  \\\n",
       "135                          Parkwood Estate      270 Simcoe St N  Oshawa   \n",
       "129  The Robert McLaughlin Gallery (@theRMG)          72 Queen St  Oshawa   \n",
       "115                    Oshawa Little Theatre      62 Russett Ave.  Oshawa   \n",
       "154                           Regent Theatre  50 King Street East  Oshawa   \n",
       "\n",
       "      categories        lat        lng  \n",
       "135       Museum  43.904584 -78.867608  \n",
       "129  Art Gallery  43.895015 -78.865704  \n",
       "115      Theater  43.930277 -78.880503  \n",
       "154      Theater  43.898317 -78.861939  "
      ]
     },
     "execution_count": 19,
     "metadata": {},
     "output_type": "execute_result"
    }
   ],
   "source": [
    "arts_df = pd.concat([museums, arts, theaters], axis=0)\n",
    "arts_df\n"
   ]
  },
  {
   "cell_type": "markdown",
   "metadata": {},
   "source": [
    "## More Venues Needed\n",
    "> With only four venues from Foursquare a web search for more was done. The result was added to the Foursquare venues and we ended up with a total of 32 venues which were stored in a CSV file.  The latitudes and longitudes are not entered yet."
   ]
  },
  {
   "cell_type": "code",
   "execution_count": 25,
   "metadata": {
    "scrolled": true
   },
   "outputs": [
    {
     "data": {
      "text/html": [
       "<div>\n",
       "<style scoped>\n",
       "    .dataframe tbody tr th:only-of-type {\n",
       "        vertical-align: middle;\n",
       "    }\n",
       "\n",
       "    .dataframe tbody tr th {\n",
       "        vertical-align: top;\n",
       "    }\n",
       "\n",
       "    .dataframe thead th {\n",
       "        text-align: right;\n",
       "    }\n",
       "</style>\n",
       "<table border=\"1\" class=\"dataframe\">\n",
       "  <thead>\n",
       "    <tr style=\"text-align: right;\">\n",
       "      <th></th>\n",
       "      <th>name</th>\n",
       "      <th>address</th>\n",
       "      <th>city</th>\n",
       "      <th>categories</th>\n",
       "      <th>lat</th>\n",
       "      <th>lng</th>\n",
       "      <th>Phone</th>\n",
       "    </tr>\n",
       "  </thead>\n",
       "  <tbody>\n",
       "    <tr>\n",
       "      <th>27</th>\n",
       "      <td>Oshawa Little Theatre</td>\n",
       "      <td>62 Russett Ave</td>\n",
       "      <td>Oshawa</td>\n",
       "      <td>Theater</td>\n",
       "      <td>NaN</td>\n",
       "      <td>NaN</td>\n",
       "      <td>(905) 723-0282</td>\n",
       "    </tr>\n",
       "    <tr>\n",
       "      <th>28</th>\n",
       "      <td>Regent Theatre Ontario Tech</td>\n",
       "      <td>50 King St E</td>\n",
       "      <td>Oshawa</td>\n",
       "      <td>Theater</td>\n",
       "      <td>NaN</td>\n",
       "      <td>NaN</td>\n",
       "      <td>(905) 721-3399 ext. 2</td>\n",
       "    </tr>\n",
       "    <tr>\n",
       "      <th>29</th>\n",
       "      <td>Oshawa  Museum</td>\n",
       "      <td>1450 Simcoe St. South</td>\n",
       "      <td>Oshawa</td>\n",
       "      <td>Museum</td>\n",
       "      <td>NaN</td>\n",
       "      <td>NaN</td>\n",
       "      <td>(905) 436-7624</td>\n",
       "    </tr>\n",
       "    <tr>\n",
       "      <th>30</th>\n",
       "      <td>Oshawa Little Theater</td>\n",
       "      <td>62 Russett Ave.</td>\n",
       "      <td>Oshawa</td>\n",
       "      <td>Theater</td>\n",
       "      <td>NaN</td>\n",
       "      <td>NaN</td>\n",
       "      <td>(905) 723 0282</td>\n",
       "    </tr>\n",
       "    <tr>\n",
       "      <th>31</th>\n",
       "      <td>Parkwood Estate</td>\n",
       "      <td>270 Simcoe St. North</td>\n",
       "      <td>Oshawa</td>\n",
       "      <td>Museum</td>\n",
       "      <td>NaN</td>\n",
       "      <td>NaN</td>\n",
       "      <td>(905) 433 4311</td>\n",
       "    </tr>\n",
       "  </tbody>\n",
       "</table>\n",
       "</div>"
      ],
      "text/plain": [
       "                           name                address    city categories  \\\n",
       "27        Oshawa Little Theatre         62 Russett Ave  Oshawa    Theater   \n",
       "28  Regent Theatre Ontario Tech           50 King St E  Oshawa    Theater   \n",
       "29               Oshawa  Museum  1450 Simcoe St. South  Oshawa     Museum   \n",
       "30        Oshawa Little Theater        62 Russett Ave.  Oshawa    Theater   \n",
       "31              Parkwood Estate   270 Simcoe St. North  Oshawa     Museum   \n",
       "\n",
       "    lat  lng                  Phone  \n",
       "27  NaN  NaN         (905) 723-0282  \n",
       "28  NaN  NaN  (905) 721-3399 ext. 2  \n",
       "29  NaN  NaN         (905) 436-7624  \n",
       "30  NaN  NaN         (905) 723 0282  \n",
       "31  NaN  NaN         (905) 433 4311  "
      ]
     },
     "execution_count": 25,
     "metadata": {},
     "output_type": "execute_result"
    }
   ],
   "source": [
    "# reading in the csv file\n",
    "\n",
    "arts_df = pd.read_csv('Durham Data.csv')\n",
    "arts_df.tail()\n"
   ]
  },
  {
   "cell_type": "code",
   "execution_count": 27,
   "metadata": {
    "scrolled": false
   },
   "outputs": [
    {
     "data": {
      "text/plain": [
       "name           object\n",
       "address        object\n",
       "city           object\n",
       "categories     object\n",
       "lat           float64\n",
       "lng           float64\n",
       "Phone          object\n",
       "dtype: object"
      ]
     },
     "execution_count": 27,
     "metadata": {},
     "output_type": "execute_result"
    }
   ],
   "source": [
    "#change the data types of the lat and lng columnss to float\n",
    "arts_df[['lat','lng']] = arts_df[['lat','lng']].apply(pd.to_numeric)\n",
    "arts_df.dtypes"
   ]
  },
  {
   "cell_type": "markdown",
   "metadata": {},
   "source": [
    "### - Find the latitude and longitude for each row in the arts_df"
   ]
  },
  {
   "cell_type": "code",
   "execution_count": 29,
   "metadata": {},
   "outputs": [
    {
     "data": {
      "text/html": [
       "<div>\n",
       "<style scoped>\n",
       "    .dataframe tbody tr th:only-of-type {\n",
       "        vertical-align: middle;\n",
       "    }\n",
       "\n",
       "    .dataframe tbody tr th {\n",
       "        vertical-align: top;\n",
       "    }\n",
       "\n",
       "    .dataframe thead th {\n",
       "        text-align: right;\n",
       "    }\n",
       "</style>\n",
       "<table border=\"1\" class=\"dataframe\">\n",
       "  <thead>\n",
       "    <tr style=\"text-align: right;\">\n",
       "      <th></th>\n",
       "      <th>name</th>\n",
       "      <th>address</th>\n",
       "      <th>city</th>\n",
       "      <th>categories</th>\n",
       "      <th>lat</th>\n",
       "      <th>lng</th>\n",
       "      <th>Phone</th>\n",
       "    </tr>\n",
       "  </thead>\n",
       "  <tbody>\n",
       "    <tr>\n",
       "      <th>0</th>\n",
       "      <td>Blue Willow Studio</td>\n",
       "      <td>19 Patricia Avenue</td>\n",
       "      <td>Oshawa</td>\n",
       "      <td>Art Gallery</td>\n",
       "      <td>43.901553</td>\n",
       "      <td>-78.849534</td>\n",
       "      <td>905 435-0575</td>\n",
       "    </tr>\n",
       "    <tr>\n",
       "      <th>1</th>\n",
       "      <td>Gallery 282 Ltd</td>\n",
       "      <td>321 Northcliffe Ave</td>\n",
       "      <td>Oshawa</td>\n",
       "      <td>Art Gallery</td>\n",
       "      <td>43.917164</td>\n",
       "      <td>-78.884608</td>\n",
       "      <td>905 576-2187</td>\n",
       "    </tr>\n",
       "    <tr>\n",
       "      <th>2</th>\n",
       "      <td>Images 21 Art Studio</td>\n",
       "      <td>552 Westney Rd. N</td>\n",
       "      <td>Ajax</td>\n",
       "      <td>Art Gallery</td>\n",
       "      <td>43.868353</td>\n",
       "      <td>-79.039990</td>\n",
       "      <td>(905) 239-6363</td>\n",
       "    </tr>\n",
       "    <tr>\n",
       "      <th>3</th>\n",
       "      <td>Magic Door Art Gallery</td>\n",
       "      <td>100 River Street</td>\n",
       "      <td>Sunderland</td>\n",
       "      <td>Art Gallery</td>\n",
       "      <td>54.875990</td>\n",
       "      <td>-1.421068</td>\n",
       "      <td>(705) 357-1973</td>\n",
       "    </tr>\n",
       "    <tr>\n",
       "      <th>4</th>\n",
       "      <td>Marc Barrie Gallery</td>\n",
       "      <td>1613 7 Hwy</td>\n",
       "      <td>Brougham</td>\n",
       "      <td>Art Gallery</td>\n",
       "      <td>54.648120</td>\n",
       "      <td>-2.729612</td>\n",
       "      <td>(905) 683-7010</td>\n",
       "    </tr>\n",
       "  </tbody>\n",
       "</table>\n",
       "</div>"
      ],
      "text/plain": [
       "                     name              address        city   categories  \\\n",
       "0      Blue Willow Studio   19 Patricia Avenue      Oshawa  Art Gallery   \n",
       "1         Gallery 282 Ltd  321 Northcliffe Ave      Oshawa  Art Gallery   \n",
       "2    Images 21 Art Studio    552 Westney Rd. N        Ajax  Art Gallery   \n",
       "3  Magic Door Art Gallery     100 River Street  Sunderland  Art Gallery   \n",
       "4     Marc Barrie Gallery           1613 7 Hwy    Brougham  Art Gallery   \n",
       "\n",
       "         lat        lng           Phone  \n",
       "0  43.901553 -78.849534    905 435-0575  \n",
       "1  43.917164 -78.884608    905 576-2187  \n",
       "2  43.868353 -79.039990  (905) 239-6363  \n",
       "3  54.875990  -1.421068  (705) 357-1973  \n",
       "4  54.648120  -2.729612  (905) 683-7010  "
      ]
     },
     "execution_count": 29,
     "metadata": {},
     "output_type": "execute_result"
    }
   ],
   "source": [
    "\n",
    "# need to add the city to the address\n",
    "adds = arts_df['address'].to_list()\n",
    "cities = arts_df['city'].to_list()\n",
    "t_adds = [m+' '+n for m,n in zip(adds, cities)]\n",
    "\n",
    "# start lists for the latitude and longitude\n",
    "lat_lst =[]\n",
    "long_lst = []\n",
    "for ad in t_adds:\n",
    "    \n",
    "    lat, lng = get_lat_long(ad)\n",
    "    \n",
    "    lat_lst.append(lat)\n",
    "    long_lst.append(lng)\n",
    "\n",
    "# add the latitude and longitude to the dataframe\n",
    "arts_df['lat']= lat_lst\n",
    "arts_df['lng']= long_lst\n",
    "arts_df.head()"
   ]
  },
  {
   "cell_type": "code",
   "execution_count": 40,
   "metadata": {},
   "outputs": [
    {
     "data": {
      "text/html": [
       "<div>\n",
       "<style scoped>\n",
       "    .dataframe tbody tr th:only-of-type {\n",
       "        vertical-align: middle;\n",
       "    }\n",
       "\n",
       "    .dataframe tbody tr th {\n",
       "        vertical-align: top;\n",
       "    }\n",
       "\n",
       "    .dataframe thead th {\n",
       "        text-align: right;\n",
       "    }\n",
       "</style>\n",
       "<table border=\"1\" class=\"dataframe\">\n",
       "  <thead>\n",
       "    <tr style=\"text-align: right;\">\n",
       "      <th></th>\n",
       "      <th>name</th>\n",
       "      <th>address</th>\n",
       "      <th>city</th>\n",
       "      <th>categories</th>\n",
       "      <th>lat</th>\n",
       "      <th>lng</th>\n",
       "      <th>Phone</th>\n",
       "    </tr>\n",
       "  </thead>\n",
       "  <tbody>\n",
       "    <tr>\n",
       "      <th>0</th>\n",
       "      <td>Blue Willow Studio</td>\n",
       "      <td>19 Patricia Avenue</td>\n",
       "      <td>Oshawa</td>\n",
       "      <td>Art Gallery</td>\n",
       "      <td>43.901553</td>\n",
       "      <td>-78.849534</td>\n",
       "      <td>905 435-0575</td>\n",
       "    </tr>\n",
       "    <tr>\n",
       "      <th>1</th>\n",
       "      <td>Gallery 282 Ltd</td>\n",
       "      <td>321 Northcliffe Ave</td>\n",
       "      <td>Oshawa</td>\n",
       "      <td>Art Gallery</td>\n",
       "      <td>43.917164</td>\n",
       "      <td>-78.884608</td>\n",
       "      <td>905 576-2187</td>\n",
       "    </tr>\n",
       "    <tr>\n",
       "      <th>2</th>\n",
       "      <td>Images 21 Art Studio</td>\n",
       "      <td>552 Westney Rd. N</td>\n",
       "      <td>Ajax</td>\n",
       "      <td>Art Gallery</td>\n",
       "      <td>43.868353</td>\n",
       "      <td>-79.039990</td>\n",
       "      <td>(905) 239-6363</td>\n",
       "    </tr>\n",
       "    <tr>\n",
       "      <th>3</th>\n",
       "      <td>Magic Door Art Gallery</td>\n",
       "      <td>100 River Street</td>\n",
       "      <td>Sunderland</td>\n",
       "      <td>Art Gallery</td>\n",
       "      <td>54.875990</td>\n",
       "      <td>-1.421068</td>\n",
       "      <td>(705) 357-1973</td>\n",
       "    </tr>\n",
       "    <tr>\n",
       "      <th>4</th>\n",
       "      <td>Marc Barrie Gallery</td>\n",
       "      <td>1613 7 Hwy</td>\n",
       "      <td>Brougham</td>\n",
       "      <td>Art Gallery</td>\n",
       "      <td>54.648120</td>\n",
       "      <td>-2.729612</td>\n",
       "      <td>(905) 683-7010</td>\n",
       "    </tr>\n",
       "    <tr>\n",
       "      <th>5</th>\n",
       "      <td>Preston Gallery</td>\n",
       "      <td>77 Brock St West</td>\n",
       "      <td>Uxbridge</td>\n",
       "      <td>Art Gallery</td>\n",
       "      <td>44.108679</td>\n",
       "      <td>-79.123945</td>\n",
       "      <td>905-550-8825</td>\n",
       "    </tr>\n",
       "    <tr>\n",
       "      <th>6</th>\n",
       "      <td>Ronden Art Gallery</td>\n",
       "      <td>133 Taunton Road West</td>\n",
       "      <td>Oshawa</td>\n",
       "      <td>Art Gallery</td>\n",
       "      <td>43.931302</td>\n",
       "      <td>-78.884629</td>\n",
       "      <td>905 718 9099</td>\n",
       "    </tr>\n",
       "    <tr>\n",
       "      <th>7</th>\n",
       "      <td>The LivingRoom Community Art Studio</td>\n",
       "      <td>149 Simcoe Street South</td>\n",
       "      <td>Oshawa</td>\n",
       "      <td>Art Gallery</td>\n",
       "      <td>43.893687</td>\n",
       "      <td>-78.861618</td>\n",
       "      <td>none</td>\n",
       "    </tr>\n",
       "    <tr>\n",
       "      <th>8</th>\n",
       "      <td>The Robert McLaughlin Gallery (RMG)</td>\n",
       "      <td>72 Queen Street</td>\n",
       "      <td>Oshawa</td>\n",
       "      <td>Art Gallery</td>\n",
       "      <td>43.895721</td>\n",
       "      <td>-78.866684</td>\n",
       "      <td>(905) 576-3000</td>\n",
       "    </tr>\n",
       "    <tr>\n",
       "      <th>9</th>\n",
       "      <td>Visual Arts Centre of Clarington</td>\n",
       "      <td>143 Simpson Avenue</td>\n",
       "      <td>Bowmanville</td>\n",
       "      <td>Art Gallery</td>\n",
       "      <td>43.903348</td>\n",
       "      <td>-78.671832</td>\n",
       "      <td>(905) 623-5831</td>\n",
       "    </tr>\n",
       "    <tr>\n",
       "      <th>10</th>\n",
       "      <td>Station Gallery</td>\n",
       "      <td>1450 Henry Street</td>\n",
       "      <td>Whitby</td>\n",
       "      <td>Art Gallery</td>\n",
       "      <td>43.861444</td>\n",
       "      <td>-78.939736</td>\n",
       "      <td>(905) 668-4185</td>\n",
       "    </tr>\n",
       "    <tr>\n",
       "      <th>11</th>\n",
       "      <td>Bowmanville Museum</td>\n",
       "      <td>37 Silver St</td>\n",
       "      <td>Bowmanville</td>\n",
       "      <td>Museum</td>\n",
       "      <td>43.914519</td>\n",
       "      <td>-78.689805</td>\n",
       "      <td>(905) 623-2734</td>\n",
       "    </tr>\n",
       "    <tr>\n",
       "      <th>12</th>\n",
       "      <td>Cannington Historical Society's Centennial Museum</td>\n",
       "      <td>72 Peace Street</td>\n",
       "      <td>Cannington</td>\n",
       "      <td>Museum</td>\n",
       "      <td>44.349093</td>\n",
       "      <td>-79.034919</td>\n",
       "      <td>705 432 3136</td>\n",
       "    </tr>\n",
       "    <tr>\n",
       "      <th>13</th>\n",
       "      <td>Clarington Museums &amp; Archives</td>\n",
       "      <td>62 Temperance St</td>\n",
       "      <td>Bowmanville</td>\n",
       "      <td>Museum</td>\n",
       "      <td>43.913990</td>\n",
       "      <td>-78.688769</td>\n",
       "      <td>(905) 623-2734</td>\n",
       "    </tr>\n",
       "    <tr>\n",
       "      <th>14</th>\n",
       "      <td>Lynde House Museum &amp; Warren General Store</td>\n",
       "      <td>900 Brock Street South</td>\n",
       "      <td>Whitby</td>\n",
       "      <td>Museum</td>\n",
       "      <td>43.871501</td>\n",
       "      <td>-78.938801</td>\n",
       "      <td>(905) 665-3131</td>\n",
       "    </tr>\n",
       "    <tr>\n",
       "      <th>15</th>\n",
       "      <td>Ontario Golf Hall of Fame</td>\n",
       "      <td>40 Elgin Park Dr.</td>\n",
       "      <td>Uxbridge</td>\n",
       "      <td>Museum</td>\n",
       "      <td>44.097203</td>\n",
       "      <td>-79.117777</td>\n",
       "      <td>(905) 852-4379</td>\n",
       "    </tr>\n",
       "    <tr>\n",
       "      <th>16</th>\n",
       "      <td>Oshawa Military and Industrial Museum</td>\n",
       "      <td>1000 Stevenson Road North</td>\n",
       "      <td>Oshawa</td>\n",
       "      <td>Museum</td>\n",
       "      <td>43.916695</td>\n",
       "      <td>-78.893955</td>\n",
       "      <td>(905) 728-6199</td>\n",
       "    </tr>\n",
       "    <tr>\n",
       "      <th>17</th>\n",
       "      <td>Oshawa Sports Hall of Fame</td>\n",
       "      <td>99 Athol St E</td>\n",
       "      <td>Oshawa</td>\n",
       "      <td>Museum</td>\n",
       "      <td>43.897022</td>\n",
       "      <td>-78.859198</td>\n",
       "      <td>(905) 245-0360</td>\n",
       "    </tr>\n",
       "    <tr>\n",
       "      <th>18</th>\n",
       "      <td>Pickering Museum Village</td>\n",
       "      <td>2365 6th Concession Rd.</td>\n",
       "      <td>Greenwood</td>\n",
       "      <td>Museum</td>\n",
       "      <td>43.927077</td>\n",
       "      <td>-79.072103</td>\n",
       "      <td>(905) 683-8401</td>\n",
       "    </tr>\n",
       "    <tr>\n",
       "      <th>19</th>\n",
       "      <td>Ajax Community Theatre</td>\n",
       "      <td>78 Church Street South</td>\n",
       "      <td>Ajax</td>\n",
       "      <td>Theater</td>\n",
       "      <td>43.845407</td>\n",
       "      <td>-79.051519</td>\n",
       "      <td>(289) 892-4132</td>\n",
       "    </tr>\n",
       "    <tr>\n",
       "      <th>20</th>\n",
       "      <td>The Driftwood Theatre Group</td>\n",
       "      <td>910 Walnut Court</td>\n",
       "      <td>Oshawa</td>\n",
       "      <td>Theater</td>\n",
       "      <td>43.897956</td>\n",
       "      <td>-78.828491</td>\n",
       "      <td>(905) 576-2396</td>\n",
       "    </tr>\n",
       "    <tr>\n",
       "      <th>21</th>\n",
       "      <td>Whitby Courthouse Theatre</td>\n",
       "      <td>416 Centre Street South</td>\n",
       "      <td>Whitby</td>\n",
       "      <td>Theater</td>\n",
       "      <td>43.875286</td>\n",
       "      <td>-78.943060</td>\n",
       "      <td>(905) 668-8111</td>\n",
       "    </tr>\n",
       "    <tr>\n",
       "      <th>22</th>\n",
       "      <td>Yuk Yuk's Durham</td>\n",
       "      <td>235 Bayly St. W.</td>\n",
       "      <td>Ajax</td>\n",
       "      <td>Theater</td>\n",
       "      <td>43.841229</td>\n",
       "      <td>-79.026484</td>\n",
       "      <td>(416) 967-6425</td>\n",
       "    </tr>\n",
       "    <tr>\n",
       "      <th>23</th>\n",
       "      <td>Durham Shoestring Performers</td>\n",
       "      <td>45 Queen St</td>\n",
       "      <td>Oshawa</td>\n",
       "      <td>Theater</td>\n",
       "      <td>43.895721</td>\n",
       "      <td>-78.866684</td>\n",
       "      <td>(905) 725-9256</td>\n",
       "    </tr>\n",
       "    <tr>\n",
       "      <th>24</th>\n",
       "      <td>Oshawa Little Theatre</td>\n",
       "      <td>62 Russett Ave</td>\n",
       "      <td>Oshawa</td>\n",
       "      <td>Theater</td>\n",
       "      <td>43.929684</td>\n",
       "      <td>-78.882576</td>\n",
       "      <td>(905) 723-0282</td>\n",
       "    </tr>\n",
       "    <tr>\n",
       "      <th>25</th>\n",
       "      <td>Regent Theatre Ontario Tech</td>\n",
       "      <td>50 King St E</td>\n",
       "      <td>Oshawa</td>\n",
       "      <td>Theater</td>\n",
       "      <td>43.902832</td>\n",
       "      <td>-78.840904</td>\n",
       "      <td>(905) 721-3399 ext. 2</td>\n",
       "    </tr>\n",
       "    <tr>\n",
       "      <th>26</th>\n",
       "      <td>Oshawa  Museum</td>\n",
       "      <td>1450 Simcoe St. South</td>\n",
       "      <td>Oshawa</td>\n",
       "      <td>Museum</td>\n",
       "      <td>43.865427</td>\n",
       "      <td>-78.828968</td>\n",
       "      <td>(905) 436-7624</td>\n",
       "    </tr>\n",
       "    <tr>\n",
       "      <th>27</th>\n",
       "      <td>Oshawa Little Theater</td>\n",
       "      <td>62 Russett Ave.</td>\n",
       "      <td>Oshawa</td>\n",
       "      <td>Theater</td>\n",
       "      <td>43.929684</td>\n",
       "      <td>-78.882576</td>\n",
       "      <td>(905) 723 0282</td>\n",
       "    </tr>\n",
       "    <tr>\n",
       "      <th>28</th>\n",
       "      <td>Parkwood Estate</td>\n",
       "      <td>270 Simcoe St. North</td>\n",
       "      <td>Oshawa</td>\n",
       "      <td>Museum</td>\n",
       "      <td>43.904216</td>\n",
       "      <td>-78.867904</td>\n",
       "      <td>(905) 433 4311</td>\n",
       "    </tr>\n",
       "  </tbody>\n",
       "</table>\n",
       "</div>"
      ],
      "text/plain": [
       "                                                 name  \\\n",
       "0                                  Blue Willow Studio   \n",
       "1                                     Gallery 282 Ltd   \n",
       "2                                Images 21 Art Studio   \n",
       "3                              Magic Door Art Gallery   \n",
       "4                                 Marc Barrie Gallery   \n",
       "5                                     Preston Gallery   \n",
       "6                                  Ronden Art Gallery   \n",
       "7                 The LivingRoom Community Art Studio   \n",
       "8                 The Robert McLaughlin Gallery (RMG)   \n",
       "9                    Visual Arts Centre of Clarington   \n",
       "10                                    Station Gallery   \n",
       "11                                 Bowmanville Museum   \n",
       "12  Cannington Historical Society's Centennial Museum   \n",
       "13                      Clarington Museums & Archives   \n",
       "14          Lynde House Museum & Warren General Store   \n",
       "15                          Ontario Golf Hall of Fame   \n",
       "16              Oshawa Military and Industrial Museum   \n",
       "17                         Oshawa Sports Hall of Fame   \n",
       "18                           Pickering Museum Village   \n",
       "19                             Ajax Community Theatre   \n",
       "20                        The Driftwood Theatre Group   \n",
       "21                          Whitby Courthouse Theatre   \n",
       "22                                   Yuk Yuk's Durham   \n",
       "23                       Durham Shoestring Performers   \n",
       "24                              Oshawa Little Theatre   \n",
       "25                        Regent Theatre Ontario Tech   \n",
       "26                                     Oshawa  Museum   \n",
       "27                              Oshawa Little Theater   \n",
       "28                                    Parkwood Estate   \n",
       "\n",
       "                      address         city   categories        lat        lng  \\\n",
       "0          19 Patricia Avenue       Oshawa  Art Gallery  43.901553 -78.849534   \n",
       "1         321 Northcliffe Ave       Oshawa  Art Gallery  43.917164 -78.884608   \n",
       "2           552 Westney Rd. N         Ajax  Art Gallery  43.868353 -79.039990   \n",
       "3            100 River Street   Sunderland  Art Gallery  54.875990  -1.421068   \n",
       "4                  1613 7 Hwy     Brougham  Art Gallery  54.648120  -2.729612   \n",
       "5            77 Brock St West     Uxbridge  Art Gallery  44.108679 -79.123945   \n",
       "6       133 Taunton Road West       Oshawa  Art Gallery  43.931302 -78.884629   \n",
       "7     149 Simcoe Street South       Oshawa  Art Gallery  43.893687 -78.861618   \n",
       "8             72 Queen Street       Oshawa  Art Gallery  43.895721 -78.866684   \n",
       "9          143 Simpson Avenue  Bowmanville  Art Gallery  43.903348 -78.671832   \n",
       "10          1450 Henry Street       Whitby  Art Gallery  43.861444 -78.939736   \n",
       "11               37 Silver St  Bowmanville       Museum  43.914519 -78.689805   \n",
       "12            72 Peace Street   Cannington       Museum  44.349093 -79.034919   \n",
       "13           62 Temperance St  Bowmanville       Museum  43.913990 -78.688769   \n",
       "14     900 Brock Street South       Whitby       Museum  43.871501 -78.938801   \n",
       "15          40 Elgin Park Dr.     Uxbridge       Museum  44.097203 -79.117777   \n",
       "16  1000 Stevenson Road North       Oshawa       Museum  43.916695 -78.893955   \n",
       "17              99 Athol St E       Oshawa       Museum  43.897022 -78.859198   \n",
       "18    2365 6th Concession Rd.    Greenwood       Museum  43.927077 -79.072103   \n",
       "19     78 Church Street South         Ajax      Theater  43.845407 -79.051519   \n",
       "20           910 Walnut Court       Oshawa      Theater  43.897956 -78.828491   \n",
       "21    416 Centre Street South       Whitby      Theater  43.875286 -78.943060   \n",
       "22           235 Bayly St. W.         Ajax      Theater  43.841229 -79.026484   \n",
       "23                45 Queen St       Oshawa      Theater  43.895721 -78.866684   \n",
       "24             62 Russett Ave       Oshawa      Theater  43.929684 -78.882576   \n",
       "25               50 King St E       Oshawa      Theater  43.902832 -78.840904   \n",
       "26      1450 Simcoe St. South       Oshawa       Museum  43.865427 -78.828968   \n",
       "27            62 Russett Ave.       Oshawa      Theater  43.929684 -78.882576   \n",
       "28       270 Simcoe St. North       Oshawa       Museum  43.904216 -78.867904   \n",
       "\n",
       "                    Phone  \n",
       "0            905 435-0575  \n",
       "1            905 576-2187  \n",
       "2          (905) 239-6363  \n",
       "3          (705) 357-1973  \n",
       "4          (905) 683-7010  \n",
       "5            905-550-8825  \n",
       "6            905 718 9099  \n",
       "7                    none  \n",
       "8          (905) 576-3000  \n",
       "9          (905) 623-5831  \n",
       "10         (905) 668-4185  \n",
       "11         (905) 623-2734  \n",
       "12           705 432 3136  \n",
       "13         (905) 623-2734  \n",
       "14         (905) 665-3131  \n",
       "15         (905) 852-4379  \n",
       "16         (905) 728-6199  \n",
       "17         (905) 245-0360  \n",
       "18         (905) 683-8401  \n",
       "19         (289) 892-4132  \n",
       "20         (905) 576-2396  \n",
       "21         (905) 668-8111  \n",
       "22         (416) 967-6425  \n",
       "23         (905) 725-9256  \n",
       "24         (905) 723-0282  \n",
       "25  (905) 721-3399 ext. 2  \n",
       "26         (905) 436-7624  \n",
       "27         (905) 723 0282  \n",
       "28         (905) 433 4311  "
      ]
     },
     "execution_count": 40,
     "metadata": {},
     "output_type": "execute_result"
    }
   ],
   "source": [
    "#if any address did not return coordinants, remove any NaN entries\n",
    "arts_df.dropna(subset = ['lat','lng'], inplace = True)\n",
    "arts_df.reset_index(drop=True, inplace = True)\n",
    "arts_df"
   ]
  },
  {
   "cell_type": "markdown",
   "metadata": {},
   "source": [
    "### - We now have 29 venues"
   ]
  },
  {
   "cell_type": "code",
   "execution_count": 41,
   "metadata": {},
   "outputs": [
    {
     "name": "stdout",
     "output_type": "stream",
     "text": [
      "done\n"
     ]
    }
   ],
   "source": [
    "# save the dataframe to a csv file so it can be used in future codes\n",
    "\n",
    "arts_df.to_csv('arts_venues_data.csv')\n",
    "print('done')"
   ]
  },
  {
   "cell_type": "markdown",
   "metadata": {},
   "source": [
    "# 2. Visualizing the Data"
   ]
  },
  {
   "cell_type": "markdown",
   "metadata": {},
   "source": [
    "### - How many communities have venues"
   ]
  },
  {
   "cell_type": "code",
   "execution_count": 8,
   "metadata": {},
   "outputs": [
    {
     "name": "stdout",
     "output_type": "stream",
     "text": [
      "number of communities:  10\n",
      "communities are:  ['Oshawa' 'Ajax' 'Sunderland' 'Brougham' 'Uxbridge' 'Bowmanville' 'Whitby'\n",
      " 'Cannington' 'Orono' 'Greenwood']\n"
     ]
    }
   ],
   "source": [
    "coms = arts_df['city'].unique()\n",
    "print('number of communities: ', len(coms))\n",
    "print('communities are: ', coms)\n"
   ]
  },
  {
   "cell_type": "markdown",
   "metadata": {},
   "source": [
    "### - How many venues for each community"
   ]
  },
  {
   "cell_type": "code",
   "execution_count": 9,
   "metadata": {},
   "outputs": [
    {
     "data": {
      "text/html": [
       "<div>\n",
       "<style scoped>\n",
       "    .dataframe tbody tr th:only-of-type {\n",
       "        vertical-align: middle;\n",
       "    }\n",
       "\n",
       "    .dataframe tbody tr th {\n",
       "        vertical-align: top;\n",
       "    }\n",
       "\n",
       "    .dataframe thead th {\n",
       "        text-align: right;\n",
       "    }\n",
       "</style>\n",
       "<table border=\"1\" class=\"dataframe\">\n",
       "  <thead>\n",
       "    <tr style=\"text-align: right;\">\n",
       "      <th></th>\n",
       "      <th>city</th>\n",
       "      <th>counts</th>\n",
       "    </tr>\n",
       "  </thead>\n",
       "  <tbody>\n",
       "    <tr>\n",
       "      <th>0</th>\n",
       "      <td>Ajax</td>\n",
       "      <td>3</td>\n",
       "    </tr>\n",
       "    <tr>\n",
       "      <th>1</th>\n",
       "      <td>Bowmanville</td>\n",
       "      <td>3</td>\n",
       "    </tr>\n",
       "    <tr>\n",
       "      <th>2</th>\n",
       "      <td>Brougham</td>\n",
       "      <td>1</td>\n",
       "    </tr>\n",
       "    <tr>\n",
       "      <th>3</th>\n",
       "      <td>Cannington</td>\n",
       "      <td>1</td>\n",
       "    </tr>\n",
       "    <tr>\n",
       "      <th>4</th>\n",
       "      <td>Greenwood</td>\n",
       "      <td>1</td>\n",
       "    </tr>\n",
       "    <tr>\n",
       "      <th>5</th>\n",
       "      <td>Orono</td>\n",
       "      <td>1</td>\n",
       "    </tr>\n",
       "    <tr>\n",
       "      <th>6</th>\n",
       "      <td>Oshawa</td>\n",
       "      <td>16</td>\n",
       "    </tr>\n",
       "    <tr>\n",
       "      <th>7</th>\n",
       "      <td>Sunderland</td>\n",
       "      <td>1</td>\n",
       "    </tr>\n",
       "    <tr>\n",
       "      <th>8</th>\n",
       "      <td>Uxbridge</td>\n",
       "      <td>2</td>\n",
       "    </tr>\n",
       "    <tr>\n",
       "      <th>9</th>\n",
       "      <td>Whitby</td>\n",
       "      <td>3</td>\n",
       "    </tr>\n",
       "  </tbody>\n",
       "</table>\n",
       "</div>"
      ],
      "text/plain": [
       "          city  counts\n",
       "0         Ajax       3\n",
       "1  Bowmanville       3\n",
       "2     Brougham       1\n",
       "3   Cannington       1\n",
       "4    Greenwood       1\n",
       "5        Orono       1\n",
       "6       Oshawa      16\n",
       "7   Sunderland       1\n",
       "8     Uxbridge       2\n",
       "9       Whitby       3"
      ]
     },
     "execution_count": 9,
     "metadata": {},
     "output_type": "execute_result"
    }
   ],
   "source": [
    "grp_df = arts_df.groupby('city'). size().reset_index(name = 'counts')\n",
    "grp_df"
   ]
  },
  {
   "cell_type": "code",
   "execution_count": 10,
   "metadata": {},
   "outputs": [],
   "source": [
    "import matplotlib.pyplot as plt\n",
    "%matplotlib inline"
   ]
  },
  {
   "cell_type": "code",
   "execution_count": 11,
   "metadata": {},
   "outputs": [
    {
     "data": {
      "image/png": "[encoded data removed]",
      "text/plain": [
       "<Figure size 432x288 with 1 Axes>"
      ]
     },
     "metadata": {
      "needs_background": "light"
     },
     "output_type": "display_data"
    }
   ],
   "source": [
    "plt.bar(grp_df['city'], grp_df['counts'])\n",
    "plt.title('Art and Culture Venues by Community')\n",
    "plt.xlabel('Communities')\n",
    "plt.ylabel('Number of venues')\n",
    "plt.xticks(\n",
    "    rotation=45, \n",
    "    horizontalalignment='right'\n",
    ")\n",
    "\n",
    "plt.show()"
   ]
  },
  {
   "cell_type": "markdown",
   "metadata": {},
   "source": [
    "\n",
    "# 3. Creating the Map"
   ]
  },
  {
   "cell_type": "markdown",
   "metadata": {},
   "source": [
    "### - Find a central point for Durham"
   ]
  },
  {
   "cell_type": "code",
   "execution_count": 32,
   "metadata": {},
   "outputs": [
    {
     "data": {
      "text/plain": [
       "Location(Durham, Oshawa, Durham Region, Golden Horseshoe, Ontario, Canada, (44.0338942, -78.86978798748362, 0.0))"
      ]
     },
     "execution_count": 32,
     "metadata": {},
     "output_type": "execute_result"
    }
   ],
   "source": [
    "locator=Nominatim(user_agent='dh_explorer')\n",
    "Durham_location = locator.geocode('Durham,Ontario,Canada')\n",
    "Durham_location"
   ]
  },
  {
   "cell_type": "code",
   "execution_count": 33,
   "metadata": {},
   "outputs": [
    {
     "name": "stdout",
     "output_type": "stream",
     "text": [
      "44.0338942 -78.86978798748362\n"
     ]
    }
   ],
   "source": [
    "D_lat = Durham_location.latitude\n",
    "D_lon= Durham_location.longitude\n",
    "print(D_lat, D_lon)"
   ]
  },
  {
   "cell_type": "markdown",
   "metadata": {},
   "source": [
    "### - Instantiate map of Durham"
   ]
  },
  {
   "cell_type": "code",
   "execution_count": 34,
   "metadata": {},
   "outputs": [],
   "source": [
    "map_durham = folium.Map(location=[D_lat, D_lon], \n",
    "                        zoom_start =9,\n",
    "                       )"
   ]
  },
  {
   "cell_type": "markdown",
   "metadata": {},
   "source": [
    "### - Add legend from picture file"
   ]
  },
  {
   "cell_type": "code",
   "execution_count": 35,
   "metadata": {},
   "outputs": [
    {
     "data": {
      "text/plain": [
       "<folium.plugins.float_image.FloatImage at 0x26603987430>"
      ]
     },
     "execution_count": 35,
     "metadata": {},
     "output_type": "execute_result"
    }
   ],
   "source": [
    "from folium.plugins import FloatImage\n",
    "image_file = 'legend.PNG'\n",
    "\n",
    "FloatImage(image_file, bottom=75, left=80).add_to(map_durham)\n"
   ]
  },
  {
   "cell_type": "markdown",
   "metadata": {},
   "source": [
    "### - Add a title"
   ]
  },
  {
   "cell_type": "code",
   "execution_count": 36,
   "metadata": {},
   "outputs": [
    {
     "data": {
      "text/plain": [
       "<branca.element.Element at 0x266039876d0>"
      ]
     },
     "execution_count": 36,
     "metadata": {},
     "output_type": "execute_result"
    }
   ],
   "source": [
    "loc = 'Durham Art and Culture Venues'\n",
    "title_html = '''\n",
    "             <h3 align=\"center\" style=\"font-size:18px\"><b>{}</b></h3>\n",
    "             '''.format(loc)   \n",
    "\n",
    "map_durham.get_root().html.add_child(folium.Element(title_html))\n"
   ]
  },
  {
   "cell_type": "markdown",
   "metadata": {},
   "source": [
    "### - Add the markers with the popup labels"
   ]
  },
  {
   "cell_type": "code",
   "execution_count": 39,
   "metadata": {
    "scrolled": false
   },
   "outputs": [
    {
     "name": "stdout",
     "output_type": "stream",
     "text": [
      "29\n"
     ]
    },
    {
     "data": {
      "text/html": [
       "<div style=\"width:100%;\"><div style=\"position:relative;width:100%;height:0;padding-bottom:60%;\"><span style=\"color:#565656\">Make this Notebook Trusted to load map: File -> Trust Notebook</span><iframe src=\"about:blank\" style=\"position:absolute;width:100%;height:100%;left:0;top:0;border:none !important;\" data-html=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 onload=\"this.contentDocument.open();this.contentDocument.write(atob(this.getAttribute('data-html')));this.contentDocument.close();\" allowfullscreen webkitallowfullscreen mozallowfullscreen></iframe></div></div>"
      ],
      "text/plain": [
       "<folium.folium.Map at 0x266039871f0>"
      ]
     },
     "execution_count": 39,
     "metadata": {},
     "output_type": "execute_result"
    }
   ],
   "source": [
    "# add markers\n",
    "count = 0\n",
    "for lat, lng, name, address, cat, city, phone in zip(arts_df['lat'], \n",
    "                                                     arts_df['lng'],\n",
    "                                                     arts_df['name'],\n",
    "                                                     arts_df['address'],\n",
    "                                                     arts_df['categories'],\n",
    "                                                     arts_df['city'],\n",
    "                                                     arts_df['Phone']):\n",
    "    \n",
    "    #create the text for the popup labels\n",
    "    if phone == 'none': #there is no phone number\n",
    "        lab='''{},<br>\n",
    "        {}, {}'''.format(name, address, city)\n",
    "        \n",
    "    else: #there is a phone number\n",
    "        lab='''{},<br>\n",
    "        {}, {}<br>\n",
    "        {}'''.format(name, address, city, phone)\n",
    "    \n",
    "    iframe = folium.IFrame(lab,\n",
    "                       width=150,\n",
    "                       height=150)\n",
    "    \n",
    "    popup = folium.Popup(iframe,\n",
    "                     max_width=200)\n",
    "    \n",
    "    #select the colours for the icons\n",
    "    if cat == 'Art Gallery':\n",
    "        colour = 'blue'\n",
    "    elif cat == 'Museum':\n",
    "        colour = 'red'\n",
    "    else: #only Theater left\n",
    "        colour = 'green'\n",
    "   \n",
    "    #create and add each marker\n",
    "    folium.Marker(\n",
    "        [lat, lng],\n",
    "        radius = 5,\n",
    "        popup = popup,\n",
    "        icon=folium.Icon(color=colour,icon = 'fa-asterisk', prefix ='fa'),\n",
    "        parse_html = False).add_to(map_durham)\n",
    "    count += 1\n",
    "print(count)\n",
    "map_durham"
   ]
  },
  {
   "cell_type": "markdown",
   "metadata": {},
   "source": [
    "### Above map may not show the legend in the npviewer"
   ]
  },
  {
   "cell_type": "markdown",
   "metadata": {},
   "source": [
    "### - Convert map to HTML file"
   ]
  },
  {
   "cell_type": "code",
   "execution_count": 55,
   "metadata": {},
   "outputs": [
    {
     "name": "stdout",
     "output_type": "stream",
     "text": [
      "done\n"
     ]
    }
   ],
   "source": [
    "map_durham.save(outfile = 'Durham map.html')\n",
    "print('done')"
   ]
  },
  {
   "cell_type": "code",
   "execution_count": null,
   "metadata": {},
   "outputs": [],
   "source": []
  }
 ],
 "metadata": {
  "kernelspec": {
   "display_name": "Python 3",
   "language": "python",
   "name": "python3"
  },
  "language_info": {
   "codemirror_mode": {
    "name": "ipython",
    "version": 3
   },
   "file_extension": ".py",
   "mimetype": "text/x-python",
   "name": "python",
   "nbconvert_exporter": "python",
   "pygments_lexer": "ipython3",
   "version": "3.8.3"
  }
 },
 "nbformat": 4,
 "nbformat_minor": 1
}
