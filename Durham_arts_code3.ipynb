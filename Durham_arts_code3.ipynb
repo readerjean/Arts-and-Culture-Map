{
 "cells": [
  {
   "cell_type": "markdown",
   "metadata": {},
   "source": [
    "## Durham Arts and Culture Venues\n",
    "> Making people aware of the possibilities for cultural activities in an area is always an ongoing problem. I work with the local Historical Society here in Whitby, Durham Region, Ontario, Canada. We want to put an interactive map on our website that shows the location of our museum and other museums, art galleries, and live theater venues in Durham region. \n",
    "\n",
    "### 1. Data Collection\n",
    "> By far the most time consuming part of the project. Foursquare did not provide enough venues of the categories we needed so a web search for more venues was necessary.  \n",
    "> The categories used were Museum, Art Gallery, and Theater.\n",
    "> The venue data was stored in a CSV file, read into a dataframe, and the longitudes and latitudes were added. \n",
    "\n",
    "### 2. Visualizing the Data\n",
    "> Once the data was collected and cleaned it was looked at to see how many communities had venues, and how many venues each community had.\n",
    "\n",
    "### 3. Creating the Map \n",
    "> The map has 29 locations marked on it. Each location has a popup label that lists the name, the address, and the phone number of the venue or organization. As well the markers are colour coded for each venue category and there is a legend for that.  \n",
    "\n"
   ]
  },
  {
   "cell_type": "code",
   "execution_count": 1,
   "metadata": {},
   "outputs": [
    {
     "name": "stdout",
     "output_type": "stream",
     "text": [
      "Requirement already satisfied: geopy in c:\\programdata\\anaconda3\\lib\\site-packages (2.0.0)\n",
      "Requirement already satisfied: geographiclib<2,>=1.49 in c:\\programdata\\anaconda3\\lib\\site-packages (from geopy) (1.50)\n",
      "Requirement already satisfied: folium in c:\\programdata\\anaconda3\\lib\\site-packages (0.11.0)\n",
      "Requirement already satisfied: branca>=0.3.0 in c:\\programdata\\anaconda3\\lib\\site-packages (from folium) (0.4.1)\n",
      "Requirement already satisfied: numpy in c:\\programdata\\anaconda3\\lib\\site-packages (from folium) (1.18.5)\n",
      "Requirement already satisfied: jinja2>=2.9 in c:\\programdata\\anaconda3\\lib\\site-packages (from folium) (2.11.2)\n",
      "Requirement already satisfied: requests in c:\\programdata\\anaconda3\\lib\\site-packages (from folium) (2.24.0)\n",
      "Requirement already satisfied: MarkupSafe>=0.23 in c:\\programdata\\anaconda3\\lib\\site-packages (from jinja2>=2.9->folium) (1.1.1)\n",
      "Requirement already satisfied: urllib3!=1.25.0,!=1.25.1,<1.26,>=1.21.1 in c:\\programdata\\anaconda3\\lib\\site-packages (from requests->folium) (1.25.9)\n",
      "Requirement already satisfied: chardet<4,>=3.0.2 in c:\\programdata\\anaconda3\\lib\\site-packages (from requests->folium) (3.0.4)\n",
      "Requirement already satisfied: certifi>=2017.4.17 in c:\\programdata\\anaconda3\\lib\\site-packages (from requests->folium) (2020.6.20)\n",
      "Requirement already satisfied: idna<3,>=2.5 in c:\\programdata\\anaconda3\\lib\\site-packages (from requests->folium) (2.10)\n",
      "imports done\n"
     ]
    }
   ],
   "source": [
    "\n",
    "#!pip install geopandas\n",
    "!pip install geopy\n",
    "import requests\n",
    "from geopy.geocoders import Nominatim\n",
    "\n",
    "import types\n",
    "import pandas as pd\n",
    "\n",
    "import numpy as np\n",
    "!pip install folium\n",
    "import folium\n",
    "import csv\n",
    "from pandas import json_normalize #transform json file into a dataframe\n",
    "\n",
    "print('imports done')\n"
   ]
  },
  {
   "cell_type": "markdown",
   "metadata": {},
   "source": [
    "## 1. Data Collection\n",
    "### - The Municipalities in Durham\n",
    "> There are eight municipalities. These will be used as the centers for collecting venues from Foursquare."
   ]
  },
  {
   "cell_type": "code",
   "execution_count": 2,
   "metadata": {},
   "outputs": [],
   "source": [
    "municipalities = ['Ajax Ontario Canada',\n",
    "                  'Brock Ontario Canada',\n",
    "                  'Clarington Ontario Canada',\n",
    "                  'Oshawa Ontario Canada',\n",
    "                  'Pickering Ontario Canada',\n",
    "                  'Scugog Ontario Canada',\n",
    "                  'Uxbridge Ontario Canada',\n",
    "                  'Whitby Ontario Canada']\n"
   ]
  },
  {
   "cell_type": "markdown",
   "metadata": {},
   "source": [
    "#### A short function to retrieve the latitude and longitude for 1 address"
   ]
  },
  {
   "cell_type": "code",
   "execution_count": 2,
   "metadata": {},
   "outputs": [],
   "source": [
    "# create a locator object\n",
    "locator = Nominatim(user_agent='myGeocoder')\n",
    "\n",
    "def get_lat_long(address):\n",
    "    location = locator.geocode(address)\n",
    "    if location != None:\n",
    "        lat = location.latitude\n",
    "        lon = location.longitude\n",
    "    else:\n",
    "        lat = np.nan\n",
    "        lon = np.nan\n",
    "    return lat, lon\n"
   ]
  },
  {
   "cell_type": "markdown",
   "metadata": {},
   "source": [
    "#### Get the longitude and latitude of the eight municipalities"
   ]
  },
  {
   "cell_type": "code",
   "execution_count": 4,
   "metadata": {},
   "outputs": [
    {
     "data": {
      "text/plain": [
       "[['Ajax Ontario Canada', 43.850374, -79.024658],\n",
       " ['Brock Ontario Canada', 44.347685049999995, -79.10016490761303],\n",
       " ['Clarington Ontario Canada', 43.96868585, -78.65135738273909],\n",
       " ['Oshawa Ontario Canada', 43.91768, -78.862953],\n",
       " ['Pickering Ontario Canada', 43.835765, -79.090576],\n",
       " ['Scugog Ontario Canada', 44.1150554, -78.90598875892695],\n",
       " ['Uxbridge Ontario Canada', 44.1088502, -79.1226768],\n",
       " ['Whitby Ontario Canada', 43.899871, -78.940201]]"
      ]
     },
     "execution_count": 4,
     "metadata": {},
     "output_type": "execute_result"
    }
   ],
   "source": [
    "municipalities_locations = []\n",
    "for m in municipalities:\n",
    "    lat, lon = get_lat_long(m)\n",
    "    municipalities_locations.append([m, lat, lon])\n",
    "municipalities_locations"
   ]
  },
  {
   "cell_type": "markdown",
   "metadata": {},
   "source": [
    "#### Build a database of venues for all the municipalities"
   ]
  },
  {
   "cell_type": "code",
   "execution_count": 5,
   "metadata": {},
   "outputs": [
    {
     "data": {
      "text/plain": [
       "(429, 24)"
      ]
     },
     "execution_count": 5,
     "metadata": {},
     "output_type": "execute_result"
    }
   ],
   "source": [
    "\n",
    "# define foursquare arguments \n",
    "client_id ='XXX'\n",
    "client_secret = 'XXX'\n",
    "version = '20180605'\n",
    "limit = 100\n",
    "radius = 5000\n",
    "\n",
    "#create an empty dataframe\n",
    "municipalities_venues = pd.DataFrame()\n",
    "\n",
    "for lst in municipalities_locations:\n",
    "    url = 'https://api.foursquare.com/v2/venues/explore?&client_id={}&client_secret={}&v={}&ll={},{}&radius={}&limit={}'.format(\n",
    "        client_id,\n",
    "        client_secret,\n",
    "        version,\n",
    "        lst[1],\n",
    "        lst[2],\n",
    "        radius,\n",
    "        limit)\n",
    "    results = requests.get(url).json()\n",
    "    #extract the items\n",
    "    venues = results['response']['groups'][0]['items']\n",
    "    #create dataframe\n",
    "    one_m_venues = json_normalize(venues)\n",
    "    #add the new dataframe to the collector dataframe\n",
    "    municipalities_venues = pd.concat([municipalities_venues,one_m_venues], axis=0)\n",
    "\n",
    "municipalities_venues.shape \n"
   ]
  },
  {
   "cell_type": "markdown",
   "metadata": {},
   "source": [
    "### - Extract the Relevant Columns"
   ]
  },
  {
   "cell_type": "code",
   "execution_count": 6,
   "metadata": {
    "scrolled": true
   },
   "outputs": [
    {
     "name": "stdout",
     "output_type": "stream",
     "text": [
      "Index(['referralId', 'reasons.count', 'reasons.items', 'venue.id',\n",
      "       'venue.name', 'venue.location.address', 'venue.location.lat',\n",
      "       'venue.location.lng', 'venue.location.labeledLatLngs',\n",
      "       'venue.location.distance', 'venue.location.postalCode',\n",
      "       'venue.location.cc', 'venue.location.city', 'venue.location.state',\n",
      "       'venue.location.country', 'venue.location.formattedAddress',\n",
      "       'venue.categories', 'venue.photos.count', 'venue.photos.groups',\n",
      "       'venue.venuePage.id', 'venue.location.crossStreet',\n",
      "       'venue.events.count', 'venue.events.summary',\n",
      "       'venue.location.neighborhood'],\n",
      "      dtype='object')\n"
     ]
    }
   ],
   "source": [
    "print(municipalities_venues.columns)"
   ]
  },
  {
   "cell_type": "code",
   "execution_count": 7,
   "metadata": {},
   "outputs": [
    {
     "data": {
      "text/html": [
       "<div>\n",
       "<style scoped>\n",
       "    .dataframe tbody tr th:only-of-type {\n",
       "        vertical-align: middle;\n",
       "    }\n",
       "\n",
       "    .dataframe tbody tr th {\n",
       "        vertical-align: top;\n",
       "    }\n",
       "\n",
       "    .dataframe thead th {\n",
       "        text-align: right;\n",
       "    }\n",
       "</style>\n",
       "<table border=\"1\" class=\"dataframe\">\n",
       "  <thead>\n",
       "    <tr style=\"text-align: right;\">\n",
       "      <th></th>\n",
       "      <th>venue.name</th>\n",
       "      <th>venue.location.address</th>\n",
       "      <th>venue.location.city</th>\n",
       "      <th>venue.categories</th>\n",
       "      <th>venue.location.lat</th>\n",
       "      <th>venue.location.lng</th>\n",
       "    </tr>\n",
       "  </thead>\n",
       "  <tbody>\n",
       "    <tr>\n",
       "      <th>0</th>\n",
       "      <td>Debbie's Boutique Cafe</td>\n",
       "      <td>94 Harwood Avenue South</td>\n",
       "      <td>Ajax</td>\n",
       "      <td>[{'id': '4bf58dd8d48988d16d941735', 'name': 'C...</td>\n",
       "      <td>43.850183</td>\n",
       "      <td>-79.021350</td>\n",
       "    </tr>\n",
       "    <tr>\n",
       "      <th>1</th>\n",
       "      <td>Retro Burger</td>\n",
       "      <td>105 Bayly St W</td>\n",
       "      <td>Ajax</td>\n",
       "      <td>[{'id': '4bf58dd8d48988d16c941735', 'name': 'B...</td>\n",
       "      <td>43.842269</td>\n",
       "      <td>-79.021905</td>\n",
       "    </tr>\n",
       "    <tr>\n",
       "      <th>2</th>\n",
       "      <td>Portly Piper</td>\n",
       "      <td>235 Bayly St W</td>\n",
       "      <td>Ajax</td>\n",
       "      <td>[{'id': '4bf58dd8d48988d157941735', 'name': 'N...</td>\n",
       "      <td>43.841323</td>\n",
       "      <td>-79.026583</td>\n",
       "    </tr>\n",
       "    <tr>\n",
       "      <th>3</th>\n",
       "      <td>Life Time Athletic</td>\n",
       "      <td>100 Beck Crescent</td>\n",
       "      <td>Ajax</td>\n",
       "      <td>[{'id': '4bf58dd8d48988d176941735', 'name': 'G...</td>\n",
       "      <td>43.859315</td>\n",
       "      <td>-79.013105</td>\n",
       "    </tr>\n",
       "    <tr>\n",
       "      <th>4</th>\n",
       "      <td>Mexico Lindo</td>\n",
       "      <td>200 Harwood Avenue</td>\n",
       "      <td>Ajax</td>\n",
       "      <td>[{'id': '4bf58dd8d48988d1c1941735', 'name': 'M...</td>\n",
       "      <td>43.848601</td>\n",
       "      <td>-79.021804</td>\n",
       "    </tr>\n",
       "  </tbody>\n",
       "</table>\n",
       "</div>"
      ],
      "text/plain": [
       "               venue.name   venue.location.address venue.location.city  \\\n",
       "0  Debbie's Boutique Cafe  94 Harwood Avenue South                Ajax   \n",
       "1            Retro Burger           105 Bayly St W                Ajax   \n",
       "2            Portly Piper           235 Bayly St W                Ajax   \n",
       "3      Life Time Athletic        100 Beck Crescent                Ajax   \n",
       "4            Mexico Lindo       200 Harwood Avenue                Ajax   \n",
       "\n",
       "                                    venue.categories  venue.location.lat  \\\n",
       "0  [{'id': '4bf58dd8d48988d16d941735', 'name': 'C...           43.850183   \n",
       "1  [{'id': '4bf58dd8d48988d16c941735', 'name': 'B...           43.842269   \n",
       "2  [{'id': '4bf58dd8d48988d157941735', 'name': 'N...           43.841323   \n",
       "3  [{'id': '4bf58dd8d48988d176941735', 'name': 'G...           43.859315   \n",
       "4  [{'id': '4bf58dd8d48988d1c1941735', 'name': 'M...           43.848601   \n",
       "\n",
       "   venue.location.lng  \n",
       "0          -79.021350  \n",
       "1          -79.021905  \n",
       "2          -79.026583  \n",
       "3          -79.013105  \n",
       "4          -79.021804  "
      ]
     },
     "execution_count": 7,
     "metadata": {},
     "output_type": "execute_result"
    }
   ],
   "source": [
    "filter_col=['venue.name','venue.location.address','venue.location.city','venue.categories','venue.location.lat','venue.location.lng']\n",
    "municipalities_venues = municipalities_venues.loc[:,filter_col]\n",
    "municipalities_venues.head()"
   ]
  },
  {
   "cell_type": "markdown",
   "metadata": {},
   "source": [
    "### - Get the categories of each venue"
   ]
  },
  {
   "cell_type": "code",
   "execution_count": 8,
   "metadata": {},
   "outputs": [],
   "source": [
    "#function that extracts the category of the venue\n",
    "def get_category_type(row):\n",
    "    try:\n",
    "        categories_list=row['categories']\n",
    "    except:\n",
    "        categories_list = row['venue.categories']\n",
    "    if len(categories_list)==0:\n",
    "        return None\n",
    "    else:\n",
    "        return categories_list[0]['name']"
   ]
  },
  {
   "cell_type": "code",
   "execution_count": 9,
   "metadata": {},
   "outputs": [
    {
     "data": {
      "text/html": [
       "<div>\n",
       "<style scoped>\n",
       "    .dataframe tbody tr th:only-of-type {\n",
       "        vertical-align: middle;\n",
       "    }\n",
       "\n",
       "    .dataframe tbody tr th {\n",
       "        vertical-align: top;\n",
       "    }\n",
       "\n",
       "    .dataframe thead th {\n",
       "        text-align: right;\n",
       "    }\n",
       "</style>\n",
       "<table border=\"1\" class=\"dataframe\">\n",
       "  <thead>\n",
       "    <tr style=\"text-align: right;\">\n",
       "      <th></th>\n",
       "      <th>venue.name</th>\n",
       "      <th>venue.location.address</th>\n",
       "      <th>venue.location.city</th>\n",
       "      <th>venue.categories</th>\n",
       "      <th>venue.location.lat</th>\n",
       "      <th>venue.location.lng</th>\n",
       "    </tr>\n",
       "  </thead>\n",
       "  <tbody>\n",
       "    <tr>\n",
       "      <th>0</th>\n",
       "      <td>Debbie's Boutique Cafe</td>\n",
       "      <td>94 Harwood Avenue South</td>\n",
       "      <td>Ajax</td>\n",
       "      <td>Café</td>\n",
       "      <td>43.850183</td>\n",
       "      <td>-79.021350</td>\n",
       "    </tr>\n",
       "    <tr>\n",
       "      <th>1</th>\n",
       "      <td>Retro Burger</td>\n",
       "      <td>105 Bayly St W</td>\n",
       "      <td>Ajax</td>\n",
       "      <td>Burger Joint</td>\n",
       "      <td>43.842269</td>\n",
       "      <td>-79.021905</td>\n",
       "    </tr>\n",
       "    <tr>\n",
       "      <th>2</th>\n",
       "      <td>Portly Piper</td>\n",
       "      <td>235 Bayly St W</td>\n",
       "      <td>Ajax</td>\n",
       "      <td>New American Restaurant</td>\n",
       "      <td>43.841323</td>\n",
       "      <td>-79.026583</td>\n",
       "    </tr>\n",
       "    <tr>\n",
       "      <th>3</th>\n",
       "      <td>Life Time Athletic</td>\n",
       "      <td>100 Beck Crescent</td>\n",
       "      <td>Ajax</td>\n",
       "      <td>Gym</td>\n",
       "      <td>43.859315</td>\n",
       "      <td>-79.013105</td>\n",
       "    </tr>\n",
       "    <tr>\n",
       "      <th>4</th>\n",
       "      <td>Mexico Lindo</td>\n",
       "      <td>200 Harwood Avenue</td>\n",
       "      <td>Ajax</td>\n",
       "      <td>Mexican Restaurant</td>\n",
       "      <td>43.848601</td>\n",
       "      <td>-79.021804</td>\n",
       "    </tr>\n",
       "  </tbody>\n",
       "</table>\n",
       "</div>"
      ],
      "text/plain": [
       "               venue.name   venue.location.address venue.location.city  \\\n",
       "0  Debbie's Boutique Cafe  94 Harwood Avenue South                Ajax   \n",
       "1            Retro Burger           105 Bayly St W                Ajax   \n",
       "2            Portly Piper           235 Bayly St W                Ajax   \n",
       "3      Life Time Athletic        100 Beck Crescent                Ajax   \n",
       "4            Mexico Lindo       200 Harwood Avenue                Ajax   \n",
       "\n",
       "          venue.categories  venue.location.lat  venue.location.lng  \n",
       "0                     Café           43.850183          -79.021350  \n",
       "1             Burger Joint           43.842269          -79.021905  \n",
       "2  New American Restaurant           43.841323          -79.026583  \n",
       "3                      Gym           43.859315          -79.013105  \n",
       "4       Mexican Restaurant           43.848601          -79.021804  "
      ]
     },
     "execution_count": 9,
     "metadata": {},
     "output_type": "execute_result"
    }
   ],
   "source": [
    "#unpack the categories\n",
    "municipalities_venues['venue.categories']=municipalities_venues.apply(get_category_type, axis=1)\n",
    "municipalities_venues.head()"
   ]
  },
  {
   "cell_type": "code",
   "execution_count": 10,
   "metadata": {},
   "outputs": [
    {
     "data": {
      "text/html": [
       "<div>\n",
       "<style scoped>\n",
       "    .dataframe tbody tr th:only-of-type {\n",
       "        vertical-align: middle;\n",
       "    }\n",
       "\n",
       "    .dataframe tbody tr th {\n",
       "        vertical-align: top;\n",
       "    }\n",
       "\n",
       "    .dataframe thead th {\n",
       "        text-align: right;\n",
       "    }\n",
       "</style>\n",
       "<table border=\"1\" class=\"dataframe\">\n",
       "  <thead>\n",
       "    <tr style=\"text-align: right;\">\n",
       "      <th></th>\n",
       "      <th>name</th>\n",
       "      <th>address</th>\n",
       "      <th>city</th>\n",
       "      <th>categories</th>\n",
       "      <th>lat</th>\n",
       "      <th>lng</th>\n",
       "    </tr>\n",
       "  </thead>\n",
       "  <tbody>\n",
       "    <tr>\n",
       "      <th>0</th>\n",
       "      <td>Debbie's Boutique Cafe</td>\n",
       "      <td>94 Harwood Avenue South</td>\n",
       "      <td>Ajax</td>\n",
       "      <td>Café</td>\n",
       "      <td>43.850183</td>\n",
       "      <td>-79.021350</td>\n",
       "    </tr>\n",
       "    <tr>\n",
       "      <th>1</th>\n",
       "      <td>Retro Burger</td>\n",
       "      <td>105 Bayly St W</td>\n",
       "      <td>Ajax</td>\n",
       "      <td>Burger Joint</td>\n",
       "      <td>43.842269</td>\n",
       "      <td>-79.021905</td>\n",
       "    </tr>\n",
       "    <tr>\n",
       "      <th>2</th>\n",
       "      <td>Portly Piper</td>\n",
       "      <td>235 Bayly St W</td>\n",
       "      <td>Ajax</td>\n",
       "      <td>New American Restaurant</td>\n",
       "      <td>43.841323</td>\n",
       "      <td>-79.026583</td>\n",
       "    </tr>\n",
       "    <tr>\n",
       "      <th>3</th>\n",
       "      <td>Life Time Athletic</td>\n",
       "      <td>100 Beck Crescent</td>\n",
       "      <td>Ajax</td>\n",
       "      <td>Gym</td>\n",
       "      <td>43.859315</td>\n",
       "      <td>-79.013105</td>\n",
       "    </tr>\n",
       "    <tr>\n",
       "      <th>4</th>\n",
       "      <td>Mexico Lindo</td>\n",
       "      <td>200 Harwood Avenue</td>\n",
       "      <td>Ajax</td>\n",
       "      <td>Mexican Restaurant</td>\n",
       "      <td>43.848601</td>\n",
       "      <td>-79.021804</td>\n",
       "    </tr>\n",
       "  </tbody>\n",
       "</table>\n",
       "</div>"
      ],
      "text/plain": [
       "                     name                  address  city  \\\n",
       "0  Debbie's Boutique Cafe  94 Harwood Avenue South  Ajax   \n",
       "1            Retro Burger           105 Bayly St W  Ajax   \n",
       "2            Portly Piper           235 Bayly St W  Ajax   \n",
       "3      Life Time Athletic        100 Beck Crescent  Ajax   \n",
       "4            Mexico Lindo       200 Harwood Avenue  Ajax   \n",
       "\n",
       "                categories        lat        lng  \n",
       "0                     Café  43.850183 -79.021350  \n",
       "1             Burger Joint  43.842269 -79.021905  \n",
       "2  New American Restaurant  43.841323 -79.026583  \n",
       "3                      Gym  43.859315 -79.013105  \n",
       "4       Mexican Restaurant  43.848601 -79.021804  "
      ]
     },
     "execution_count": 10,
     "metadata": {},
     "output_type": "execute_result"
    }
   ],
   "source": [
    "#clean the columns\n",
    "municipalities_venues.columns = [col.split('.')[-1] for col in municipalities_venues.columns]\n",
    "municipalities_venues.head()"
   ]
  },
  {
   "cell_type": "markdown",
   "metadata": {},
   "source": [
    "### - Make sure we do not have duplicate entries since the radiuses may overlap. They had to be large to take in all the rural municipalities. Also remove any Toronto venues that were picked up."
   ]
  },
  {
   "cell_type": "code",
   "execution_count": 11,
   "metadata": {},
   "outputs": [
    {
     "data": {
      "text/plain": [
       "(402, 6)"
      ]
     },
     "execution_count": 11,
     "metadata": {},
     "output_type": "execute_result"
    }
   ],
   "source": [
    "#remove duplicate entries from overlap of radius\n",
    "municipalities_venues.drop_duplicates(inplace=True)\n",
    "municipalities_venues.shape"
   ]
  },
  {
   "cell_type": "code",
   "execution_count": 12,
   "metadata": {},
   "outputs": [
    {
     "data": {
      "text/plain": [
       "(402, 6)"
      ]
     },
     "execution_count": 12,
     "metadata": {},
     "output_type": "execute_result"
    }
   ],
   "source": [
    "#make sure we didn't pick up some Toronto locations\n",
    "indexNames = municipalities_venues[ municipalities_venues['city'] == 'Toronto' ].index\n",
    "# Delete these row indexes from dataFrame\n",
    "municipalities_venues.drop(indexNames , inplace=True)\n",
    "municipalities_venues.shape"
   ]
  },
  {
   "cell_type": "code",
   "execution_count": 13,
   "metadata": {},
   "outputs": [
    {
     "data": {
      "text/html": [
       "<div>\n",
       "<style scoped>\n",
       "    .dataframe tbody tr th:only-of-type {\n",
       "        vertical-align: middle;\n",
       "    }\n",
       "\n",
       "    .dataframe tbody tr th {\n",
       "        vertical-align: top;\n",
       "    }\n",
       "\n",
       "    .dataframe thead th {\n",
       "        text-align: right;\n",
       "    }\n",
       "</style>\n",
       "<table border=\"1\" class=\"dataframe\">\n",
       "  <thead>\n",
       "    <tr style=\"text-align: right;\">\n",
       "      <th></th>\n",
       "      <th>name</th>\n",
       "      <th>address</th>\n",
       "      <th>city</th>\n",
       "      <th>categories</th>\n",
       "      <th>lat</th>\n",
       "      <th>lng</th>\n",
       "    </tr>\n",
       "  </thead>\n",
       "  <tbody>\n",
       "    <tr>\n",
       "      <th>0</th>\n",
       "      <td>Debbie's Boutique Cafe</td>\n",
       "      <td>94 Harwood Avenue South</td>\n",
       "      <td>Ajax</td>\n",
       "      <td>Café</td>\n",
       "      <td>43.850183</td>\n",
       "      <td>-79.021350</td>\n",
       "    </tr>\n",
       "    <tr>\n",
       "      <th>1</th>\n",
       "      <td>Retro Burger</td>\n",
       "      <td>105 Bayly St W</td>\n",
       "      <td>Ajax</td>\n",
       "      <td>Burger Joint</td>\n",
       "      <td>43.842269</td>\n",
       "      <td>-79.021905</td>\n",
       "    </tr>\n",
       "    <tr>\n",
       "      <th>2</th>\n",
       "      <td>Portly Piper</td>\n",
       "      <td>235 Bayly St W</td>\n",
       "      <td>Ajax</td>\n",
       "      <td>New American Restaurant</td>\n",
       "      <td>43.841323</td>\n",
       "      <td>-79.026583</td>\n",
       "    </tr>\n",
       "    <tr>\n",
       "      <th>3</th>\n",
       "      <td>Life Time Athletic</td>\n",
       "      <td>100 Beck Crescent</td>\n",
       "      <td>Ajax</td>\n",
       "      <td>Gym</td>\n",
       "      <td>43.859315</td>\n",
       "      <td>-79.013105</td>\n",
       "    </tr>\n",
       "    <tr>\n",
       "      <th>4</th>\n",
       "      <td>Mexico Lindo</td>\n",
       "      <td>200 Harwood Avenue</td>\n",
       "      <td>Ajax</td>\n",
       "      <td>Mexican Restaurant</td>\n",
       "      <td>43.848601</td>\n",
       "      <td>-79.021804</td>\n",
       "    </tr>\n",
       "    <tr>\n",
       "      <th>...</th>\n",
       "      <td>...</td>\n",
       "      <td>...</td>\n",
       "      <td>...</td>\n",
       "      <td>...</td>\n",
       "      <td>...</td>\n",
       "      <td>...</td>\n",
       "    </tr>\n",
       "    <tr>\n",
       "      <th>94</th>\n",
       "      <td>Petro-Canada</td>\n",
       "      <td>1545 Rossland Rd E</td>\n",
       "      <td>Whitby</td>\n",
       "      <td>Gas Station</td>\n",
       "      <td>43.903605</td>\n",
       "      <td>-78.920766</td>\n",
       "    </tr>\n",
       "    <tr>\n",
       "      <th>96</th>\n",
       "      <td>Pita Deli</td>\n",
       "      <td>1600 Champlain Ave</td>\n",
       "      <td>Whitby</td>\n",
       "      <td>Middle Eastern Restaurant</td>\n",
       "      <td>43.873292</td>\n",
       "      <td>-78.905209</td>\n",
       "    </tr>\n",
       "    <tr>\n",
       "      <th>97</th>\n",
       "      <td>Denny's</td>\n",
       "      <td>75 Consumers Lane</td>\n",
       "      <td>Whitby</td>\n",
       "      <td>Breakfast Spot</td>\n",
       "      <td>43.869999</td>\n",
       "      <td>-78.911725</td>\n",
       "    </tr>\n",
       "    <tr>\n",
       "      <th>98</th>\n",
       "      <td>TD Canada Trust</td>\n",
       "      <td>920 Taunton Rd E</td>\n",
       "      <td>Whitby</td>\n",
       "      <td>Bank</td>\n",
       "      <td>43.925001</td>\n",
       "      <td>-78.915966</td>\n",
       "    </tr>\n",
       "    <tr>\n",
       "      <th>99</th>\n",
       "      <td>Michaels</td>\n",
       "      <td>1751 Victoria St E</td>\n",
       "      <td>Whitby</td>\n",
       "      <td>Arts &amp; Crafts Store</td>\n",
       "      <td>43.867677</td>\n",
       "      <td>-78.896894</td>\n",
       "    </tr>\n",
       "  </tbody>\n",
       "</table>\n",
       "<p>402 rows × 6 columns</p>\n",
       "</div>"
      ],
      "text/plain": [
       "                      name                  address    city  \\\n",
       "0   Debbie's Boutique Cafe  94 Harwood Avenue South    Ajax   \n",
       "1             Retro Burger           105 Bayly St W    Ajax   \n",
       "2             Portly Piper           235 Bayly St W    Ajax   \n",
       "3       Life Time Athletic        100 Beck Crescent    Ajax   \n",
       "4             Mexico Lindo       200 Harwood Avenue    Ajax   \n",
       "..                     ...                      ...     ...   \n",
       "94            Petro-Canada       1545 Rossland Rd E  Whitby   \n",
       "96               Pita Deli       1600 Champlain Ave  Whitby   \n",
       "97                 Denny's        75 Consumers Lane  Whitby   \n",
       "98         TD Canada Trust         920 Taunton Rd E  Whitby   \n",
       "99                Michaels       1751 Victoria St E  Whitby   \n",
       "\n",
       "                   categories        lat        lng  \n",
       "0                        Café  43.850183 -79.021350  \n",
       "1                Burger Joint  43.842269 -79.021905  \n",
       "2     New American Restaurant  43.841323 -79.026583  \n",
       "3                         Gym  43.859315 -79.013105  \n",
       "4          Mexican Restaurant  43.848601 -79.021804  \n",
       "..                        ...        ...        ...  \n",
       "94                Gas Station  43.903605 -78.920766  \n",
       "96  Middle Eastern Restaurant  43.873292 -78.905209  \n",
       "97             Breakfast Spot  43.869999 -78.911725  \n",
       "98                       Bank  43.925001 -78.915966  \n",
       "99        Arts & Crafts Store  43.867677 -78.896894  \n",
       "\n",
       "[402 rows x 6 columns]"
      ]
     },
     "execution_count": 13,
     "metadata": {},
     "output_type": "execute_result"
    }
   ],
   "source": [
    "municipalities_venues"
   ]
  },
  {
   "cell_type": "code",
   "execution_count": 14,
   "metadata": {},
   "outputs": [
    {
     "data": {
      "text/html": [
       "<div>\n",
       "<style scoped>\n",
       "    .dataframe tbody tr th:only-of-type {\n",
       "        vertical-align: middle;\n",
       "    }\n",
       "\n",
       "    .dataframe tbody tr th {\n",
       "        vertical-align: top;\n",
       "    }\n",
       "\n",
       "    .dataframe thead th {\n",
       "        text-align: right;\n",
       "    }\n",
       "</style>\n",
       "<table border=\"1\" class=\"dataframe\">\n",
       "  <thead>\n",
       "    <tr style=\"text-align: right;\">\n",
       "      <th></th>\n",
       "      <th>name</th>\n",
       "      <th>address</th>\n",
       "      <th>city</th>\n",
       "      <th>categories</th>\n",
       "      <th>lat</th>\n",
       "      <th>lng</th>\n",
       "    </tr>\n",
       "  </thead>\n",
       "  <tbody>\n",
       "    <tr>\n",
       "      <th>0</th>\n",
       "      <td>Debbie's Boutique Cafe</td>\n",
       "      <td>94 Harwood Avenue South</td>\n",
       "      <td>Ajax</td>\n",
       "      <td>Café</td>\n",
       "      <td>43.850183</td>\n",
       "      <td>-79.021350</td>\n",
       "    </tr>\n",
       "    <tr>\n",
       "      <th>1</th>\n",
       "      <td>Retro Burger</td>\n",
       "      <td>105 Bayly St W</td>\n",
       "      <td>Ajax</td>\n",
       "      <td>Burger Joint</td>\n",
       "      <td>43.842269</td>\n",
       "      <td>-79.021905</td>\n",
       "    </tr>\n",
       "    <tr>\n",
       "      <th>2</th>\n",
       "      <td>Portly Piper</td>\n",
       "      <td>235 Bayly St W</td>\n",
       "      <td>Ajax</td>\n",
       "      <td>New American Restaurant</td>\n",
       "      <td>43.841323</td>\n",
       "      <td>-79.026583</td>\n",
       "    </tr>\n",
       "    <tr>\n",
       "      <th>3</th>\n",
       "      <td>Life Time Athletic</td>\n",
       "      <td>100 Beck Crescent</td>\n",
       "      <td>Ajax</td>\n",
       "      <td>Gym</td>\n",
       "      <td>43.859315</td>\n",
       "      <td>-79.013105</td>\n",
       "    </tr>\n",
       "    <tr>\n",
       "      <th>4</th>\n",
       "      <td>Mexico Lindo</td>\n",
       "      <td>200 Harwood Avenue</td>\n",
       "      <td>Ajax</td>\n",
       "      <td>Mexican Restaurant</td>\n",
       "      <td>43.848601</td>\n",
       "      <td>-79.021804</td>\n",
       "    </tr>\n",
       "    <tr>\n",
       "      <th>...</th>\n",
       "      <td>...</td>\n",
       "      <td>...</td>\n",
       "      <td>...</td>\n",
       "      <td>...</td>\n",
       "      <td>...</td>\n",
       "      <td>...</td>\n",
       "    </tr>\n",
       "    <tr>\n",
       "      <th>397</th>\n",
       "      <td>Petro-Canada</td>\n",
       "      <td>1545 Rossland Rd E</td>\n",
       "      <td>Whitby</td>\n",
       "      <td>Gas Station</td>\n",
       "      <td>43.903605</td>\n",
       "      <td>-78.920766</td>\n",
       "    </tr>\n",
       "    <tr>\n",
       "      <th>398</th>\n",
       "      <td>Pita Deli</td>\n",
       "      <td>1600 Champlain Ave</td>\n",
       "      <td>Whitby</td>\n",
       "      <td>Middle Eastern Restaurant</td>\n",
       "      <td>43.873292</td>\n",
       "      <td>-78.905209</td>\n",
       "    </tr>\n",
       "    <tr>\n",
       "      <th>399</th>\n",
       "      <td>Denny's</td>\n",
       "      <td>75 Consumers Lane</td>\n",
       "      <td>Whitby</td>\n",
       "      <td>Breakfast Spot</td>\n",
       "      <td>43.869999</td>\n",
       "      <td>-78.911725</td>\n",
       "    </tr>\n",
       "    <tr>\n",
       "      <th>400</th>\n",
       "      <td>TD Canada Trust</td>\n",
       "      <td>920 Taunton Rd E</td>\n",
       "      <td>Whitby</td>\n",
       "      <td>Bank</td>\n",
       "      <td>43.925001</td>\n",
       "      <td>-78.915966</td>\n",
       "    </tr>\n",
       "    <tr>\n",
       "      <th>401</th>\n",
       "      <td>Michaels</td>\n",
       "      <td>1751 Victoria St E</td>\n",
       "      <td>Whitby</td>\n",
       "      <td>Arts &amp; Crafts Store</td>\n",
       "      <td>43.867677</td>\n",
       "      <td>-78.896894</td>\n",
       "    </tr>\n",
       "  </tbody>\n",
       "</table>\n",
       "<p>402 rows × 6 columns</p>\n",
       "</div>"
      ],
      "text/plain": [
       "                       name                  address    city  \\\n",
       "0    Debbie's Boutique Cafe  94 Harwood Avenue South    Ajax   \n",
       "1              Retro Burger           105 Bayly St W    Ajax   \n",
       "2              Portly Piper           235 Bayly St W    Ajax   \n",
       "3        Life Time Athletic        100 Beck Crescent    Ajax   \n",
       "4              Mexico Lindo       200 Harwood Avenue    Ajax   \n",
       "..                      ...                      ...     ...   \n",
       "397            Petro-Canada       1545 Rossland Rd E  Whitby   \n",
       "398               Pita Deli       1600 Champlain Ave  Whitby   \n",
       "399                 Denny's        75 Consumers Lane  Whitby   \n",
       "400         TD Canada Trust         920 Taunton Rd E  Whitby   \n",
       "401                Michaels       1751 Victoria St E  Whitby   \n",
       "\n",
       "                    categories        lat        lng  \n",
       "0                         Café  43.850183 -79.021350  \n",
       "1                 Burger Joint  43.842269 -79.021905  \n",
       "2      New American Restaurant  43.841323 -79.026583  \n",
       "3                          Gym  43.859315 -79.013105  \n",
       "4           Mexican Restaurant  43.848601 -79.021804  \n",
       "..                         ...        ...        ...  \n",
       "397                Gas Station  43.903605 -78.920766  \n",
       "398  Middle Eastern Restaurant  43.873292 -78.905209  \n",
       "399             Breakfast Spot  43.869999 -78.911725  \n",
       "400                       Bank  43.925001 -78.915966  \n",
       "401        Arts & Crafts Store  43.867677 -78.896894  \n",
       "\n",
       "[402 rows x 6 columns]"
      ]
     },
     "execution_count": 14,
     "metadata": {},
     "output_type": "execute_result"
    }
   ],
   "source": [
    "municipalities_venues.reset_index(drop=True, inplace = True)\n",
    "municipalities_venues"
   ]
  },
  {
   "cell_type": "markdown",
   "metadata": {},
   "source": [
    "### - Find the relevant categories from the list of categories"
   ]
  },
  {
   "cell_type": "code",
   "execution_count": 15,
   "metadata": {},
   "outputs": [
    {
     "name": "stdout",
     "output_type": "stream",
     "text": [
      "110\n"
     ]
    },
    {
     "data": {
      "text/plain": [
       "array(['Café', 'Burger Joint', 'New American Restaurant', 'Gym',\n",
       "       'Mexican Restaurant', 'Bookstore', 'Restaurant',\n",
       "       'Afghan Restaurant', 'Sports Bar', 'Coffee Shop', 'Wings Joint',\n",
       "       'Breakfast Spot', 'Gym / Fitness Center',\n",
       "       'Middle Eastern Restaurant', 'Grocery Store',\n",
       "       'Japanese Restaurant', 'Liquor Store', 'Park', 'Warehouse Store',\n",
       "       'Fast Food Restaurant', 'Garden Center', 'Smoothie Shop',\n",
       "       'Clothing Store', 'Brewery', 'Ice Cream Shop',\n",
       "       'Caribbean Restaurant', 'Diner', 'Indian Restaurant',\n",
       "       'Pizza Place', 'Pet Store', 'Movie Theater', 'Irish Pub',\n",
       "       'Fried Chicken Joint', 'Pharmacy', 'Comedy Club', 'Poutine Place',\n",
       "       'Dessert Shop', 'Bakery', 'Sporting Goods Shop', 'Bank',\n",
       "       'Arts & Crafts Store', 'Furniture / Home Store', 'Discount Store',\n",
       "       'Department Store', 'Chinese Restaurant', 'Pub', 'Hotel',\n",
       "       'Big Box Store', 'Electronics Store', 'Music Store',\n",
       "       'Athletics & Sports', 'Beer Store', 'Sandwich Place',\n",
       "       'Italian Restaurant', 'Thrift / Vintage Store', 'Hockey Arena',\n",
       "       'Hardware Store', 'Flea Market', 'Gas Station',\n",
       "       'Construction & Landscaping', 'Farm', 'Lake', 'Zoo', 'Stadium',\n",
       "       'Convenience Store', 'Smoke Shop', 'Theater', 'BBQ Joint',\n",
       "       'Greek Restaurant', 'Art Gallery', 'Bowling Alley', 'Museum',\n",
       "       'Deli / Bodega', 'Golf Course', 'Nightclub', 'Sushi Restaurant',\n",
       "       'Cosmetics Shop', 'Burrito Place', 'Frozen Yogurt Shop',\n",
       "       'Shopping Mall', 'Video Game Store', 'Asian Restaurant',\n",
       "       'Food & Drink Shop', 'Seafood Restaurant', 'Gym Pool', 'Buffet',\n",
       "       'Dog Run', 'Bar', 'Salon / Barbershop', 'Beach',\n",
       "       'American Restaurant', 'Thai Restaurant', 'Food', 'Supermarket',\n",
       "       'Organic Grocery', 'Trail', 'Antique Shop', 'Food Truck',\n",
       "       'Candy Store', 'Paper / Office Supplies Store', 'Train Station',\n",
       "       'Home Service', 'Gastropub', 'German Restaurant', 'Skating Rink',\n",
       "       'Soccer Stadium', 'Vietnamese Restaurant', 'Arcade',\n",
       "       'Fish & Chips Shop', 'Butcher'], dtype=object)"
      ]
     },
     "execution_count": 15,
     "metadata": {},
     "output_type": "execute_result"
    }
   ],
   "source": [
    "# make a list of the different categories\n",
    "cat = municipalities_venues['categories'].unique()\n",
    "print(len(cat))\n",
    "cat"
   ]
  },
  {
   "cell_type": "markdown",
   "metadata": {},
   "source": [
    "### - Get the Venues With the Categories Museum, Art Gallery, and Theater"
   ]
  },
  {
   "cell_type": "code",
   "execution_count": 16,
   "metadata": {},
   "outputs": [
    {
     "data": {
      "text/html": [
       "<div>\n",
       "<style scoped>\n",
       "    .dataframe tbody tr th:only-of-type {\n",
       "        vertical-align: middle;\n",
       "    }\n",
       "\n",
       "    .dataframe tbody tr th {\n",
       "        vertical-align: top;\n",
       "    }\n",
       "\n",
       "    .dataframe thead th {\n",
       "        text-align: right;\n",
       "    }\n",
       "</style>\n",
       "<table border=\"1\" class=\"dataframe\">\n",
       "  <thead>\n",
       "    <tr style=\"text-align: right;\">\n",
       "      <th></th>\n",
       "      <th>name</th>\n",
       "      <th>address</th>\n",
       "      <th>city</th>\n",
       "      <th>categories</th>\n",
       "      <th>lat</th>\n",
       "      <th>lng</th>\n",
       "    </tr>\n",
       "  </thead>\n",
       "  <tbody>\n",
       "    <tr>\n",
       "      <th>135</th>\n",
       "      <td>Parkwood Estate</td>\n",
       "      <td>270 Simcoe St N</td>\n",
       "      <td>Oshawa</td>\n",
       "      <td>Museum</td>\n",
       "      <td>43.904584</td>\n",
       "      <td>-78.867608</td>\n",
       "    </tr>\n",
       "  </tbody>\n",
       "</table>\n",
       "</div>"
      ],
      "text/plain": [
       "                name          address    city categories        lat        lng\n",
       "135  Parkwood Estate  270 Simcoe St N  Oshawa     Museum  43.904584 -78.867608"
      ]
     },
     "execution_count": 16,
     "metadata": {},
     "output_type": "execute_result"
    }
   ],
   "source": [
    "museums = municipalities_venues.loc[municipalities_venues['categories']=='Museum']\n",
    "museums"
   ]
  },
  {
   "cell_type": "code",
   "execution_count": 17,
   "metadata": {},
   "outputs": [
    {
     "data": {
      "text/html": [
       "<div>\n",
       "<style scoped>\n",
       "    .dataframe tbody tr th:only-of-type {\n",
       "        vertical-align: middle;\n",
       "    }\n",
       "\n",
       "    .dataframe tbody tr th {\n",
       "        vertical-align: top;\n",
       "    }\n",
       "\n",
       "    .dataframe thead th {\n",
       "        text-align: right;\n",
       "    }\n",
       "</style>\n",
       "<table border=\"1\" class=\"dataframe\">\n",
       "  <thead>\n",
       "    <tr style=\"text-align: right;\">\n",
       "      <th></th>\n",
       "      <th>name</th>\n",
       "      <th>address</th>\n",
       "      <th>city</th>\n",
       "      <th>categories</th>\n",
       "      <th>lat</th>\n",
       "      <th>lng</th>\n",
       "    </tr>\n",
       "  </thead>\n",
       "  <tbody>\n",
       "    <tr>\n",
       "      <th>129</th>\n",
       "      <td>The Robert McLaughlin Gallery (@theRMG)</td>\n",
       "      <td>72 Queen St</td>\n",
       "      <td>Oshawa</td>\n",
       "      <td>Art Gallery</td>\n",
       "      <td>43.895015</td>\n",
       "      <td>-78.865704</td>\n",
       "    </tr>\n",
       "  </tbody>\n",
       "</table>\n",
       "</div>"
      ],
      "text/plain": [
       "                                        name      address    city  \\\n",
       "129  The Robert McLaughlin Gallery (@theRMG)  72 Queen St  Oshawa   \n",
       "\n",
       "      categories        lat        lng  \n",
       "129  Art Gallery  43.895015 -78.865704  "
      ]
     },
     "execution_count": 17,
     "metadata": {},
     "output_type": "execute_result"
    }
   ],
   "source": [
    "arts = municipalities_venues.loc[municipalities_venues['categories']=='Art Gallery']\n",
    "arts"
   ]
  },
  {
   "cell_type": "code",
   "execution_count": 18,
   "metadata": {},
   "outputs": [
    {
     "data": {
      "text/html": [
       "<div>\n",
       "<style scoped>\n",
       "    .dataframe tbody tr th:only-of-type {\n",
       "        vertical-align: middle;\n",
       "    }\n",
       "\n",
       "    .dataframe tbody tr th {\n",
       "        vertical-align: top;\n",
       "    }\n",
       "\n",
       "    .dataframe thead th {\n",
       "        text-align: right;\n",
       "    }\n",
       "</style>\n",
       "<table border=\"1\" class=\"dataframe\">\n",
       "  <thead>\n",
       "    <tr style=\"text-align: right;\">\n",
       "      <th></th>\n",
       "      <th>name</th>\n",
       "      <th>address</th>\n",
       "      <th>city</th>\n",
       "      <th>categories</th>\n",
       "      <th>lat</th>\n",
       "      <th>lng</th>\n",
       "    </tr>\n",
       "  </thead>\n",
       "  <tbody>\n",
       "    <tr>\n",
       "      <th>115</th>\n",
       "      <td>Oshawa Little Theatre</td>\n",
       "      <td>62 Russett Ave.</td>\n",
       "      <td>Oshawa</td>\n",
       "      <td>Theater</td>\n",
       "      <td>43.930277</td>\n",
       "      <td>-78.880503</td>\n",
       "    </tr>\n",
       "    <tr>\n",
       "      <th>154</th>\n",
       "      <td>Regent Theatre</td>\n",
       "      <td>50 King Street East</td>\n",
       "      <td>Oshawa</td>\n",
       "      <td>Theater</td>\n",
       "      <td>43.898317</td>\n",
       "      <td>-78.861939</td>\n",
       "    </tr>\n",
       "  </tbody>\n",
       "</table>\n",
       "</div>"
      ],
      "text/plain": [
       "                      name              address    city categories        lat  \\\n",
       "115  Oshawa Little Theatre      62 Russett Ave.  Oshawa    Theater  43.930277   \n",
       "154         Regent Theatre  50 King Street East  Oshawa    Theater  43.898317   \n",
       "\n",
       "           lng  \n",
       "115 -78.880503  \n",
       "154 -78.861939  "
      ]
     },
     "execution_count": 18,
     "metadata": {},
     "output_type": "execute_result"
    }
   ],
   "source": [
    "theaters = municipalities_venues.loc[municipalities_venues['categories']=='Theater']\n",
    "theaters"
   ]
  },
  {
   "cell_type": "markdown",
   "metadata": {},
   "source": [
    "### - Foursquare came up with only four venues with the relevant categories"
   ]
  },
  {
   "cell_type": "code",
   "execution_count": 19,
   "metadata": {},
   "outputs": [
    {
     "data": {
      "text/html": [
       "<div>\n",
       "<style scoped>\n",
       "    .dataframe tbody tr th:only-of-type {\n",
       "        vertical-align: middle;\n",
       "    }\n",
       "\n",
       "    .dataframe tbody tr th {\n",
       "        vertical-align: top;\n",
       "    }\n",
       "\n",
       "    .dataframe thead th {\n",
       "        text-align: right;\n",
       "    }\n",
       "</style>\n",
       "<table border=\"1\" class=\"dataframe\">\n",
       "  <thead>\n",
       "    <tr style=\"text-align: right;\">\n",
       "      <th></th>\n",
       "      <th>name</th>\n",
       "      <th>address</th>\n",
       "      <th>city</th>\n",
       "      <th>categories</th>\n",
       "      <th>lat</th>\n",
       "      <th>lng</th>\n",
       "    </tr>\n",
       "  </thead>\n",
       "  <tbody>\n",
       "    <tr>\n",
       "      <th>135</th>\n",
       "      <td>Parkwood Estate</td>\n",
       "      <td>270 Simcoe St N</td>\n",
       "      <td>Oshawa</td>\n",
       "      <td>Museum</td>\n",
       "      <td>43.904584</td>\n",
       "      <td>-78.867608</td>\n",
       "    </tr>\n",
       "    <tr>\n",
       "      <th>129</th>\n",
       "      <td>The Robert McLaughlin Gallery (@theRMG)</td>\n",
       "      <td>72 Queen St</td>\n",
       "      <td>Oshawa</td>\n",
       "      <td>Art Gallery</td>\n",
       "      <td>43.895015</td>\n",
       "      <td>-78.865704</td>\n",
       "    </tr>\n",
       "    <tr>\n",
       "      <th>115</th>\n",
       "      <td>Oshawa Little Theatre</td>\n",
       "      <td>62 Russett Ave.</td>\n",
       "      <td>Oshawa</td>\n",
       "      <td>Theater</td>\n",
       "      <td>43.930277</td>\n",
       "      <td>-78.880503</td>\n",
       "    </tr>\n",
       "    <tr>\n",
       "      <th>154</th>\n",
       "      <td>Regent Theatre</td>\n",
       "      <td>50 King Street East</td>\n",
       "      <td>Oshawa</td>\n",
       "      <td>Theater</td>\n",
       "      <td>43.898317</td>\n",
       "      <td>-78.861939</td>\n",
       "    </tr>\n",
       "  </tbody>\n",
       "</table>\n",
       "</div>"
      ],
      "text/plain": [
       "                                        name              address    city  \\\n",
       "135                          Parkwood Estate      270 Simcoe St N  Oshawa   \n",
       "129  The Robert McLaughlin Gallery (@theRMG)          72 Queen St  Oshawa   \n",
       "115                    Oshawa Little Theatre      62 Russett Ave.  Oshawa   \n",
       "154                           Regent Theatre  50 King Street East  Oshawa   \n",
       "\n",
       "      categories        lat        lng  \n",
       "135       Museum  43.904584 -78.867608  \n",
       "129  Art Gallery  43.895015 -78.865704  \n",
       "115      Theater  43.930277 -78.880503  \n",
       "154      Theater  43.898317 -78.861939  "
      ]
     },
     "execution_count": 19,
     "metadata": {},
     "output_type": "execute_result"
    }
   ],
   "source": [
    "arts_df = pd.concat([museums, arts, theaters], axis=0)\n",
    "arts_df\n"
   ]
  },
  {
   "cell_type": "markdown",
   "metadata": {},
   "source": [
    "## More Venues Needed\n",
    "> With only four venues from Foursquare a web search for more was done. The result was added to the Foursquare venues and we ended up with a total of 32 venues which were stored in a CSV file.  The latitudes and longitudes are not entered yet."
   ]
  },
  {
   "cell_type": "code",
   "execution_count": 12,
   "metadata": {
    "scrolled": true
   },
   "outputs": [
    {
     "data": {
      "text/html": [
       "<div>\n",
       "<style scoped>\n",
       "    .dataframe tbody tr th:only-of-type {\n",
       "        vertical-align: middle;\n",
       "    }\n",
       "\n",
       "    .dataframe tbody tr th {\n",
       "        vertical-align: top;\n",
       "    }\n",
       "\n",
       "    .dataframe thead th {\n",
       "        text-align: right;\n",
       "    }\n",
       "</style>\n",
       "<table border=\"1\" class=\"dataframe\">\n",
       "  <thead>\n",
       "    <tr style=\"text-align: right;\">\n",
       "      <th></th>\n",
       "      <th>name</th>\n",
       "      <th>address</th>\n",
       "      <th>city</th>\n",
       "      <th>categories</th>\n",
       "      <th>lat</th>\n",
       "      <th>lng</th>\n",
       "      <th>Phone</th>\n",
       "    </tr>\n",
       "  </thead>\n",
       "  <tbody>\n",
       "    <tr>\n",
       "      <th>27</th>\n",
       "      <td>Oshawa Little Theatre</td>\n",
       "      <td>62 Russett Ave</td>\n",
       "      <td>Oshawa</td>\n",
       "      <td>Theater</td>\n",
       "      <td>NaN</td>\n",
       "      <td>NaN</td>\n",
       "      <td>(905) 723-0282</td>\n",
       "    </tr>\n",
       "    <tr>\n",
       "      <th>28</th>\n",
       "      <td>Regent Theatre Ontario Tech</td>\n",
       "      <td>50 King St E</td>\n",
       "      <td>Oshawa</td>\n",
       "      <td>Theater</td>\n",
       "      <td>NaN</td>\n",
       "      <td>NaN</td>\n",
       "      <td>(905) 721-3399 ext. 2</td>\n",
       "    </tr>\n",
       "    <tr>\n",
       "      <th>29</th>\n",
       "      <td>Oshawa  Museum</td>\n",
       "      <td>1450 Simcoe St. South</td>\n",
       "      <td>Oshawa</td>\n",
       "      <td>Museum</td>\n",
       "      <td>NaN</td>\n",
       "      <td>NaN</td>\n",
       "      <td>(905) 436-7624</td>\n",
       "    </tr>\n",
       "    <tr>\n",
       "      <th>30</th>\n",
       "      <td>Oshawa Little Theater</td>\n",
       "      <td>62 Russett Ave.</td>\n",
       "      <td>Oshawa</td>\n",
       "      <td>Theater</td>\n",
       "      <td>NaN</td>\n",
       "      <td>NaN</td>\n",
       "      <td>(905) 723 0282</td>\n",
       "    </tr>\n",
       "    <tr>\n",
       "      <th>31</th>\n",
       "      <td>Parkwood Estate</td>\n",
       "      <td>270 Simcoe St. North</td>\n",
       "      <td>Oshawa</td>\n",
       "      <td>Museum</td>\n",
       "      <td>NaN</td>\n",
       "      <td>NaN</td>\n",
       "      <td>(905) 433 4311</td>\n",
       "    </tr>\n",
       "  </tbody>\n",
       "</table>\n",
       "</div>"
      ],
      "text/plain": [
       "                           name                address    city categories  \\\n",
       "27        Oshawa Little Theatre         62 Russett Ave  Oshawa    Theater   \n",
       "28  Regent Theatre Ontario Tech           50 King St E  Oshawa    Theater   \n",
       "29               Oshawa  Museum  1450 Simcoe St. South  Oshawa     Museum   \n",
       "30        Oshawa Little Theater        62 Russett Ave.  Oshawa    Theater   \n",
       "31              Parkwood Estate   270 Simcoe St. North  Oshawa     Museum   \n",
       "\n",
       "    lat  lng                  Phone  \n",
       "27  NaN  NaN         (905) 723-0282  \n",
       "28  NaN  NaN  (905) 721-3399 ext. 2  \n",
       "29  NaN  NaN         (905) 436-7624  \n",
       "30  NaN  NaN         (905) 723 0282  \n",
       "31  NaN  NaN         (905) 433 4311  "
      ]
     },
     "execution_count": 12,
     "metadata": {},
     "output_type": "execute_result"
    }
   ],
   "source": [
    "# reading in the csv file\n",
    "\n",
    "arts_df = pd.read_csv('Durham Data.csv')\n",
    "arts_df.tail()\n"
   ]
  },
  {
   "cell_type": "code",
   "execution_count": 13,
   "metadata": {
    "scrolled": false
   },
   "outputs": [
    {
     "data": {
      "text/plain": [
       "name           object\n",
       "address        object\n",
       "city           object\n",
       "categories     object\n",
       "lat           float64\n",
       "lng           float64\n",
       "Phone          object\n",
       "dtype: object"
      ]
     },
     "execution_count": 13,
     "metadata": {},
     "output_type": "execute_result"
    }
   ],
   "source": [
    "#change the data types of the lat and lng columnss to float\n",
    "arts_df[['lat','lng']] = arts_df[['lat','lng']].apply(pd.to_numeric)\n",
    "arts_df.dtypes"
   ]
  },
  {
   "cell_type": "markdown",
   "metadata": {},
   "source": [
    "### - Find the latitude and longitude for each row in the arts_df"
   ]
  },
  {
   "cell_type": "code",
   "execution_count": 14,
   "metadata": {},
   "outputs": [
    {
     "data": {
      "text/html": [
       "<div>\n",
       "<style scoped>\n",
       "    .dataframe tbody tr th:only-of-type {\n",
       "        vertical-align: middle;\n",
       "    }\n",
       "\n",
       "    .dataframe tbody tr th {\n",
       "        vertical-align: top;\n",
       "    }\n",
       "\n",
       "    .dataframe thead th {\n",
       "        text-align: right;\n",
       "    }\n",
       "</style>\n",
       "<table border=\"1\" class=\"dataframe\">\n",
       "  <thead>\n",
       "    <tr style=\"text-align: right;\">\n",
       "      <th></th>\n",
       "      <th>name</th>\n",
       "      <th>address</th>\n",
       "      <th>city</th>\n",
       "      <th>categories</th>\n",
       "      <th>lat</th>\n",
       "      <th>lng</th>\n",
       "      <th>Phone</th>\n",
       "    </tr>\n",
       "  </thead>\n",
       "  <tbody>\n",
       "    <tr>\n",
       "      <th>0</th>\n",
       "      <td>Blue Willow Studio</td>\n",
       "      <td>19 Patricia Avenue</td>\n",
       "      <td>Oshawa</td>\n",
       "      <td>Art Gallery</td>\n",
       "      <td>43.901553</td>\n",
       "      <td>-78.849534</td>\n",
       "      <td>905 435-0575</td>\n",
       "    </tr>\n",
       "    <tr>\n",
       "      <th>1</th>\n",
       "      <td>Gallery 282 Ltd</td>\n",
       "      <td>321 Northcliffe Ave</td>\n",
       "      <td>Oshawa</td>\n",
       "      <td>Art Gallery</td>\n",
       "      <td>43.917164</td>\n",
       "      <td>-78.884608</td>\n",
       "      <td>905 576-2187</td>\n",
       "    </tr>\n",
       "    <tr>\n",
       "      <th>2</th>\n",
       "      <td>Images 21 Art Studio</td>\n",
       "      <td>552 Westney Rd. N</td>\n",
       "      <td>Ajax</td>\n",
       "      <td>Art Gallery</td>\n",
       "      <td>43.868353</td>\n",
       "      <td>-79.039990</td>\n",
       "      <td>(905) 239-6363</td>\n",
       "    </tr>\n",
       "    <tr>\n",
       "      <th>3</th>\n",
       "      <td>Magic Door Art Gallery</td>\n",
       "      <td>100 River Street</td>\n",
       "      <td>Sunderland</td>\n",
       "      <td>Art Gallery</td>\n",
       "      <td>54.875990</td>\n",
       "      <td>-1.421068</td>\n",
       "      <td>(705) 357-1973</td>\n",
       "    </tr>\n",
       "    <tr>\n",
       "      <th>4</th>\n",
       "      <td>Marc Barrie Gallery</td>\n",
       "      <td>1613 7 Hwy</td>\n",
       "      <td>Brougham</td>\n",
       "      <td>Art Gallery</td>\n",
       "      <td>54.648120</td>\n",
       "      <td>-2.729612</td>\n",
       "      <td>(905) 683-7010</td>\n",
       "    </tr>\n",
       "  </tbody>\n",
       "</table>\n",
       "</div>"
      ],
      "text/plain": [
       "                     name              address        city   categories  \\\n",
       "0      Blue Willow Studio   19 Patricia Avenue      Oshawa  Art Gallery   \n",
       "1         Gallery 282 Ltd  321 Northcliffe Ave      Oshawa  Art Gallery   \n",
       "2    Images 21 Art Studio    552 Westney Rd. N        Ajax  Art Gallery   \n",
       "3  Magic Door Art Gallery     100 River Street  Sunderland  Art Gallery   \n",
       "4     Marc Barrie Gallery           1613 7 Hwy    Brougham  Art Gallery   \n",
       "\n",
       "         lat        lng           Phone  \n",
       "0  43.901553 -78.849534    905 435-0575  \n",
       "1  43.917164 -78.884608    905 576-2187  \n",
       "2  43.868353 -79.039990  (905) 239-6363  \n",
       "3  54.875990  -1.421068  (705) 357-1973  \n",
       "4  54.648120  -2.729612  (905) 683-7010  "
      ]
     },
     "execution_count": 14,
     "metadata": {},
     "output_type": "execute_result"
    }
   ],
   "source": [
    "\n",
    "# need to add the city to the address\n",
    "adds = arts_df['address'].to_list()\n",
    "cities = arts_df['city'].to_list()\n",
    "t_adds = [m+' '+n for m,n in zip(adds, cities)]\n",
    "\n",
    "# start lists for the latitude and longitude\n",
    "lat_lst =[]\n",
    "long_lst = []\n",
    "for ad in t_adds:\n",
    "    \n",
    "    lat, lng = get_lat_long(ad)\n",
    "    \n",
    "    lat_lst.append(lat)\n",
    "    long_lst.append(lng)\n",
    "\n",
    "# add the latitude and longitude to the dataframe\n",
    "arts_df['lat']= lat_lst\n",
    "arts_df['lng']= long_lst\n",
    "arts_df.head()"
   ]
  },
  {
   "cell_type": "code",
   "execution_count": 16,
   "metadata": {
    "scrolled": false
   },
   "outputs": [
    {
     "data": {
      "text/html": [
       "<div>\n",
       "<style scoped>\n",
       "    .dataframe tbody tr th:only-of-type {\n",
       "        vertical-align: middle;\n",
       "    }\n",
       "\n",
       "    .dataframe tbody tr th {\n",
       "        vertical-align: top;\n",
       "    }\n",
       "\n",
       "    .dataframe thead th {\n",
       "        text-align: right;\n",
       "    }\n",
       "</style>\n",
       "<table border=\"1\" class=\"dataframe\">\n",
       "  <thead>\n",
       "    <tr style=\"text-align: right;\">\n",
       "      <th></th>\n",
       "      <th>name</th>\n",
       "      <th>address</th>\n",
       "      <th>city</th>\n",
       "      <th>categories</th>\n",
       "      <th>lat</th>\n",
       "      <th>lng</th>\n",
       "      <th>Phone</th>\n",
       "    </tr>\n",
       "  </thead>\n",
       "  <tbody>\n",
       "    <tr>\n",
       "      <th>0</th>\n",
       "      <td>Blue Willow Studio</td>\n",
       "      <td>19 Patricia Avenue</td>\n",
       "      <td>Oshawa</td>\n",
       "      <td>Art Gallery</td>\n",
       "      <td>43.901553</td>\n",
       "      <td>-78.849534</td>\n",
       "      <td>905 435-0575</td>\n",
       "    </tr>\n",
       "    <tr>\n",
       "      <th>1</th>\n",
       "      <td>Gallery 282 Ltd</td>\n",
       "      <td>321 Northcliffe Ave</td>\n",
       "      <td>Oshawa</td>\n",
       "      <td>Art Gallery</td>\n",
       "      <td>43.917164</td>\n",
       "      <td>-78.884608</td>\n",
       "      <td>905 576-2187</td>\n",
       "    </tr>\n",
       "    <tr>\n",
       "      <th>2</th>\n",
       "      <td>Images 21 Art Studio</td>\n",
       "      <td>552 Westney Rd. N</td>\n",
       "      <td>Ajax</td>\n",
       "      <td>Art Gallery</td>\n",
       "      <td>43.868353</td>\n",
       "      <td>-79.039990</td>\n",
       "      <td>(905) 239-6363</td>\n",
       "    </tr>\n",
       "    <tr>\n",
       "      <th>3</th>\n",
       "      <td>Magic Door Art Gallery</td>\n",
       "      <td>100 River Street</td>\n",
       "      <td>Sunderland</td>\n",
       "      <td>Art Gallery</td>\n",
       "      <td>54.875990</td>\n",
       "      <td>-1.421068</td>\n",
       "      <td>(705) 357-1973</td>\n",
       "    </tr>\n",
       "    <tr>\n",
       "      <th>4</th>\n",
       "      <td>Marc Barrie Gallery</td>\n",
       "      <td>1613 7 Hwy</td>\n",
       "      <td>Brougham</td>\n",
       "      <td>Art Gallery</td>\n",
       "      <td>54.648120</td>\n",
       "      <td>-2.729612</td>\n",
       "      <td>(905) 683-7010</td>\n",
       "    </tr>\n",
       "    <tr>\n",
       "      <th>5</th>\n",
       "      <td>Preston Gallery</td>\n",
       "      <td>77 Brock St West</td>\n",
       "      <td>Uxbridge</td>\n",
       "      <td>Art Gallery</td>\n",
       "      <td>44.108679</td>\n",
       "      <td>-79.123945</td>\n",
       "      <td>905-550-8825</td>\n",
       "    </tr>\n",
       "    <tr>\n",
       "      <th>6</th>\n",
       "      <td>Ronden Art Gallery</td>\n",
       "      <td>133 Taunton Road West</td>\n",
       "      <td>Oshawa</td>\n",
       "      <td>Art Gallery</td>\n",
       "      <td>43.931302</td>\n",
       "      <td>-78.884629</td>\n",
       "      <td>905 718 9099</td>\n",
       "    </tr>\n",
       "    <tr>\n",
       "      <th>7</th>\n",
       "      <td>The LivingRoom Community Art Studio</td>\n",
       "      <td>149 Simcoe Street South</td>\n",
       "      <td>Oshawa</td>\n",
       "      <td>Art Gallery</td>\n",
       "      <td>43.893687</td>\n",
       "      <td>-78.861618</td>\n",
       "      <td>none</td>\n",
       "    </tr>\n",
       "    <tr>\n",
       "      <th>8</th>\n",
       "      <td>The Robert McLaughlin Gallery (RMG)</td>\n",
       "      <td>72 Queen Street</td>\n",
       "      <td>Oshawa</td>\n",
       "      <td>Art Gallery</td>\n",
       "      <td>43.895721</td>\n",
       "      <td>-78.866684</td>\n",
       "      <td>(905) 576-3000</td>\n",
       "    </tr>\n",
       "    <tr>\n",
       "      <th>9</th>\n",
       "      <td>Visual Arts Centre of Clarington</td>\n",
       "      <td>143 Simpson Avenue</td>\n",
       "      <td>Bowmanville</td>\n",
       "      <td>Art Gallery</td>\n",
       "      <td>43.903348</td>\n",
       "      <td>-78.671832</td>\n",
       "      <td>(905) 623-5831</td>\n",
       "    </tr>\n",
       "    <tr>\n",
       "      <th>10</th>\n",
       "      <td>Station Gallery</td>\n",
       "      <td>1450 Henry Street</td>\n",
       "      <td>Whitby</td>\n",
       "      <td>Art Gallery</td>\n",
       "      <td>43.861444</td>\n",
       "      <td>-78.939736</td>\n",
       "      <td>(905) 668-4185</td>\n",
       "    </tr>\n",
       "    <tr>\n",
       "      <th>11</th>\n",
       "      <td>Bowmanville Museum</td>\n",
       "      <td>37 Silver St</td>\n",
       "      <td>Bowmanville</td>\n",
       "      <td>Museum</td>\n",
       "      <td>43.914519</td>\n",
       "      <td>-78.689805</td>\n",
       "      <td>(905) 623-2734</td>\n",
       "    </tr>\n",
       "    <tr>\n",
       "      <th>12</th>\n",
       "      <td>Cannington Historical Society's Centennial Museum</td>\n",
       "      <td>72 Peace Street</td>\n",
       "      <td>Cannington</td>\n",
       "      <td>Museum</td>\n",
       "      <td>44.349093</td>\n",
       "      <td>-79.034919</td>\n",
       "      <td>705 432 3136</td>\n",
       "    </tr>\n",
       "    <tr>\n",
       "      <th>13</th>\n",
       "      <td>Clarington Museums &amp; Archives</td>\n",
       "      <td>62 Temperance St</td>\n",
       "      <td>Bowmanville</td>\n",
       "      <td>Museum</td>\n",
       "      <td>43.913990</td>\n",
       "      <td>-78.688769</td>\n",
       "      <td>(905) 623-2734</td>\n",
       "    </tr>\n",
       "    <tr>\n",
       "      <th>14</th>\n",
       "      <td>Lynde House Museum &amp; Warren General Store</td>\n",
       "      <td>900 Brock Street South</td>\n",
       "      <td>Whitby</td>\n",
       "      <td>Museum</td>\n",
       "      <td>43.871501</td>\n",
       "      <td>-78.938801</td>\n",
       "      <td>(905) 665-3131</td>\n",
       "    </tr>\n",
       "    <tr>\n",
       "      <th>15</th>\n",
       "      <td>Ontario Golf Hall of Fame</td>\n",
       "      <td>40 Elgin Park Dr.</td>\n",
       "      <td>Uxbridge</td>\n",
       "      <td>Museum</td>\n",
       "      <td>44.097203</td>\n",
       "      <td>-79.117777</td>\n",
       "      <td>(905) 852-4379</td>\n",
       "    </tr>\n",
       "    <tr>\n",
       "      <th>16</th>\n",
       "      <td>Oshawa Military and Industrial Museum</td>\n",
       "      <td>1000 Stevenson Road North</td>\n",
       "      <td>Oshawa</td>\n",
       "      <td>Museum</td>\n",
       "      <td>43.916695</td>\n",
       "      <td>-78.893955</td>\n",
       "      <td>(905) 728-6199</td>\n",
       "    </tr>\n",
       "    <tr>\n",
       "      <th>17</th>\n",
       "      <td>Oshawa Sports Hall of Fame</td>\n",
       "      <td>99 Athol St E</td>\n",
       "      <td>Oshawa</td>\n",
       "      <td>Museum</td>\n",
       "      <td>43.897022</td>\n",
       "      <td>-78.859198</td>\n",
       "      <td>(905) 245-0360</td>\n",
       "    </tr>\n",
       "    <tr>\n",
       "      <th>18</th>\n",
       "      <td>Pickering Museum Village</td>\n",
       "      <td>2365 6th Concession Rd.</td>\n",
       "      <td>Greenwood</td>\n",
       "      <td>Museum</td>\n",
       "      <td>43.927077</td>\n",
       "      <td>-79.072103</td>\n",
       "      <td>(905) 683-8401</td>\n",
       "    </tr>\n",
       "    <tr>\n",
       "      <th>19</th>\n",
       "      <td>Ajax Community Theatre</td>\n",
       "      <td>78 Church Street South</td>\n",
       "      <td>Ajax</td>\n",
       "      <td>Theater</td>\n",
       "      <td>43.845407</td>\n",
       "      <td>-79.051519</td>\n",
       "      <td>(289) 892-4132</td>\n",
       "    </tr>\n",
       "    <tr>\n",
       "      <th>20</th>\n",
       "      <td>The Driftwood Theatre Group</td>\n",
       "      <td>910 Walnut Court</td>\n",
       "      <td>Oshawa</td>\n",
       "      <td>Theater</td>\n",
       "      <td>43.897956</td>\n",
       "      <td>-78.828491</td>\n",
       "      <td>(905) 576-2396</td>\n",
       "    </tr>\n",
       "    <tr>\n",
       "      <th>21</th>\n",
       "      <td>Whitby Courthouse Theatre</td>\n",
       "      <td>416 Centre Street South</td>\n",
       "      <td>Whitby</td>\n",
       "      <td>Theater</td>\n",
       "      <td>43.875286</td>\n",
       "      <td>-78.943060</td>\n",
       "      <td>(905) 668-8111</td>\n",
       "    </tr>\n",
       "    <tr>\n",
       "      <th>22</th>\n",
       "      <td>Yuk Yuk's Durham</td>\n",
       "      <td>235 Bayly St. W.</td>\n",
       "      <td>Ajax</td>\n",
       "      <td>Theater</td>\n",
       "      <td>43.841229</td>\n",
       "      <td>-79.026484</td>\n",
       "      <td>(416) 967-6425</td>\n",
       "    </tr>\n",
       "    <tr>\n",
       "      <th>23</th>\n",
       "      <td>Durham Shoestring Performers</td>\n",
       "      <td>45 Queen St</td>\n",
       "      <td>Oshawa</td>\n",
       "      <td>Theater</td>\n",
       "      <td>43.895721</td>\n",
       "      <td>-78.866684</td>\n",
       "      <td>(905) 725-9256</td>\n",
       "    </tr>\n",
       "    <tr>\n",
       "      <th>24</th>\n",
       "      <td>Oshawa Little Theatre</td>\n",
       "      <td>62 Russett Ave</td>\n",
       "      <td>Oshawa</td>\n",
       "      <td>Theater</td>\n",
       "      <td>43.929684</td>\n",
       "      <td>-78.882576</td>\n",
       "      <td>(905) 723-0282</td>\n",
       "    </tr>\n",
       "    <tr>\n",
       "      <th>25</th>\n",
       "      <td>Regent Theatre Ontario Tech</td>\n",
       "      <td>50 King St E</td>\n",
       "      <td>Oshawa</td>\n",
       "      <td>Theater</td>\n",
       "      <td>43.902832</td>\n",
       "      <td>-78.840904</td>\n",
       "      <td>(905) 721-3399 ext. 2</td>\n",
       "    </tr>\n",
       "    <tr>\n",
       "      <th>26</th>\n",
       "      <td>Oshawa  Museum</td>\n",
       "      <td>1450 Simcoe St. South</td>\n",
       "      <td>Oshawa</td>\n",
       "      <td>Museum</td>\n",
       "      <td>43.865427</td>\n",
       "      <td>-78.828968</td>\n",
       "      <td>(905) 436-7624</td>\n",
       "    </tr>\n",
       "    <tr>\n",
       "      <th>27</th>\n",
       "      <td>Oshawa Little Theater</td>\n",
       "      <td>62 Russett Ave.</td>\n",
       "      <td>Oshawa</td>\n",
       "      <td>Theater</td>\n",
       "      <td>43.929684</td>\n",
       "      <td>-78.882576</td>\n",
       "      <td>(905) 723 0282</td>\n",
       "    </tr>\n",
       "    <tr>\n",
       "      <th>28</th>\n",
       "      <td>Parkwood Estate</td>\n",
       "      <td>270 Simcoe St. North</td>\n",
       "      <td>Oshawa</td>\n",
       "      <td>Museum</td>\n",
       "      <td>43.904216</td>\n",
       "      <td>-78.867904</td>\n",
       "      <td>(905) 433 4311</td>\n",
       "    </tr>\n",
       "  </tbody>\n",
       "</table>\n",
       "</div>"
      ],
      "text/plain": [
       "                                                 name  \\\n",
       "0                                  Blue Willow Studio   \n",
       "1                                     Gallery 282 Ltd   \n",
       "2                                Images 21 Art Studio   \n",
       "3                              Magic Door Art Gallery   \n",
       "4                                 Marc Barrie Gallery   \n",
       "5                                     Preston Gallery   \n",
       "6                                  Ronden Art Gallery   \n",
       "7                 The LivingRoom Community Art Studio   \n",
       "8                 The Robert McLaughlin Gallery (RMG)   \n",
       "9                    Visual Arts Centre of Clarington   \n",
       "10                                    Station Gallery   \n",
       "11                                 Bowmanville Museum   \n",
       "12  Cannington Historical Society's Centennial Museum   \n",
       "13                      Clarington Museums & Archives   \n",
       "14          Lynde House Museum & Warren General Store   \n",
       "15                          Ontario Golf Hall of Fame   \n",
       "16              Oshawa Military and Industrial Museum   \n",
       "17                         Oshawa Sports Hall of Fame   \n",
       "18                           Pickering Museum Village   \n",
       "19                             Ajax Community Theatre   \n",
       "20                        The Driftwood Theatre Group   \n",
       "21                          Whitby Courthouse Theatre   \n",
       "22                                   Yuk Yuk's Durham   \n",
       "23                       Durham Shoestring Performers   \n",
       "24                              Oshawa Little Theatre   \n",
       "25                        Regent Theatre Ontario Tech   \n",
       "26                                     Oshawa  Museum   \n",
       "27                              Oshawa Little Theater   \n",
       "28                                    Parkwood Estate   \n",
       "\n",
       "                      address         city   categories        lat        lng  \\\n",
       "0          19 Patricia Avenue       Oshawa  Art Gallery  43.901553 -78.849534   \n",
       "1         321 Northcliffe Ave       Oshawa  Art Gallery  43.917164 -78.884608   \n",
       "2           552 Westney Rd. N         Ajax  Art Gallery  43.868353 -79.039990   \n",
       "3            100 River Street   Sunderland  Art Gallery  54.875990  -1.421068   \n",
       "4                  1613 7 Hwy     Brougham  Art Gallery  54.648120  -2.729612   \n",
       "5            77 Brock St West     Uxbridge  Art Gallery  44.108679 -79.123945   \n",
       "6       133 Taunton Road West       Oshawa  Art Gallery  43.931302 -78.884629   \n",
       "7     149 Simcoe Street South       Oshawa  Art Gallery  43.893687 -78.861618   \n",
       "8             72 Queen Street       Oshawa  Art Gallery  43.895721 -78.866684   \n",
       "9          143 Simpson Avenue  Bowmanville  Art Gallery  43.903348 -78.671832   \n",
       "10          1450 Henry Street       Whitby  Art Gallery  43.861444 -78.939736   \n",
       "11               37 Silver St  Bowmanville       Museum  43.914519 -78.689805   \n",
       "12            72 Peace Street   Cannington       Museum  44.349093 -79.034919   \n",
       "13           62 Temperance St  Bowmanville       Museum  43.913990 -78.688769   \n",
       "14     900 Brock Street South       Whitby       Museum  43.871501 -78.938801   \n",
       "15          40 Elgin Park Dr.     Uxbridge       Museum  44.097203 -79.117777   \n",
       "16  1000 Stevenson Road North       Oshawa       Museum  43.916695 -78.893955   \n",
       "17              99 Athol St E       Oshawa       Museum  43.897022 -78.859198   \n",
       "18    2365 6th Concession Rd.    Greenwood       Museum  43.927077 -79.072103   \n",
       "19     78 Church Street South         Ajax      Theater  43.845407 -79.051519   \n",
       "20           910 Walnut Court       Oshawa      Theater  43.897956 -78.828491   \n",
       "21    416 Centre Street South       Whitby      Theater  43.875286 -78.943060   \n",
       "22           235 Bayly St. W.         Ajax      Theater  43.841229 -79.026484   \n",
       "23                45 Queen St       Oshawa      Theater  43.895721 -78.866684   \n",
       "24             62 Russett Ave       Oshawa      Theater  43.929684 -78.882576   \n",
       "25               50 King St E       Oshawa      Theater  43.902832 -78.840904   \n",
       "26      1450 Simcoe St. South       Oshawa       Museum  43.865427 -78.828968   \n",
       "27            62 Russett Ave.       Oshawa      Theater  43.929684 -78.882576   \n",
       "28       270 Simcoe St. North       Oshawa       Museum  43.904216 -78.867904   \n",
       "\n",
       "                    Phone  \n",
       "0            905 435-0575  \n",
       "1            905 576-2187  \n",
       "2          (905) 239-6363  \n",
       "3          (705) 357-1973  \n",
       "4          (905) 683-7010  \n",
       "5            905-550-8825  \n",
       "6            905 718 9099  \n",
       "7                    none  \n",
       "8          (905) 576-3000  \n",
       "9          (905) 623-5831  \n",
       "10         (905) 668-4185  \n",
       "11         (905) 623-2734  \n",
       "12           705 432 3136  \n",
       "13         (905) 623-2734  \n",
       "14         (905) 665-3131  \n",
       "15         (905) 852-4379  \n",
       "16         (905) 728-6199  \n",
       "17         (905) 245-0360  \n",
       "18         (905) 683-8401  \n",
       "19         (289) 892-4132  \n",
       "20         (905) 576-2396  \n",
       "21         (905) 668-8111  \n",
       "22         (416) 967-6425  \n",
       "23         (905) 725-9256  \n",
       "24         (905) 723-0282  \n",
       "25  (905) 721-3399 ext. 2  \n",
       "26         (905) 436-7624  \n",
       "27         (905) 723 0282  \n",
       "28         (905) 433 4311  "
      ]
     },
     "execution_count": 16,
     "metadata": {},
     "output_type": "execute_result"
    }
   ],
   "source": [
    "#if any address did not return coordinants, remove any NaN entries\n",
    "arts_df.dropna(subset = ['lat','lng'], inplace = True)\n",
    "arts_df.reset_index(drop=True, inplace = True)\n",
    "arts_df"
   ]
  },
  {
   "cell_type": "markdown",
   "metadata": {},
   "source": [
    "### - We now have 29 venues"
   ]
  },
  {
   "cell_type": "code",
   "execution_count": 7,
   "metadata": {},
   "outputs": [
    {
     "name": "stdout",
     "output_type": "stream",
     "text": [
      "done\n"
     ]
    }
   ],
   "source": [
    "# save the dataframe to a csv file so it can be used in future codes\n",
    "\n",
    "arts_df.to_csv('arts_venues_data.csv')\n",
    "print('done')"
   ]
  },
  {
   "cell_type": "markdown",
   "metadata": {},
   "source": [
    "# 2. Visualizing the Data"
   ]
  },
  {
   "cell_type": "markdown",
   "metadata": {},
   "source": [
    "### - How many communities have venues"
   ]
  },
  {
   "cell_type": "code",
   "execution_count": 8,
   "metadata": {},
   "outputs": [
    {
     "name": "stdout",
     "output_type": "stream",
     "text": [
      "number of communities:  9\n",
      "communities are:  ['Oshawa' 'Ajax' 'Sunderland' 'Brougham' 'Uxbridge' 'Bowmanville' 'Whitby'\n",
      " 'Cannington' 'Greenwood']\n"
     ]
    }
   ],
   "source": [
    "coms = arts_df['city'].unique()\n",
    "print('number of communities: ', len(coms))\n",
    "print('communities are: ', coms)\n"
   ]
  },
  {
   "cell_type": "markdown",
   "metadata": {},
   "source": [
    "### - How many venues for each community"
   ]
  },
  {
   "cell_type": "code",
   "execution_count": 17,
   "metadata": {},
   "outputs": [
    {
     "data": {
      "text/html": [
       "<div>\n",
       "<style scoped>\n",
       "    .dataframe tbody tr th:only-of-type {\n",
       "        vertical-align: middle;\n",
       "    }\n",
       "\n",
       "    .dataframe tbody tr th {\n",
       "        vertical-align: top;\n",
       "    }\n",
       "\n",
       "    .dataframe thead th {\n",
       "        text-align: right;\n",
       "    }\n",
       "</style>\n",
       "<table border=\"1\" class=\"dataframe\">\n",
       "  <thead>\n",
       "    <tr style=\"text-align: right;\">\n",
       "      <th></th>\n",
       "      <th>city</th>\n",
       "      <th>counts</th>\n",
       "    </tr>\n",
       "  </thead>\n",
       "  <tbody>\n",
       "    <tr>\n",
       "      <th>0</th>\n",
       "      <td>Ajax</td>\n",
       "      <td>3</td>\n",
       "    </tr>\n",
       "    <tr>\n",
       "      <th>1</th>\n",
       "      <td>Bowmanville</td>\n",
       "      <td>3</td>\n",
       "    </tr>\n",
       "    <tr>\n",
       "      <th>2</th>\n",
       "      <td>Brougham</td>\n",
       "      <td>1</td>\n",
       "    </tr>\n",
       "    <tr>\n",
       "      <th>3</th>\n",
       "      <td>Cannington</td>\n",
       "      <td>1</td>\n",
       "    </tr>\n",
       "    <tr>\n",
       "      <th>4</th>\n",
       "      <td>Greenwood</td>\n",
       "      <td>1</td>\n",
       "    </tr>\n",
       "    <tr>\n",
       "      <th>5</th>\n",
       "      <td>Oshawa</td>\n",
       "      <td>14</td>\n",
       "    </tr>\n",
       "    <tr>\n",
       "      <th>6</th>\n",
       "      <td>Sunderland</td>\n",
       "      <td>1</td>\n",
       "    </tr>\n",
       "    <tr>\n",
       "      <th>7</th>\n",
       "      <td>Uxbridge</td>\n",
       "      <td>2</td>\n",
       "    </tr>\n",
       "    <tr>\n",
       "      <th>8</th>\n",
       "      <td>Whitby</td>\n",
       "      <td>3</td>\n",
       "    </tr>\n",
       "  </tbody>\n",
       "</table>\n",
       "</div>"
      ],
      "text/plain": [
       "          city  counts\n",
       "0         Ajax       3\n",
       "1  Bowmanville       3\n",
       "2     Brougham       1\n",
       "3   Cannington       1\n",
       "4    Greenwood       1\n",
       "5       Oshawa      14\n",
       "6   Sunderland       1\n",
       "7     Uxbridge       2\n",
       "8       Whitby       3"
      ]
     },
     "execution_count": 17,
     "metadata": {},
     "output_type": "execute_result"
    }
   ],
   "source": [
    "grp_df = arts_df.groupby('city'). size().reset_index(name = 'counts')\n",
    "grp_df"
   ]
  },
  {
   "cell_type": "code",
   "execution_count": 10,
   "metadata": {},
   "outputs": [],
   "source": [
    "import matplotlib.pyplot as plt\n",
    "%matplotlib inline"
   ]
  },
  {
   "cell_type": "code",
   "execution_count": 11,
   "metadata": {},
   "outputs": [
    {
     "data": {
      "image/png": "[encoded data removed]",
      "text/plain": [
       "<Figure size 432x288 with 1 Axes>"
      ]
     },
     "metadata": {
      "needs_background": "light"
     },
     "output_type": "display_data"
    }
   ],
   "source": [
    "plt.bar(grp_df['city'], grp_df['counts'])\n",
    "plt.title('Art and Culture Venues by Community')\n",
    "plt.xlabel('Communities')\n",
    "plt.ylabel('Number of venues')\n",
    "plt.xticks(\n",
    "    rotation=45, \n",
    "    horizontalalignment='right'\n",
    ")\n",
    "\n",
    "plt.show()"
   ]
  },
  {
   "cell_type": "markdown",
   "metadata": {},
   "source": [
    "\n",
    "# 3. Creating the Map"
   ]
  },
  {
   "cell_type": "markdown",
   "metadata": {},
   "source": [
    "### - Find a central point for Durham"
   ]
  },
  {
   "cell_type": "code",
   "execution_count": 18,
   "metadata": {},
   "outputs": [
    {
     "data": {
      "text/plain": [
       "Location(Durham, Oshawa, Durham Region, Golden Horseshoe, Ontario, Canada, (44.0338942, -78.86978798748362, 0.0))"
      ]
     },
     "execution_count": 18,
     "metadata": {},
     "output_type": "execute_result"
    }
   ],
   "source": [
    "locator=Nominatim(user_agent='dh_explorer')\n",
    "Durham_location = locator.geocode('Durham,Ontario,Canada')\n",
    "Durham_location"
   ]
  },
  {
   "cell_type": "code",
   "execution_count": 19,
   "metadata": {},
   "outputs": [
    {
     "name": "stdout",
     "output_type": "stream",
     "text": [
      "44.0338942 -78.86978798748362\n"
     ]
    }
   ],
   "source": [
    "D_lat = Durham_location.latitude\n",
    "D_lon= Durham_location.longitude\n",
    "print(D_lat, D_lon)"
   ]
  },
  {
   "cell_type": "markdown",
   "metadata": {},
   "source": [
    "### - Instantiate map of Durham"
   ]
  },
  {
   "cell_type": "code",
   "execution_count": 20,
   "metadata": {},
   "outputs": [],
   "source": [
    "map_durham = folium.Map(location=[D_lat, D_lon], \n",
    "                        zoom_start =9,\n",
    "                       )"
   ]
  },
  {
   "cell_type": "markdown",
   "metadata": {},
   "source": [
    "### - Add legend from picture file"
   ]
  },
  {
   "cell_type": "code",
   "execution_count": 21,
   "metadata": {},
   "outputs": [
    {
     "data": {
      "text/plain": [
       "<folium.plugins.float_image.FloatImage at 0x14b17621880>"
      ]
     },
     "execution_count": 21,
     "metadata": {},
     "output_type": "execute_result"
    }
   ],
   "source": [
    "from folium.plugins import FloatImage\n",
    "image_file = 'legend.PNG'\n",
    "\n",
    "FloatImage(image_file, bottom=75, left=80).add_to(map_durham)\n"
   ]
  },
  {
   "cell_type": "markdown",
   "metadata": {},
   "source": [
    "### - Add a title"
   ]
  },
  {
   "cell_type": "code",
   "execution_count": 22,
   "metadata": {},
   "outputs": [
    {
     "data": {
      "text/plain": [
       "<branca.element.Element at 0x14b181a68e0>"
      ]
     },
     "execution_count": 22,
     "metadata": {},
     "output_type": "execute_result"
    }
   ],
   "source": [
    "loc = 'Durham Art and Culture Venues'\n",
    "title_html = '''\n",
    "             <h3 align=\"center\" style=\"font-size:18px\"><b>{}</b></h3>\n",
    "             '''.format(loc)   \n",
    "\n",
    "map_durham.get_root().html.add_child(folium.Element(title_html))\n"
   ]
  },
  {
   "cell_type": "markdown",
   "metadata": {},
   "source": [
    "### - Add the markers with the popup labels"
   ]
  },
  {
   "cell_type": "code",
   "execution_count": 23,
   "metadata": {
    "scrolled": false
   },
   "outputs": [
    {
     "name": "stdout",
     "output_type": "stream",
     "text": [
      "29\n"
     ]
    },
    {
     "data": {
      "text/html": [
       "<div style=\"width:100%;\"><div style=\"position:relative;width:100%;height:0;padding-bottom:60%;\"><span style=\"color:#565656\">Make this Notebook Trusted to load map: File -> Trust Notebook</span><iframe src=\"about:blank\" style=\"position:absolute;width:100%;height:100%;left:0;top:0;border:none !important;\" data-html=PCFET0NUWVBFIGh0bWw+CjxoZWFkPiAgICAKICAgIDxtZXRhIGh0dHAtZXF1aXY9ImNvbnRlbnQtdHlwZSIgY29udGVudD0idGV4dC9odG1sOyBjaGFyc2V0PVVURi04IiAvPgogICAgCiAgICAgICAgPHNjcmlwdD4KICAgICAgICAgICAgTF9OT19UT1VDSCA9IGZhbHNlOwogICAgICAgICAgICBMX0RJU0FCTEVfM0QgPSBmYWxzZTsKICAgICAgICA8L3NjcmlwdD4KICAgIAogICAgPHNjcmlwdCBzcmM9Imh0dHBzOi8vY2RuLmpzZGVsaXZyLm5ldC9ucG0vbGVhZmxldEAxLjYuMC9kaXN0L2xlYWZsZXQuanMiPjwvc2NyaXB0PgogICAgPHNjcmlwdCBzcmM9Imh0dHBzOi8vY29kZS5qcXVlcnkuY29tL2pxdWVyeS0xLjEyLjQubWluLmpzIj48L3NjcmlwdD4KICAgIDxzY3JpcHQgc3JjPSJodHRwczovL21heGNkbi5ib290c3RyYXBjZG4uY29tL2Jvb3RzdHJhcC8zLjIuMC9qcy9ib290c3RyYXAubWluLmpzIj48L3NjcmlwdD4KICAgIDxzY3JpcHQgc3JjPSJodHRwczovL2NkbmpzLmNsb3VkZmxhcmUuY29tL2FqYXgvbGlicy9MZWFmbGV0LmF3ZXNvbWUtbWFya2Vycy8yLjAuMi9sZWFmbGV0LmF3ZXNvbWUtbWFya2Vycy5qcyI+PC9zY3JpcHQ+CiAgICA8bGluayByZWw9InN0eWxlc2hlZXQiIGhyZWY9Imh0dHBzOi8vY2RuLmpzZGVsaXZyLm5ldC9ucG0vbGVhZmxldEAxLjYuMC9kaXN0L2xlYWZsZXQuY3NzIi8+CiAgICA8bGluayByZWw9InN0eWxlc2hlZXQiIGhyZWY9Imh0dHBzOi8vbWF4Y2RuLmJvb3RzdHJhcGNkbi5jb20vYm9vdHN0cmFwLzMuMi4wL2Nzcy9ib290c3RyYXAubWluLmNzcyIvPgogICAgPGxpbmsgcmVsPSJzdHlsZXNoZWV0IiBocmVmPSJodHRwczovL21heGNkbi5ib290c3RyYXBjZG4uY29tL2Jvb3RzdHJhcC8zLjIuMC9jc3MvYm9vdHN0cmFwLXRoZW1lLm1pbi5jc3MiLz4KICAgIDxsaW5rIHJlbD0ic3R5bGVzaGVldCIgaHJlZj0iaHR0cHM6Ly9tYXhjZG4uYm9vdHN0cmFwY2RuLmNvbS9mb250LWF3ZXNvbWUvNC42LjMvY3NzL2ZvbnQtYXdlc29tZS5taW4uY3NzIi8+CiAgICA8bGluayByZWw9InN0eWxlc2hlZXQiIGhyZWY9Imh0dHBzOi8vY2RuanMuY2xvdWRmbGFyZS5jb20vYWpheC9saWJzL0xlYWZsZXQuYXdlc29tZS1tYXJrZXJzLzIuMC4yL2xlYWZsZXQuYXdlc29tZS1tYXJrZXJzLmNzcyIvPgogICAgPGxpbmsgcmVsPSJzdHlsZXNoZWV0IiBocmVmPSJodHRwczovL3Jhd2Nkbi5naXRoYWNrLmNvbS9weXRob24tdmlzdWFsaXphdGlvbi9mb2xpdW0vbWFzdGVyL2ZvbGl1bS90ZW1wbGF0ZXMvbGVhZmxldC5hd2Vzb21lLnJvdGF0ZS5jc3MiLz4KICAgIDxzdHlsZT5odG1sLCBib2R5IHt3aWR0aDogMTAwJTtoZWlnaHQ6IDEwMCU7bWFyZ2luOiAwO3BhZGRpbmc6IDA7fTwvc3R5bGU+CiAgICA8c3R5bGU+I21hcCB7cG9zaXRpb246YWJzb2x1dGU7dG9wOjA7Ym90dG9tOjA7cmlnaHQ6MDtsZWZ0OjA7fTwvc3R5bGU+CiAgICAKICAgICAgICAgICAgPG1ldGEgbmFtZT0idmlld3BvcnQiIGNvbnRlbnQ9IndpZHRoPWRldmljZS13aWR0aCwKICAgICAgICAgICAgICAgIGluaXRpYWwtc2NhbGU9MS4wLCBtYXhpbXVtLXNjYWxlPTEuMCwgdXNlci1zY2FsYWJsZT1ubyIgLz4KICAgICAgICAgICAgPHN0eWxlPgogICAgICAgICAgICAgICAgI21hcF8yYjMzOTM3ZjA2MGI0MzE0OGFkNDEyN2UyYmU0YTExMCB7CiAgICAgICAgICAgICAgICAgICAgcG9zaXRpb246IHJlbGF0aXZlOwogICAgICAgICAgICAgICAgICAgIHdpZHRoOiAxMDAuMCU7CiAgICAgICAgICAgICAgICAgICAgaGVpZ2h0OiAxMDAuMCU7CiAgICAgICAgICAgICAgICAgICAgbGVmdDogMC4wJTsKICAgICAgICAgICAgICAgICAgICB0b3A6IDAuMCU7CiAgICAgICAgICAgICAgICB9CiAgICAgICAgICAgIDwvc3R5bGU+CiAgICAgICAgCiAgICAKICAgICAgICAgICAgICAgIDxzdHlsZT4KICAgICAgICAgICAgICAgICAgICAjZmxvYXRfaW1hZ2VfNjVlZmQxMGNkMjE4NGRlZmJmNTU2OWEzODdjYzU5NjQgewogICAgICAgICAgICAgICAgICAgICAgICBwb3NpdGlvbjphYnNvbHV0ZTsKICAgICAgICAgICAgICAgICAgICAgICAgYm90dG9tOjc1JTsKICAgICAgICAgICAgICAgICAgICAgICAgbGVmdDo4MCU7CiAgICAgICAgICAgICAgICAgICAgICAgIH0KICAgICAgICAgICAgICAgIDwvc3R5bGU+CiAgICAgICAgICAgIAo8L2hlYWQ+Cjxib2R5PiAgICAKICAgIAogICAgICAgICAgICAgPGgzIGFsaWduPSJjZW50ZXIiIHN0eWxlPSJmb250LXNpemU6MThweCI+PGI+RHVyaGFtIEFydCBhbmQgQ3VsdHVyZSBWZW51ZXM8L2I+PC9oMz4KICAgICAgICAgICAgIAogICAgCiAgICAgICAgICAgIDxkaXYgY2xhc3M9ImZvbGl1bS1tYXAiIGlkPSJtYXBfMmIzMzkzN2YwNjBiNDMxNDhhZDQxMjdlMmJlNGExMTAiID48L2Rpdj4KICAgICAgICAKICAgIAogICAgICAgICAgICA8aW1nIGlkPSJmbG9hdF9pbWFnZV82NWVmZDEwY2QyMTg0ZGVmYmY1NTY5YTM4N2NjNTk2NCIgYWx0PSJmbG9hdF9pbWFnZSIKICAgICAgICAgICAgICAgICBzcmM9ImxlZ2VuZC5QTkciCiAgICAgICAgICAgICAgICAgc3R5bGU9InotaW5kZXg6IDk5OTk5OSI+CiAgICAgICAgICAgIDwvaW1nPgogICAgICAgICAgICAKPC9ib2R5Pgo8c2NyaXB0PiAgICAKICAgIAogICAgICAgICAgICB2YXIgbWFwXzJiMzM5MzdmMDYwYjQzMTQ4YWQ0MTI3ZTJiZTRhMTEwID0gTC5tYXAoCiAgICAgICAgICAgICAgICAibWFwXzJiMzM5MzdmMDYwYjQzMTQ4YWQ0MTI3ZTJiZTRhMTEwIiwKICAgICAgICAgICAgICAgIHsKICAgICAgICAgICAgICAgICAgICBjZW50ZXI6IFs0NC4wMzM4OTQyLCAtNzguODY5Nzg3OTg3NDgzNjJdLAogICAgICAgICAgICAgICAgICAgIGNyczogTC5DUlMuRVBTRzM4NTcsCiAgICAgICAgICAgICAgICAgICAgem9vbTogOSwKICAgICAgICAgICAgICAgICAgICB6b29tQ29udHJvbDogdHJ1ZSwKICAgICAgICAgICAgICAgICAgICBwcmVmZXJDYW52YXM6IGZhbHNlLAogICAgICAgICAgICAgICAgfQogICAgICAgICAgICApOwoKICAgICAgICAgICAgCgogICAgICAgIAogICAgCiAgICAgICAgICAgIHZhciB0aWxlX2xheWVyXzgyY2ExODk5YWE2ZTQzZDg4Njg5ZjVlYmVmN2UwNThkID0gTC50aWxlTGF5ZXIoCiAgICAgICAgICAgICAgICAiaHR0cHM6Ly97c30udGlsZS5vcGVuc3RyZWV0bWFwLm9yZy97en0ve3h9L3t5fS5wbmciLAogICAgICAgICAgICAgICAgeyJhdHRyaWJ1dGlvbiI6ICJEYXRhIGJ5IFx1MDAyNmNvcHk7IFx1MDAzY2EgaHJlZj1cImh0dHA6Ly9vcGVuc3RyZWV0bWFwLm9yZ1wiXHUwMDNlT3BlblN0cmVldE1hcFx1MDAzYy9hXHUwMDNlLCB1bmRlciBcdTAwM2NhIGhyZWY9XCJodHRwOi8vd3d3Lm9wZW5zdHJlZXRtYXAub3JnL2NvcHlyaWdodFwiXHUwMDNlT0RiTFx1MDAzYy9hXHUwMDNlLiIsICJkZXRlY3RSZXRpbmEiOiBmYWxzZSwgIm1heE5hdGl2ZVpvb20iOiAxOCwgIm1heFpvb20iOiAxOCwgIm1pblpvb20iOiAwLCAibm9XcmFwIjogZmFsc2UsICJvcGFjaXR5IjogMSwgInN1YmRvbWFpbnMiOiAiYWJjIiwgInRtcyI6IGZhbHNlfQogICAgICAgICAgICApLmFkZFRvKG1hcF8yYjMzOTM3ZjA2MGI0MzE0OGFkNDEyN2UyYmU0YTExMCk7CiAgICAgICAgCiAgICAKICAgICAgICAgICAgdmFyIG1hcmtlcl82NWJkYTM4ZTFjYzk0YWFlYjJmZmU1OGNkZGEzNDRjOSA9IEwubWFya2VyKAogICAgICAgICAgICAgICAgWzQzLjkwMTU1MjU3NSwgLTc4Ljg0OTUzMzg2ODc1XSwKICAgICAgICAgICAgICAgIHsicGFyc2VIdG1sIjogZmFsc2UsICJyYWRpdXMiOiA1fQogICAgICAgICAgICApLmFkZFRvKG1hcF8yYjMzOTM3ZjA2MGI0MzE0OGFkNDEyN2UyYmU0YTExMCk7CiAgICAgICAgCiAgICAKICAgICAgICAgICAgdmFyIGljb25fNzdkYzNlMDQ4MjA3NGFjOThhODZkYzU4MmY3NGUxMzggPSBMLkF3ZXNvbWVNYXJrZXJzLmljb24oCiAgICAgICAgICAgICAgICB7ImV4dHJhQ2xhc3NlcyI6ICJmYS1yb3RhdGUtMCIsICJpY29uIjogImZhLWFzdGVyaXNrIiwgImljb25Db2xvciI6ICJ3aGl0ZSIsICJtYXJrZXJDb2xvciI6ICJibHVlIiwgInByZWZpeCI6ICJmYSJ9CiAgICAgICAgICAgICk7CiAgICAgICAgICAgIG1hcmtlcl82NWJkYTM4ZTFjYzk0YWFlYjJmZmU1OGNkZGEzNDRjOS5zZXRJY29uKGljb25fNzdkYzNlMDQ4MjA3NGFjOThhODZkYzU4MmY3NGUxMzgpOwogICAgICAgIAogICAgCiAgICAgICAgdmFyIHBvcHVwXzY4NDczMjA2MGFjNDRmYjZhOWQ0YzVmYjM4Y2EwNmI3ID0gTC5wb3B1cCh7Im1heFdpZHRoIjogMjAwfSk7CgogICAgICAgIAogICAgICAgICAgICB2YXIgaV9mcmFtZV9hNzA3OTVlODYyOWQ0MGExOTcyMjA1YWVhMWU5ZTk0MiA9ICQoYDxpZnJhbWUgc3JjPSJkYXRhOnRleHQvaHRtbDtjaGFyc2V0PXV0Zi04O2Jhc2U2NCxDaUFnSUNCQ2JIVmxJRmRwYkd4dmR5QlRkSFZrYVc4c1BHSnlQZ29nSUNBZ0lDQWdJREU1SUZCaGRISnBZMmxoSUVGMlpXNTFaU3dnVDNOb1lYZGhQR0p5UGdvZ0lDQWdJQ0FnSURrd05TQTBNelV0TURVM05RPT0iIHdpZHRoPSIxNTAiIHN0eWxlPSJib3JkZXI6bm9uZSAhaW1wb3J0YW50OyIgaGVpZ2h0PSIxNTAiPjwvaWZyYW1lPmApWzBdOwogICAgICAgICAgICBwb3B1cF82ODQ3MzIwNjBhYzQ0ZmI2YTlkNGM1ZmIzOGNhMDZiNy5zZXRDb250ZW50KGlfZnJhbWVfYTcwNzk1ZTg2MjlkNDBhMTk3MjIwNWFlYTFlOWU5NDIpOwogICAgICAgIAoKICAgICAgICBtYXJrZXJfNjViZGEzOGUxY2M5NGFhZWIyZmZlNThjZGRhMzQ0YzkuYmluZFBvcHVwKHBvcHVwXzY4NDczMjA2MGFjNDRmYjZhOWQ0YzVmYjM4Y2EwNmI3KQogICAgICAgIDsKCiAgICAgICAgCiAgICAKICAgIAogICAgICAgICAgICB2YXIgbWFya2VyX2ViOWNjYmU4NTY0NzRmNmNiNDgwNWRmOTI2OTVhYzg1ID0gTC5tYXJrZXIoCiAgICAgICAgICAgICAgICBbNDMuOTE3MTYzNiwgLTc4Ljg4NDYwNzZdLAogICAgICAgICAgICAgICAgeyJwYXJzZUh0bWwiOiBmYWxzZSwgInJhZGl1cyI6IDV9CiAgICAgICAgICAgICkuYWRkVG8obWFwXzJiMzM5MzdmMDYwYjQzMTQ4YWQ0MTI3ZTJiZTRhMTEwKTsKICAgICAgICAKICAgIAogICAgICAgICAgICB2YXIgaWNvbl9jZTM1ZGVmN2FjZGQ0OTJjODdjNjFiZTA1NTM3MjZjOCA9IEwuQXdlc29tZU1hcmtlcnMuaWNvbigKICAgICAgICAgICAgICAgIHsiZXh0cmFDbGFzc2VzIjogImZhLXJvdGF0ZS0wIiwgImljb24iOiAiZmEtYXN0ZXJpc2siLCAiaWNvbkNvbG9yIjogIndoaXRlIiwgIm1hcmtlckNvbG9yIjogImJsdWUiLCAicHJlZml4IjogImZhIn0KICAgICAgICAgICAgKTsKICAgICAgICAgICAgbWFya2VyX2ViOWNjYmU4NTY0NzRmNmNiNDgwNWRmOTI2OTVhYzg1LnNldEljb24oaWNvbl9jZTM1ZGVmN2FjZGQ0OTJjODdjNjFiZTA1NTM3MjZjOCk7CiAgICAgICAgCiAgICAKICAgICAgICB2YXIgcG9wdXBfMjMyZjRjODllZWNjNGE4Mjg3ZjUyODhmM2VmNWI2NzUgPSBMLnBvcHVwKHsibWF4V2lkdGgiOiAyMDB9KTsKCiAgICAgICAgCiAgICAgICAgICAgIHZhciBpX2ZyYW1lXzFhZmU1ZDIzMmRmMTQwZDhiZTk5OGJkY2QwYzkzYzVkID0gJChgPGlmcmFtZSBzcmM9ImRhdGE6dGV4dC9odG1sO2NoYXJzZXQ9dXRmLTg7YmFzZTY0LENpQWdJQ0JIWVd4c1pYSjVJREk0TWlCTWRHUXNQR0p5UGdvZ0lDQWdJQ0FnSURNeU1TQk9iM0owYUdOc2FXWm1aU0JCZG1Vc0lFOXphR0YzWVR4aWNqNEtJQ0FnSUNBZ0lDQTVNRFVnTlRjMkxUSXhPRGM9IiB3aWR0aD0iMTUwIiBzdHlsZT0iYm9yZGVyOm5vbmUgIWltcG9ydGFudDsiIGhlaWdodD0iMTUwIj48L2lmcmFtZT5gKVswXTsKICAgICAgICAgICAgcG9wdXBfMjMyZjRjODllZWNjNGE4Mjg3ZjUyODhmM2VmNWI2NzUuc2V0Q29udGVudChpX2ZyYW1lXzFhZmU1ZDIzMmRmMTQwZDhiZTk5OGJkY2QwYzkzYzVkKTsKICAgICAgICAKCiAgICAgICAgbWFya2VyX2ViOWNjYmU4NTY0NzRmNmNiNDgwNWRmOTI2OTVhYzg1LmJpbmRQb3B1cChwb3B1cF8yMzJmNGM4OWVlY2M0YTgyODdmNTI4OGYzZWY1YjY3NSkKICAgICAgICA7CgogICAgICAgIAogICAgCiAgICAKICAgICAgICAgICAgdmFyIG1hcmtlcl8wNzZiNDY2MzhmY2U0ZDNiOTgyMmIzZjczOGY2MDcyZSA9IEwubWFya2VyKAogICAgICAgICAgICAgICAgWzQzLjg2ODM1MjczODY2OTEzLCAtNzkuMDM5OTg5ODgyMjUxMTJdLAogICAgICAgICAgICAgICAgeyJwYXJzZUh0bWwiOiBmYWxzZSwgInJhZGl1cyI6IDV9CiAgICAgICAgICAgICkuYWRkVG8obWFwXzJiMzM5MzdmMDYwYjQzMTQ4YWQ0MTI3ZTJiZTRhMTEwKTsKICAgICAgICAKICAgIAogICAgICAgICAgICB2YXIgaWNvbl80N2IwMDdjYWI2N2E0N2IwOWUzMTgzMmQ2YTQyMzkxZCA9IEwuQXdlc29tZU1hcmtlcnMuaWNvbigKICAgICAgICAgICAgICAgIHsiZXh0cmFDbGFzc2VzIjogImZhLXJvdGF0ZS0wIiwgImljb24iOiAiZmEtYXN0ZXJpc2siLCAiaWNvbkNvbG9yIjogIndoaXRlIiwgIm1hcmtlckNvbG9yIjogImJsdWUiLCAicHJlZml4IjogImZhIn0KICAgICAgICAgICAgKTsKICAgICAgICAgICAgbWFya2VyXzA3NmI0NjYzOGZjZTRkM2I5ODIyYjNmNzM4ZjYwNzJlLnNldEljb24oaWNvbl80N2IwMDdjYWI2N2E0N2IwOWUzMTgzMmQ2YTQyMzkxZCk7CiAgICAgICAgCiAgICAKICAgICAgICB2YXIgcG9wdXBfYmM2MDBhMzZlNzY0NDIxMGIzNGMyODdlMzZlYzg2Y2EgPSBMLnBvcHVwKHsibWF4V2lkdGgiOiAyMDB9KTsKCiAgICAgICAgCiAgICAgICAgICAgIHZhciBpX2ZyYW1lXzAwZjdkYWU5ODdmOTRkOTZiZjRlNGY1NTgzNjRkNDM4ID0gJChgPGlmcmFtZSBzcmM9ImRhdGE6dGV4dC9odG1sO2NoYXJzZXQ9dXRmLTg7YmFzZTY0LENpQWdJQ0JKYldGblpYTWdNakVnUVhKMElGTjBkV1JwYnl3OFluSStDaUFnSUNBZ0lDQWdOVFV5SUZkbGMzUnVaWGtnVW1RdUlFNHNJRUZxWVhnOFluSStDaUFnSUNBZ0lDQWdLRGt3TlNrZ01qTTVMVFl6TmpNPSIgd2lkdGg9IjE1MCIgc3R5bGU9ImJvcmRlcjpub25lICFpbXBvcnRhbnQ7IiBoZWlnaHQ9IjE1MCI+PC9pZnJhbWU+YClbMF07CiAgICAgICAgICAgIHBvcHVwX2JjNjAwYTM2ZTc2NDQyMTBiMzRjMjg3ZTM2ZWM4NmNhLnNldENvbnRlbnQoaV9mcmFtZV8wMGY3ZGFlOTg3Zjk0ZDk2YmY0ZTRmNTU4MzY0ZDQzOCk7CiAgICAgICAgCgogICAgICAgIG1hcmtlcl8wNzZiNDY2MzhmY2U0ZDNiOTgyMmIzZjczOGY2MDcyZS5iaW5kUG9wdXAocG9wdXBfYmM2MDBhMzZlNzY0NDIxMGIzNGMyODdlMzZlYzg2Y2EpCiAgICAgICAgOwoKICAgICAgICAKICAgIAogICAgCiAgICAgICAgICAgIHZhciBtYXJrZXJfZGIzZWZkYWUwM2Y3NGQ5NWI3NjlkMjY3OTYzNzRjZGQgPSBMLm1hcmtlcigKICAgICAgICAgICAgICAgIFs1NC44NzU5OTA0LCAtMS40MjEwNjgxXSwKICAgICAgICAgICAgICAgIHsicGFyc2VIdG1sIjogZmFsc2UsICJyYWRpdXMiOiA1fQogICAgICAgICAgICApLmFkZFRvKG1hcF8yYjMzOTM3ZjA2MGI0MzE0OGFkNDEyN2UyYmU0YTExMCk7CiAgICAgICAgCiAgICAKICAgICAgICAgICAgdmFyIGljb25fZGQ4NWNmYmY5ZGVmNDRjNzg4NDVjZGQ5ZTdhNjQ5ZjUgPSBMLkF3ZXNvbWVNYXJrZXJzLmljb24oCiAgICAgICAgICAgICAgICB7ImV4dHJhQ2xhc3NlcyI6ICJmYS1yb3RhdGUtMCIsICJpY29uIjogImZhLWFzdGVyaXNrIiwgImljb25Db2xvciI6ICJ3aGl0ZSIsICJtYXJrZXJDb2xvciI6ICJibHVlIiwgInByZWZpeCI6ICJmYSJ9CiAgICAgICAgICAgICk7CiAgICAgICAgICAgIG1hcmtlcl9kYjNlZmRhZTAzZjc0ZDk1Yjc2OWQyNjc5NjM3NGNkZC5zZXRJY29uKGljb25fZGQ4NWNmYmY5ZGVmNDRjNzg4NDVjZGQ5ZTdhNjQ5ZjUpOwogICAgICAgIAogICAgCiAgICAgICAgdmFyIHBvcHVwXzMyY2Y4MWI5NWU3MTRiYTJhODA2YjEzZTdhYWM1ZDZiID0gTC5wb3B1cCh7Im1heFdpZHRoIjogMjAwfSk7CgogICAgICAgIAogICAgICAgICAgICB2YXIgaV9mcmFtZV81ZDM4ZjdiNDY2MzY0NTYzODc3ZTFjM2RhMjNlMWQ2YyA9ICQoYDxpZnJhbWUgc3JjPSJkYXRhOnRleHQvaHRtbDtjaGFyc2V0PXV0Zi04O2Jhc2U2NCxDaUFnSUNCTllXZHBZeUJFYjI5eUlFRnlkQ0JIWVd4c1pYSjVMRHhpY2o0S0lDQWdJQ0FnSUNBeE1EQWdVbWwyWlhJZ1UzUnlaV1YwTENCVGRXNWtaWEpzWVc1a1BHSnlQZ29nSUNBZ0lDQWdJQ2czTURVcElETTFOeTB4T1RjeiIgd2lkdGg9IjE1MCIgc3R5bGU9ImJvcmRlcjpub25lICFpbXBvcnRhbnQ7IiBoZWlnaHQ9IjE1MCI+PC9pZnJhbWU+YClbMF07CiAgICAgICAgICAgIHBvcHVwXzMyY2Y4MWI5NWU3MTRiYTJhODA2YjEzZTdhYWM1ZDZiLnNldENvbnRlbnQoaV9mcmFtZV81ZDM4ZjdiNDY2MzY0NTYzODc3ZTFjM2RhMjNlMWQ2Yyk7CiAgICAgICAgCgogICAgICAgIG1hcmtlcl9kYjNlZmRhZTAzZjc0ZDk1Yjc2OWQyNjc5NjM3NGNkZC5iaW5kUG9wdXAocG9wdXBfMzJjZjgxYjk1ZTcxNGJhMmE4MDZiMTNlN2FhYzVkNmIpCiAgICAgICAgOwoKICAgICAgICAKICAgIAogICAgCiAgICAgICAgICAgIHZhciBtYXJrZXJfMDdjZGMxYzdjOTAxNGM2MWFlYjg4Y2Q1YTQ2ZWYyOWEgPSBMLm1hcmtlcigKICAgICAgICAgICAgICAgIFs1NC42NDgxMTk3LCAtMi43Mjk2MTE3XSwKICAgICAgICAgICAgICAgIHsicGFyc2VIdG1sIjogZmFsc2UsICJyYWRpdXMiOiA1fQogICAgICAgICAgICApLmFkZFRvKG1hcF8yYjMzOTM3ZjA2MGI0MzE0OGFkNDEyN2UyYmU0YTExMCk7CiAgICAgICAgCiAgICAKICAgICAgICAgICAgdmFyIGljb25fNWZhNTNlYTViZmFjNGZkOGExNzQyY2VlMTQ0ZmVkMzUgPSBMLkF3ZXNvbWVNYXJrZXJzLmljb24oCiAgICAgICAgICAgICAgICB7ImV4dHJhQ2xhc3NlcyI6ICJmYS1yb3RhdGUtMCIsICJpY29uIjogImZhLWFzdGVyaXNrIiwgImljb25Db2xvciI6ICJ3aGl0ZSIsICJtYXJrZXJDb2xvciI6ICJibHVlIiwgInByZWZpeCI6ICJmYSJ9CiAgICAgICAgICAgICk7CiAgICAgICAgICAgIG1hcmtlcl8wN2NkYzFjN2M5MDE0YzYxYWViODhjZDVhNDZlZjI5YS5zZXRJY29uKGljb25fNWZhNTNlYTViZmFjNGZkOGExNzQyY2VlMTQ0ZmVkMzUpOwogICAgICAgIAogICAgCiAgICAgICAgdmFyIHBvcHVwXzdiMjc3ZTJjY2FiYzRkZjNhMTQzMTUxZDA1OGEyOWZlID0gTC5wb3B1cCh7Im1heFdpZHRoIjogMjAwfSk7CgogICAgICAgIAogICAgICAgICAgICB2YXIgaV9mcmFtZV9kMmE4NmQxZmFiYzA0ZDg3ODBjMjdjMjRkMTg0N2UwNyA9ICQoYDxpZnJhbWUgc3JjPSJkYXRhOnRleHQvaHRtbDtjaGFyc2V0PXV0Zi04O2Jhc2U2NCxDaUFnSUNCTllYSmpJRUpoY25KcFpTQkhZV3hzWlhKNUxEeGljajRLSUNBZ0lDQWdJQ0F4TmpFeklEY2dTSGQ1TENCQ2NtOTFaMmhoYlR4aWNqNEtJQ0FnSUNBZ0lDQW9PVEExS1NBMk9ETXROekF4TUE9PSIgd2lkdGg9IjE1MCIgc3R5bGU9ImJvcmRlcjpub25lICFpbXBvcnRhbnQ7IiBoZWlnaHQ9IjE1MCI+PC9pZnJhbWU+YClbMF07CiAgICAgICAgICAgIHBvcHVwXzdiMjc3ZTJjY2FiYzRkZjNhMTQzMTUxZDA1OGEyOWZlLnNldENvbnRlbnQoaV9mcmFtZV9kMmE4NmQxZmFiYzA0ZDg3ODBjMjdjMjRkMTg0N2UwNyk7CiAgICAgICAgCgogICAgICAgIG1hcmtlcl8wN2NkYzFjN2M5MDE0YzYxYWViODhjZDVhNDZlZjI5YS5iaW5kUG9wdXAocG9wdXBfN2IyNzdlMmNjYWJjNGRmM2ExNDMxNTFkMDU4YTI5ZmUpCiAgICAgICAgOwoKICAgICAgICAKICAgIAogICAgCiAgICAgICAgICAgIHZhciBtYXJrZXJfOGIyZmIzOGMzYzEzNDMwZmFkNjk5OTVhYzk4YTJhYjIgPSBMLm1hcmtlcigKICAgICAgICAgICAgICAgIFs0NC4xMDg2Nzg3LCAtNzkuMTIzOTQ1MV0sCiAgICAgICAgICAgICAgICB7InBhcnNlSHRtbCI6IGZhbHNlLCAicmFkaXVzIjogNX0KICAgICAgICAgICAgKS5hZGRUbyhtYXBfMmIzMzkzN2YwNjBiNDMxNDhhZDQxMjdlMmJlNGExMTApOwogICAgICAgIAogICAgCiAgICAgICAgICAgIHZhciBpY29uXzNmODEzMmU2MjJkZTQ0M2I5Y2JmOTkyMDIyOWU2MGUxID0gTC5Bd2Vzb21lTWFya2Vycy5pY29uKAogICAgICAgICAgICAgICAgeyJleHRyYUNsYXNzZXMiOiAiZmEtcm90YXRlLTAiLCAiaWNvbiI6ICJmYS1hc3RlcmlzayIsICJpY29uQ29sb3IiOiAid2hpdGUiLCAibWFya2VyQ29sb3IiOiAiYmx1ZSIsICJwcmVmaXgiOiAiZmEifQogICAgICAgICAgICApOwogICAgICAgICAgICBtYXJrZXJfOGIyZmIzOGMzYzEzNDMwZmFkNjk5OTVhYzk4YTJhYjIuc2V0SWNvbihpY29uXzNmODEzMmU2MjJkZTQ0M2I5Y2JmOTkyMDIyOWU2MGUxKTsKICAgICAgICAKICAgIAogICAgICAgIHZhciBwb3B1cF81MDlkZTZiZWNkMzU0ZDdkYWJjMjYyZjMyYzI2YzlhMiA9IEwucG9wdXAoeyJtYXhXaWR0aCI6IDIwMH0pOwoKICAgICAgICAKICAgICAgICAgICAgdmFyIGlfZnJhbWVfNzQwOTU2YTU1NWVhNDA2M2IzNzM0N2YyNmUzNzQ3MWUgPSAkKGA8aWZyYW1lIHNyYz0iZGF0YTp0ZXh0L2h0bWw7Y2hhcnNldD11dGYtODtiYXNlNjQsQ2lBZ0lDQlFjbVZ6ZEc5dUlFZGhiR3hsY25rc1BHSnlQZ29nSUNBZ0lDQWdJRGMzSUVKeWIyTnJJRk4wSUZkbGMzUXNJRlY0WW5KcFpHZGxQR0p5UGdvZ0lDQWdJQ0FnSURrd05TMDFOVEF0T0RneU5RPT0iIHdpZHRoPSIxNTAiIHN0eWxlPSJib3JkZXI6bm9uZSAhaW1wb3J0YW50OyIgaGVpZ2h0PSIxNTAiPjwvaWZyYW1lPmApWzBdOwogICAgICAgICAgICBwb3B1cF81MDlkZTZiZWNkMzU0ZDdkYWJjMjYyZjMyYzI2YzlhMi5zZXRDb250ZW50KGlfZnJhbWVfNzQwOTU2YTU1NWVhNDA2M2IzNzM0N2YyNmUzNzQ3MWUpOwogICAgICAgIAoKICAgICAgICBtYXJrZXJfOGIyZmIzOGMzYzEzNDMwZmFkNjk5OTVhYzk4YTJhYjIuYmluZFBvcHVwKHBvcHVwXzUwOWRlNmJlY2QzNTRkN2RhYmMyNjJmMzJjMjZjOWEyKQogICAgICAgIDsKCiAgICAgICAgCiAgICAKICAgIAogICAgICAgICAgICB2YXIgbWFya2VyXzQ0NjExNmJmN2YxMjQwOWNiMmI0ZmY1M2M2OWVlMTVlID0gTC5tYXJrZXIoCiAgICAgICAgICAgICAgICBbNDMuOTMxMzAxOSwgLTc4Ljg4NDYyOTFdLAogICAgICAgICAgICAgICAgeyJwYXJzZUh0bWwiOiBmYWxzZSwgInJhZGl1cyI6IDV9CiAgICAgICAgICAgICkuYWRkVG8obWFwXzJiMzM5MzdmMDYwYjQzMTQ4YWQ0MTI3ZTJiZTRhMTEwKTsKICAgICAgICAKICAgIAogICAgICAgICAgICB2YXIgaWNvbl9mYmQ3ZmMzYzQ1MWQ0NDFmOGJlYzIxMTYwYTMzZDQ0MSA9IEwuQXdlc29tZU1hcmtlcnMuaWNvbigKICAgICAgICAgICAgICAgIHsiZXh0cmFDbGFzc2VzIjogImZhLXJvdGF0ZS0wIiwgImljb24iOiAiZmEtYXN0ZXJpc2siLCAiaWNvbkNvbG9yIjogIndoaXRlIiwgIm1hcmtlckNvbG9yIjogImJsdWUiLCAicHJlZml4IjogImZhIn0KICAgICAgICAgICAgKTsKICAgICAgICAgICAgbWFya2VyXzQ0NjExNmJmN2YxMjQwOWNiMmI0ZmY1M2M2OWVlMTVlLnNldEljb24oaWNvbl9mYmQ3ZmMzYzQ1MWQ0NDFmOGJlYzIxMTYwYTMzZDQ0MSk7CiAgICAgICAgCiAgICAKICAgICAgICB2YXIgcG9wdXBfYTE0MzI5YzI0ZGYyNGUzOWFiYmQyY2YzYmYwMDk3MmIgPSBMLnBvcHVwKHsibWF4V2lkdGgiOiAyMDB9KTsKCiAgICAgICAgCiAgICAgICAgICAgIHZhciBpX2ZyYW1lX2VjYmQzMzdiYzM0YzQ4ZmZiZTZjOWFiYjlmMjI5MDI3ID0gJChgPGlmcmFtZSBzcmM9ImRhdGE6dGV4dC9odG1sO2NoYXJzZXQ9dXRmLTg7YmFzZTY0LENpQWdJQ0JTYjI1a1pXNGdRWEowSUVkaGJHeGxjbmtzUEdKeVBnb2dJQ0FnSUNBZ0lERXpNeUJVWVhWdWRHOXVJRkp2WVdRZ1YyVnpkQ3dnVDNOb1lYZGhQR0p5UGdvZ0lDQWdJQ0FnSURrd05TQTNNVGdnT1RBNU9RPT0iIHdpZHRoPSIxNTAiIHN0eWxlPSJib3JkZXI6bm9uZSAhaW1wb3J0YW50OyIgaGVpZ2h0PSIxNTAiPjwvaWZyYW1lPmApWzBdOwogICAgICAgICAgICBwb3B1cF9hMTQzMjljMjRkZjI0ZTM5YWJiZDJjZjNiZjAwOTcyYi5zZXRDb250ZW50KGlfZnJhbWVfZWNiZDMzN2JjMzRjNDhmZmJlNmM5YWJiOWYyMjkwMjcpOwogICAgICAgIAoKICAgICAgICBtYXJrZXJfNDQ2MTE2YmY3ZjEyNDA5Y2IyYjRmZjUzYzY5ZWUxNWUuYmluZFBvcHVwKHBvcHVwX2ExNDMyOWMyNGRmMjRlMzlhYmJkMmNmM2JmMDA5NzJiKQogICAgICAgIDsKCiAgICAgICAgCiAgICAKICAgIAogICAgICAgICAgICB2YXIgbWFya2VyX2YxYmNhMDczNjgwYjQwYjNhNmE3MTU5Y2QzNmE4NGEyID0gTC5tYXJrZXIoCiAgICAgICAgICAgICAgICBbNDMuODkzNjg3Mjg4ODg4ODksIC03OC44NjE2MTc3XSwKICAgICAgICAgICAgICAgIHsicGFyc2VIdG1sIjogZmFsc2UsICJyYWRpdXMiOiA1fQogICAgICAgICAgICApLmFkZFRvKG1hcF8yYjMzOTM3ZjA2MGI0MzE0OGFkNDEyN2UyYmU0YTExMCk7CiAgICAgICAgCiAgICAKICAgICAgICAgICAgdmFyIGljb25fM2FhYmEzNjg5OTMxNDZjMDkzMjk3MDI0NWQ0ZGU4YjUgPSBMLkF3ZXNvbWVNYXJrZXJzLmljb24oCiAgICAgICAgICAgICAgICB7ImV4dHJhQ2xhc3NlcyI6ICJmYS1yb3RhdGUtMCIsICJpY29uIjogImZhLWFzdGVyaXNrIiwgImljb25Db2xvciI6ICJ3aGl0ZSIsICJtYXJrZXJDb2xvciI6ICJibHVlIiwgInByZWZpeCI6ICJmYSJ9CiAgICAgICAgICAgICk7CiAgICAgICAgICAgIG1hcmtlcl9mMWJjYTA3MzY4MGI0MGIzYTZhNzE1OWNkMzZhODRhMi5zZXRJY29uKGljb25fM2FhYmEzNjg5OTMxNDZjMDkzMjk3MDI0NWQ0ZGU4YjUpOwogICAgICAgIAogICAgCiAgICAgICAgdmFyIHBvcHVwXzgyNDk0MmVmMjJkNDRhOTBiYTk4MTI2MTVkNmQzYWMwID0gTC5wb3B1cCh7Im1heFdpZHRoIjogMjAwfSk7CgogICAgICAgIAogICAgICAgICAgICB2YXIgaV9mcmFtZV83ZDRhMWZhM2M2NjE0MmY2OTNiYjVmZDhiNjIwYTEyZCA9ICQoYDxpZnJhbWUgc3JjPSJkYXRhOnRleHQvaHRtbDtjaGFyc2V0PXV0Zi04O2Jhc2U2NCxDaUFnSUNCVWFHVWdUR2wyYVc1blVtOXZiU0JEYjIxdGRXNXBkSGtnUVhKMElGTjBkV1JwYnl3OFluSStDaUFnSUNBZ0lDQWdNVFE1SUZOcGJXTnZaU0JUZEhKbFpYUWdVMjkxZEdnc0lFOXphR0YzWVE9PSIgd2lkdGg9IjE1MCIgc3R5bGU9ImJvcmRlcjpub25lICFpbXBvcnRhbnQ7IiBoZWlnaHQ9IjE1MCI+PC9pZnJhbWU+YClbMF07CiAgICAgICAgICAgIHBvcHVwXzgyNDk0MmVmMjJkNDRhOTBiYTk4MTI2MTVkNmQzYWMwLnNldENvbnRlbnQoaV9mcmFtZV83ZDRhMWZhM2M2NjE0MmY2OTNiYjVmZDhiNjIwYTEyZCk7CiAgICAgICAgCgogICAgICAgIG1hcmtlcl9mMWJjYTA3MzY4MGI0MGIzYTZhNzE1OWNkMzZhODRhMi5iaW5kUG9wdXAocG9wdXBfODI0OTQyZWYyMmQ0NGE5MGJhOTgxMjYxNWQ2ZDNhYzApCiAgICAgICAgOwoKICAgICAgICAKICAgIAogICAgCiAgICAgICAgICAgIHZhciBtYXJrZXJfMWM0MjI2NDRlY2VjNGY5Zjg1MDg0YTE4NjM4MDM1MTYgPSBMLm1hcmtlcigKICAgICAgICAgICAgICAgIFs0My44OTU3MjA3NSwgLTc4Ljg2NjY4Mzc1NTg1OTUxXSwKICAgICAgICAgICAgICAgIHsicGFyc2VIdG1sIjogZmFsc2UsICJyYWRpdXMiOiA1fQogICAgICAgICAgICApLmFkZFRvKG1hcF8yYjMzOTM3ZjA2MGI0MzE0OGFkNDEyN2UyYmU0YTExMCk7CiAgICAgICAgCiAgICAKICAgICAgICAgICAgdmFyIGljb25fYTk1ZDk1OGUwZGQ5NDRmYzkyYTM3YWQzZDEyNTg0MWEgPSBMLkF3ZXNvbWVNYXJrZXJzLmljb24oCiAgICAgICAgICAgICAgICB7ImV4dHJhQ2xhc3NlcyI6ICJmYS1yb3RhdGUtMCIsICJpY29uIjogImZhLWFzdGVyaXNrIiwgImljb25Db2xvciI6ICJ3aGl0ZSIsICJtYXJrZXJDb2xvciI6ICJibHVlIiwgInByZWZpeCI6ICJmYSJ9CiAgICAgICAgICAgICk7CiAgICAgICAgICAgIG1hcmtlcl8xYzQyMjY0NGVjZWM0ZjlmODUwODRhMTg2MzgwMzUxNi5zZXRJY29uKGljb25fYTk1ZDk1OGUwZGQ5NDRmYzkyYTM3YWQzZDEyNTg0MWEpOwogICAgICAgIAogICAgCiAgICAgICAgdmFyIHBvcHVwX2U3MWJlMTIzMDIwNDRiNmRiZTQyYTRlODc2MjFiNmQ4ID0gTC5wb3B1cCh7Im1heFdpZHRoIjogMjAwfSk7CgogICAgICAgIAogICAgICAgICAgICB2YXIgaV9mcmFtZV82M2Q2ZjdmNGM0NGQ0NDhkYThjOGJhNDRhODNmYzllMSA9ICQoYDxpZnJhbWUgc3JjPSJkYXRhOnRleHQvaHRtbDtjaGFyc2V0PXV0Zi04O2Jhc2U2NCxDaUFnSUNCVWFHVWdVbTlpWlhKMElFMWpUR0YxWjJoc2FXNGdSMkZzYkdWeWVTQW9VazFIS1N3OFluSStDaUFnSUNBZ0lDQWdOeklnVVhWbFpXNGdVM1J5WldWMExDQlBjMmhoZDJFOFluSStDaUFnSUNBZ0lDQWdLRGt3TlNrZ05UYzJMVE13TURBPSIgd2lkdGg9IjE1MCIgc3R5bGU9ImJvcmRlcjpub25lICFpbXBvcnRhbnQ7IiBoZWlnaHQ9IjE1MCI+PC9pZnJhbWU+YClbMF07CiAgICAgICAgICAgIHBvcHVwX2U3MWJlMTIzMDIwNDRiNmRiZTQyYTRlODc2MjFiNmQ4LnNldENvbnRlbnQoaV9mcmFtZV82M2Q2ZjdmNGM0NGQ0NDhkYThjOGJhNDRhODNmYzllMSk7CiAgICAgICAgCgogICAgICAgIG1hcmtlcl8xYzQyMjY0NGVjZWM0ZjlmODUwODRhMTg2MzgwMzUxNi5iaW5kUG9wdXAocG9wdXBfZTcxYmUxMjMwMjA0NGI2ZGJlNDJhNGU4NzYyMWI2ZDgpCiAgICAgICAgOwoKICAgICAgICAKICAgIAogICAgCiAgICAgICAgICAgIHZhciBtYXJrZXJfZTZjMjdkOGQwOWVmNDBmN2IzY2Y5OWE1NGJhMDE0MTggPSBMLm1hcmtlcigKICAgICAgICAgICAgICAgIFs0My45MDMzNDgzMDUyNjkwMywgLTc4LjY3MTgzMTkwNjQ5NjA0XSwKICAgICAgICAgICAgICAgIHsicGFyc2VIdG1sIjogZmFsc2UsICJyYWRpdXMiOiA1fQogICAgICAgICAgICApLmFkZFRvKG1hcF8yYjMzOTM3ZjA2MGI0MzE0OGFkNDEyN2UyYmU0YTExMCk7CiAgICAgICAgCiAgICAKICAgICAgICAgICAgdmFyIGljb25fNDEyOWI5NzZiMTM1NDkzNzg0ODVmM2QzOTA3NGU5YjQgPSBMLkF3ZXNvbWVNYXJrZXJzLmljb24oCiAgICAgICAgICAgICAgICB7ImV4dHJhQ2xhc3NlcyI6ICJmYS1yb3RhdGUtMCIsICJpY29uIjogImZhLWFzdGVyaXNrIiwgImljb25Db2xvciI6ICJ3aGl0ZSIsICJtYXJrZXJDb2xvciI6ICJibHVlIiwgInByZWZpeCI6ICJmYSJ9CiAgICAgICAgICAgICk7CiAgICAgICAgICAgIG1hcmtlcl9lNmMyN2Q4ZDA5ZWY0MGY3YjNjZjk5YTU0YmEwMTQxOC5zZXRJY29uKGljb25fNDEyOWI5NzZiMTM1NDkzNzg0ODVmM2QzOTA3NGU5YjQpOwogICAgICAgIAogICAgCiAgICAgICAgdmFyIHBvcHVwX2U0OWYzNTQ3MTQyMTQ5ZjdiMDQ2Y2VkZTVjZDljNTE5ID0gTC5wb3B1cCh7Im1heFdpZHRoIjogMjAwfSk7CgogICAgICAgIAogICAgICAgICAgICB2YXIgaV9mcmFtZV8zNmM0NDc0ZjQyNzk0ZjI3ODQ0ZTQ4Yzk5NzY3ZjFmOCA9ICQoYDxpZnJhbWUgc3JjPSJkYXRhOnRleHQvaHRtbDtjaGFyc2V0PXV0Zi04O2Jhc2U2NCxDaUFnSUNCV2FYTjFZV3dnUVhKMGN5QkRaVzUwY21VZ2IyWWdRMnhoY21sdVozUnZiaXc4WW5JK0NpQWdJQ0FnSUNBZ01UUXpJRk5wYlhCemIyNGdRWFpsYm5WbExDQkNiM2R0WVc1MmFXeHNaVHhpY2o0S0lDQWdJQ0FnSUNBb09UQTFLU0EyTWpNdE5UZ3pNUT09IiB3aWR0aD0iMTUwIiBzdHlsZT0iYm9yZGVyOm5vbmUgIWltcG9ydGFudDsiIGhlaWdodD0iMTUwIj48L2lmcmFtZT5gKVswXTsKICAgICAgICAgICAgcG9wdXBfZTQ5ZjM1NDcxNDIxNDlmN2IwNDZjZWRlNWNkOWM1MTkuc2V0Q29udGVudChpX2ZyYW1lXzM2YzQ0NzRmNDI3OTRmMjc4NDRlNDhjOTk3NjdmMWY4KTsKICAgICAgICAKCiAgICAgICAgbWFya2VyX2U2YzI3ZDhkMDllZjQwZjdiM2NmOTlhNTRiYTAxNDE4LmJpbmRQb3B1cChwb3B1cF9lNDlmMzU0NzE0MjE0OWY3YjA0NmNlZGU1Y2Q5YzUxOSkKICAgICAgICA7CgogICAgICAgIAogICAgCiAgICAKICAgICAgICAgICAgdmFyIG1hcmtlcl85OWUyOTFmZmQwOWY0MzVkODZmYTM3ZDNlZThjN2MxMyA9IEwubWFya2VyKAogICAgICAgICAgICAgICAgWzQzLjg2MTQ0NDAzMDQzNDc4LCAtNzguOTM5NzM2MDA0MzQ3ODJdLAogICAgICAgICAgICAgICAgeyJwYXJzZUh0bWwiOiBmYWxzZSwgInJhZGl1cyI6IDV9CiAgICAgICAgICAgICkuYWRkVG8obWFwXzJiMzM5MzdmMDYwYjQzMTQ4YWQ0MTI3ZTJiZTRhMTEwKTsKICAgICAgICAKICAgIAogICAgICAgICAgICB2YXIgaWNvbl8xZThlYjk0ZjNhNzM0ZjI2OTFiYjFiMjhlYjk0YjJmYiA9IEwuQXdlc29tZU1hcmtlcnMuaWNvbigKICAgICAgICAgICAgICAgIHsiZXh0cmFDbGFzc2VzIjogImZhLXJvdGF0ZS0wIiwgImljb24iOiAiZmEtYXN0ZXJpc2siLCAiaWNvbkNvbG9yIjogIndoaXRlIiwgIm1hcmtlckNvbG9yIjogImJsdWUiLCAicHJlZml4IjogImZhIn0KICAgICAgICAgICAgKTsKICAgICAgICAgICAgbWFya2VyXzk5ZTI5MWZmZDA5ZjQzNWQ4NmZhMzdkM2VlOGM3YzEzLnNldEljb24oaWNvbl8xZThlYjk0ZjNhNzM0ZjI2OTFiYjFiMjhlYjk0YjJmYik7CiAgICAgICAgCiAgICAKICAgICAgICB2YXIgcG9wdXBfMjExYzhjYzQ0NDEwNDlhNGI2NGY2ODg1YWY4YTkzNWIgPSBMLnBvcHVwKHsibWF4V2lkdGgiOiAyMDB9KTsKCiAgICAgICAgCiAgICAgICAgICAgIHZhciBpX2ZyYW1lX2Q1YTFkYjBhNWNmZjQyZWViYmQ5MThjZjg2MTJmNTA5ID0gJChgPGlmcmFtZSBzcmM9ImRhdGE6dGV4dC9odG1sO2NoYXJzZXQ9dXRmLTg7YmFzZTY0LENpQWdJQ0JUZEdGMGFXOXVJRWRoYkd4bGNua3NQR0p5UGdvZ0lDQWdJQ0FnSURFME5UQWdTR1Z1Y25rZ1UzUnlaV1YwTENCWGFHbDBZbms4WW5JK0NpQWdJQ0FnSUNBZ0tEa3dOU2tnTmpZNExUUXhPRFU9IiB3aWR0aD0iMTUwIiBzdHlsZT0iYm9yZGVyOm5vbmUgIWltcG9ydGFudDsiIGhlaWdodD0iMTUwIj48L2lmcmFtZT5gKVswXTsKICAgICAgICAgICAgcG9wdXBfMjExYzhjYzQ0NDEwNDlhNGI2NGY2ODg1YWY4YTkzNWIuc2V0Q29udGVudChpX2ZyYW1lX2Q1YTFkYjBhNWNmZjQyZWViYmQ5MThjZjg2MTJmNTA5KTsKICAgICAgICAKCiAgICAgICAgbWFya2VyXzk5ZTI5MWZmZDA5ZjQzNWQ4NmZhMzdkM2VlOGM3YzEzLmJpbmRQb3B1cChwb3B1cF8yMTFjOGNjNDQ0MTA0OWE0YjY0ZjY4ODVhZjhhOTM1YikKICAgICAgICA7CgogICAgICAgIAogICAgCiAgICAKICAgICAgICAgICAgdmFyIG1hcmtlcl9mY2MyMmQzZmJmMDA0NzYwYTBkNzUzZWU2YjZjNzFiNSA9IEwubWFya2VyKAogICAgICAgICAgICAgICAgWzQzLjkxNDUxODYsIC03OC42ODk4MDQ5XSwKICAgICAgICAgICAgICAgIHsicGFyc2VIdG1sIjogZmFsc2UsICJyYWRpdXMiOiA1fQogICAgICAgICAgICApLmFkZFRvKG1hcF8yYjMzOTM3ZjA2MGI0MzE0OGFkNDEyN2UyYmU0YTExMCk7CiAgICAgICAgCiAgICAKICAgICAgICAgICAgdmFyIGljb25fOGM4NDE0ODU3NTM0NDFjOWE4NjMwY2U5YzdmM2IyMDEgPSBMLkF3ZXNvbWVNYXJrZXJzLmljb24oCiAgICAgICAgICAgICAgICB7ImV4dHJhQ2xhc3NlcyI6ICJmYS1yb3RhdGUtMCIsICJpY29uIjogImZhLWFzdGVyaXNrIiwgImljb25Db2xvciI6ICJ3aGl0ZSIsICJtYXJrZXJDb2xvciI6ICJyZWQiLCAicHJlZml4IjogImZhIn0KICAgICAgICAgICAgKTsKICAgICAgICAgICAgbWFya2VyX2ZjYzIyZDNmYmYwMDQ3NjBhMGQ3NTNlZTZiNmM3MWI1LnNldEljb24oaWNvbl84Yzg0MTQ4NTc1MzQ0MWM5YTg2MzBjZTljN2YzYjIwMSk7CiAgICAgICAgCiAgICAKICAgICAgICB2YXIgcG9wdXBfNjkyYWUxNGE3ZDE1NGJmMDljN2MzZjgzZDVkY2Q0YTMgPSBMLnBvcHVwKHsibWF4V2lkdGgiOiAyMDB9KTsKCiAgICAgICAgCiAgICAgICAgICAgIHZhciBpX2ZyYW1lXzFkNGI3MTJmODUyNTRlYzQ5NGQ5YzNlZDIxOWY3Mzk1ID0gJChgPGlmcmFtZSBzcmM9ImRhdGE6dGV4dC9odG1sO2NoYXJzZXQ9dXRmLTg7YmFzZTY0LENpQWdJQ0JDYjNkdFlXNTJhV3hzWlNCTmRYTmxkVzBzUEdKeVBnb2dJQ0FnSUNBZ0lETTNJRk5wYkhabGNpQlRkQ3dnUW05M2JXRnVkbWxzYkdVOFluSStDaUFnSUNBZ0lDQWdLRGt3TlNrZ05qSXpMVEkzTXpRPSIgd2lkdGg9IjE1MCIgc3R5bGU9ImJvcmRlcjpub25lICFpbXBvcnRhbnQ7IiBoZWlnaHQ9IjE1MCI+PC9pZnJhbWU+YClbMF07CiAgICAgICAgICAgIHBvcHVwXzY5MmFlMTRhN2QxNTRiZjA5YzdjM2Y4M2Q1ZGNkNGEzLnNldENvbnRlbnQoaV9mcmFtZV8xZDRiNzEyZjg1MjU0ZWM0OTRkOWMzZWQyMTlmNzM5NSk7CiAgICAgICAgCgogICAgICAgIG1hcmtlcl9mY2MyMmQzZmJmMDA0NzYwYTBkNzUzZWU2YjZjNzFiNS5iaW5kUG9wdXAocG9wdXBfNjkyYWUxNGE3ZDE1NGJmMDljN2MzZjgzZDVkY2Q0YTMpCiAgICAgICAgOwoKICAgICAgICAKICAgIAogICAgCiAgICAgICAgICAgIHZhciBtYXJrZXJfMzNkZGI5ZjgwMDhlNDUwZWIwZjMyM2M2ZWVjNjI4ZGIgPSBMLm1hcmtlcigKICAgICAgICAgICAgICAgIFs0NC4zNDkwOTMyLCAtNzkuMDM0OTE5Ml0sCiAgICAgICAgICAgICAgICB7InBhcnNlSHRtbCI6IGZhbHNlLCAicmFkaXVzIjogNX0KICAgICAgICAgICAgKS5hZGRUbyhtYXBfMmIzMzkzN2YwNjBiNDMxNDhhZDQxMjdlMmJlNGExMTApOwogICAgICAgIAogICAgCiAgICAgICAgICAgIHZhciBpY29uXzdlNWYyZTc0ZTk2ZTQyZjc4ZDdkZmQ1YjIyMGRiZDU2ID0gTC5Bd2Vzb21lTWFya2Vycy5pY29uKAogICAgICAgICAgICAgICAgeyJleHRyYUNsYXNzZXMiOiAiZmEtcm90YXRlLTAiLCAiaWNvbiI6ICJmYS1hc3RlcmlzayIsICJpY29uQ29sb3IiOiAid2hpdGUiLCAibWFya2VyQ29sb3IiOiAicmVkIiwgInByZWZpeCI6ICJmYSJ9CiAgICAgICAgICAgICk7CiAgICAgICAgICAgIG1hcmtlcl8zM2RkYjlmODAwOGU0NTBlYjBmMzIzYzZlZWM2MjhkYi5zZXRJY29uKGljb25fN2U1ZjJlNzRlOTZlNDJmNzhkN2RmZDViMjIwZGJkNTYpOwogICAgICAgIAogICAgCiAgICAgICAgdmFyIHBvcHVwXzdjYmRmMDRjNzVmNDQ0OTk5ODhhMDEzN2FhMjU1NTZhID0gTC5wb3B1cCh7Im1heFdpZHRoIjogMjAwfSk7CgogICAgICAgIAogICAgICAgICAgICB2YXIgaV9mcmFtZV84YmMyNDJkM2NmOTQ0ZDdlOWEyY2IxYTkyZWM0Zjc2ZCA9ICQoYDxpZnJhbWUgc3JjPSJkYXRhOnRleHQvaHRtbDtjaGFyc2V0PXV0Zi04O2Jhc2U2NCxDaUFnSUNCRFlXNXVhVzVuZEc5dUlFaHBjM1J2Y21sallXd2dVMjlqYVdWMGVTZHpJRU5sYm5SbGJtNXBZV3dnVFhWelpYVnRMRHhpY2o0S0lDQWdJQ0FnSUNBM01pQlFaV0ZqWlNCVGRISmxaWFFzSUVOaGJtNXBibWQwYjI0OFluSStDaUFnSUNBZ0lDQWdOekExSURRek1pQXpNVE0yIiB3aWR0aD0iMTUwIiBzdHlsZT0iYm9yZGVyOm5vbmUgIWltcG9ydGFudDsiIGhlaWdodD0iMTUwIj48L2lmcmFtZT5gKVswXTsKICAgICAgICAgICAgcG9wdXBfN2NiZGYwNGM3NWY0NDQ5OTk4OGEwMTM3YWEyNTU1NmEuc2V0Q29udGVudChpX2ZyYW1lXzhiYzI0MmQzY2Y5NDRkN2U5YTJjYjFhOTJlYzRmNzZkKTsKICAgICAgICAKCiAgICAgICAgbWFya2VyXzMzZGRiOWY4MDA4ZTQ1MGViMGYzMjNjNmVlYzYyOGRiLmJpbmRQb3B1cChwb3B1cF83Y2JkZjA0Yzc1ZjQ0NDk5OTg4YTAxMzdhYTI1NTU2YSkKICAgICAgICA7CgogICAgICAgIAogICAgCiAgICAKICAgICAgICAgICAgdmFyIG1hcmtlcl9jYTVlZWRkMTVkNDE0ZTU5YjIyMjMxOTgwNTZjZmRjMiA9IEwubWFya2VyKAogICAgICAgICAgICAgICAgWzQzLjkxMzk4OTY1LCAtNzguNjg4NzY4OTIwNjY2NDNdLAogICAgICAgICAgICAgICAgeyJwYXJzZUh0bWwiOiBmYWxzZSwgInJhZGl1cyI6IDV9CiAgICAgICAgICAgICkuYWRkVG8obWFwXzJiMzM5MzdmMDYwYjQzMTQ4YWQ0MTI3ZTJiZTRhMTEwKTsKICAgICAgICAKICAgIAogICAgICAgICAgICB2YXIgaWNvbl8zZGE3Y2VjNjdhYzg0ZDk5YTYwY2FjODU1MDRiZTY5MCA9IEwuQXdlc29tZU1hcmtlcnMuaWNvbigKICAgICAgICAgICAgICAgIHsiZXh0cmFDbGFzc2VzIjogImZhLXJvdGF0ZS0wIiwgImljb24iOiAiZmEtYXN0ZXJpc2siLCAiaWNvbkNvbG9yIjogIndoaXRlIiwgIm1hcmtlckNvbG9yIjogInJlZCIsICJwcmVmaXgiOiAiZmEifQogICAgICAgICAgICApOwogICAgICAgICAgICBtYXJrZXJfY2E1ZWVkZDE1ZDQxNGU1OWIyMjIzMTk4MDU2Y2ZkYzIuc2V0SWNvbihpY29uXzNkYTdjZWM2N2FjODRkOTlhNjBjYWM4NTUwNGJlNjkwKTsKICAgICAgICAKICAgIAogICAgICAgIHZhciBwb3B1cF81NzQ3ZGJhNThiMGY0YWY0YTY0Yzc1MjI5N2IyMzM3ZCA9IEwucG9wdXAoeyJtYXhXaWR0aCI6IDIwMH0pOwoKICAgICAgICAKICAgICAgICAgICAgdmFyIGlfZnJhbWVfZmQxMDZmMzk4ZDRkNDE3NGExY2Q2YTIzMGFlMzYxODQgPSAkKGA8aWZyYW1lIHNyYz0iZGF0YTp0ZXh0L2h0bWw7Y2hhcnNldD11dGYtODtiYXNlNjQsQ2lBZ0lDQkRiR0Z5YVc1bmRHOXVJRTExYzJWMWJYTWdKaUJCY21Ob2FYWmxjeXc4WW5JK0NpQWdJQ0FnSUNBZ05qSWdWR1Z0Y0dWeVlXNWpaU0JUZEN3Z1FtOTNiV0Z1ZG1sc2JHVThZbkkrQ2lBZ0lDQWdJQ0FnS0Rrd05Ta2dOakl6TFRJM016UT0iIHdpZHRoPSIxNTAiIHN0eWxlPSJib3JkZXI6bm9uZSAhaW1wb3J0YW50OyIgaGVpZ2h0PSIxNTAiPjwvaWZyYW1lPmApWzBdOwogICAgICAgICAgICBwb3B1cF81NzQ3ZGJhNThiMGY0YWY0YTY0Yzc1MjI5N2IyMzM3ZC5zZXRDb250ZW50KGlfZnJhbWVfZmQxMDZmMzk4ZDRkNDE3NGExY2Q2YTIzMGFlMzYxODQpOwogICAgICAgIAoKICAgICAgICBtYXJrZXJfY2E1ZWVkZDE1ZDQxNGU1OWIyMjIzMTk4MDU2Y2ZkYzIuYmluZFBvcHVwKHBvcHVwXzU3NDdkYmE1OGIwZjRhZjRhNjRjNzUyMjk3YjIzMzdkKQogICAgICAgIDsKCiAgICAgICAgCiAgICAKICAgIAogICAgICAgICAgICB2YXIgbWFya2VyX2ZkM2ViMDk4NTMwYTRiNGQ4MDZlNTg0MWM3NzA1NmYzID0gTC5tYXJrZXIoCiAgICAgICAgICAgICAgICBbNDMuODcxNTAxLCAtNzguOTM4ODAxNF0sCiAgICAgICAgICAgICAgICB7InBhcnNlSHRtbCI6IGZhbHNlLCAicmFkaXVzIjogNX0KICAgICAgICAgICAgKS5hZGRUbyhtYXBfMmIzMzkzN2YwNjBiNDMxNDhhZDQxMjdlMmJlNGExMTApOwogICAgICAgIAogICAgCiAgICAgICAgICAgIHZhciBpY29uXzI1OTI4ODA3MzQ3ODQxOGE5YTY3NmQyZjM1ZTQ5YjJjID0gTC5Bd2Vzb21lTWFya2Vycy5pY29uKAogICAgICAgICAgICAgICAgeyJleHRyYUNsYXNzZXMiOiAiZmEtcm90YXRlLTAiLCAiaWNvbiI6ICJmYS1hc3RlcmlzayIsICJpY29uQ29sb3IiOiAid2hpdGUiLCAibWFya2VyQ29sb3IiOiAicmVkIiwgInByZWZpeCI6ICJmYSJ9CiAgICAgICAgICAgICk7CiAgICAgICAgICAgIG1hcmtlcl9mZDNlYjA5ODUzMGE0YjRkODA2ZTU4NDFjNzcwNTZmMy5zZXRJY29uKGljb25fMjU5Mjg4MDczNDc4NDE4YTlhNjc2ZDJmMzVlNDliMmMpOwogICAgICAgIAogICAgCiAgICAgICAgdmFyIHBvcHVwXzc0YWRlNTdhYmEzMzQyMjNhNWU2NGI2OWZhYmNhOWM1ID0gTC5wb3B1cCh7Im1heFdpZHRoIjogMjAwfSk7CgogICAgICAgIAogICAgICAgICAgICB2YXIgaV9mcmFtZV9mYmYzNTE5M2MzNzk0Y2U5OWVmNjFjMDM3OGVmZjJhMiA9ICQoYDxpZnJhbWUgc3JjPSJkYXRhOnRleHQvaHRtbDtjaGFyc2V0PXV0Zi04O2Jhc2U2NCxDaUFnSUNCTWVXNWtaU0JJYjNWelpTQk5kWE5sZFcwZ0ppQlhZWEp5Wlc0Z1IyVnVaWEpoYkNCVGRHOXlaU3c4WW5JK0NpQWdJQ0FnSUNBZ09UQXdJRUp5YjJOcklGTjBjbVZsZENCVGIzVjBhQ3dnVjJocGRHSjVQR0p5UGdvZ0lDQWdJQ0FnSUNnNU1EVXBJRFkyTlMwek1UTXgiIHdpZHRoPSIxNTAiIHN0eWxlPSJib3JkZXI6bm9uZSAhaW1wb3J0YW50OyIgaGVpZ2h0PSIxNTAiPjwvaWZyYW1lPmApWzBdOwogICAgICAgICAgICBwb3B1cF83NGFkZTU3YWJhMzM0MjIzYTVlNjRiNjlmYWJjYTljNS5zZXRDb250ZW50KGlfZnJhbWVfZmJmMzUxOTNjMzc5NGNlOTllZjYxYzAzNzhlZmYyYTIpOwogICAgICAgIAoKICAgICAgICBtYXJrZXJfZmQzZWIwOTg1MzBhNGI0ZDgwNmU1ODQxYzc3MDU2ZjMuYmluZFBvcHVwKHBvcHVwXzc0YWRlNTdhYmEzMzQyMjNhNWU2NGI2OWZhYmNhOWM1KQogICAgICAgIDsKCiAgICAgICAgCiAgICAKICAgIAogICAgICAgICAgICB2YXIgbWFya2VyXzg5NTgyMjlmZWY0ZTQwYmE5NzVjNTY0ZWNhZWI5NDU0ID0gTC5tYXJrZXIoCiAgICAgICAgICAgICAgICBbNDQuMDk3MjAyNzMwNjE3MjM0LCAtNzkuMTE3Nzc2Njg2NzgzNjZdLAogICAgICAgICAgICAgICAgeyJwYXJzZUh0bWwiOiBmYWxzZSwgInJhZGl1cyI6IDV9CiAgICAgICAgICAgICkuYWRkVG8obWFwXzJiMzM5MzdmMDYwYjQzMTQ4YWQ0MTI3ZTJiZTRhMTEwKTsKICAgICAgICAKICAgIAogICAgICAgICAgICB2YXIgaWNvbl9hZjcwYzg2MWYxMWU0MTk2ODZiN2QzNWYxZTNhMjc4NCA9IEwuQXdlc29tZU1hcmtlcnMuaWNvbigKICAgICAgICAgICAgICAgIHsiZXh0cmFDbGFzc2VzIjogImZhLXJvdGF0ZS0wIiwgImljb24iOiAiZmEtYXN0ZXJpc2siLCAiaWNvbkNvbG9yIjogIndoaXRlIiwgIm1hcmtlckNvbG9yIjogInJlZCIsICJwcmVmaXgiOiAiZmEifQogICAgICAgICAgICApOwogICAgICAgICAgICBtYXJrZXJfODk1ODIyOWZlZjRlNDBiYTk3NWM1NjRlY2FlYjk0NTQuc2V0SWNvbihpY29uX2FmNzBjODYxZjExZTQxOTY4NmI3ZDM1ZjFlM2EyNzg0KTsKICAgICAgICAKICAgIAogICAgICAgIHZhciBwb3B1cF9hNTk3ZDJiZTk0NGI0ZTA2YTkzZDJmYzMwM2IzMWQwOCA9IEwucG9wdXAoeyJtYXhXaWR0aCI6IDIwMH0pOwoKICAgICAgICAKICAgICAgICAgICAgdmFyIGlfZnJhbWVfM2M4Y2VmY2IwNDY2NDQ5OGFjNDc4NTU4M2FmOWNiOTEgPSAkKGA8aWZyYW1lIHNyYz0iZGF0YTp0ZXh0L2h0bWw7Y2hhcnNldD11dGYtODtiYXNlNjQsQ2lBZ0lDQlBiblJoY21sdklFZHZiR1lnU0dGc2JDQnZaaUJHWVcxbExEeGljajRLSUNBZ0lDQWdJQ0EwTUNCRmJHZHBiaUJRWVhKcklFUnlMaXdnVlhoaWNtbGtaMlU4WW5JK0NpQWdJQ0FnSUNBZ0tEa3dOU2tnT0RVeUxUUXpOems9IiB3aWR0aD0iMTUwIiBzdHlsZT0iYm9yZGVyOm5vbmUgIWltcG9ydGFudDsiIGhlaWdodD0iMTUwIj48L2lmcmFtZT5gKVswXTsKICAgICAgICAgICAgcG9wdXBfYTU5N2QyYmU5NDRiNGUwNmE5M2QyZmMzMDNiMzFkMDguc2V0Q29udGVudChpX2ZyYW1lXzNjOGNlZmNiMDQ2NjQ0OThhYzQ3ODU1ODNhZjljYjkxKTsKICAgICAgICAKCiAgICAgICAgbWFya2VyXzg5NTgyMjlmZWY0ZTQwYmE5NzVjNTY0ZWNhZWI5NDU0LmJpbmRQb3B1cChwb3B1cF9hNTk3ZDJiZTk0NGI0ZTA2YTkzZDJmYzMwM2IzMWQwOCkKICAgICAgICA7CgogICAgICAgIAogICAgCiAgICAKICAgICAgICAgICAgdmFyIG1hcmtlcl9iZTY5MzkwODc4MTM0ODUxYmU1ZjY1M2YyZDYxZDYxOCA9IEwubWFya2VyKAogICAgICAgICAgICAgICAgWzQzLjkxNjY5NTI4OTczNTQxNSwgLTc4Ljg5Mzk1NTIwMDA2MDczXSwKICAgICAgICAgICAgICAgIHsicGFyc2VIdG1sIjogZmFsc2UsICJyYWRpdXMiOiA1fQogICAgICAgICAgICApLmFkZFRvKG1hcF8yYjMzOTM3ZjA2MGI0MzE0OGFkNDEyN2UyYmU0YTExMCk7CiAgICAgICAgCiAgICAKICAgICAgICAgICAgdmFyIGljb25fM2ZhNzE0NGIzYWNjNDgzZmJhZTBkMTkwYTBkZTYzYzQgPSBMLkF3ZXNvbWVNYXJrZXJzLmljb24oCiAgICAgICAgICAgICAgICB7ImV4dHJhQ2xhc3NlcyI6ICJmYS1yb3RhdGUtMCIsICJpY29uIjogImZhLWFzdGVyaXNrIiwgImljb25Db2xvciI6ICJ3aGl0ZSIsICJtYXJrZXJDb2xvciI6ICJyZWQiLCAicHJlZml4IjogImZhIn0KICAgICAgICAgICAgKTsKICAgICAgICAgICAgbWFya2VyX2JlNjkzOTA4NzgxMzQ4NTFiZTVmNjUzZjJkNjFkNjE4LnNldEljb24oaWNvbl8zZmE3MTQ0YjNhY2M0ODNmYmFlMGQxOTBhMGRlNjNjNCk7CiAgICAgICAgCiAgICAKICAgICAgICB2YXIgcG9wdXBfMzFlNzdhYTE4MDI3NGYyY2EwMjI3MjE4YmU3NWJhNGQgPSBMLnBvcHVwKHsibWF4V2lkdGgiOiAyMDB9KTsKCiAgICAgICAgCiAgICAgICAgICAgIHZhciBpX2ZyYW1lXzA5MjAxMGIzZDNjOTRkMjJhNDkyZTY0OTRlMjRlZWNkID0gJChgPGlmcmFtZSBzcmM9ImRhdGE6dGV4dC9odG1sO2NoYXJzZXQ9dXRmLTg7YmFzZTY0LENpQWdJQ0JQYzJoaGQyRWdUV2xzYVhSaGNua2dZVzVrSUVsdVpIVnpkSEpwWVd3Z1RYVnpaWFZ0TER4aWNqNEtJQ0FnSUNBZ0lDQXhNREF3SUZOMFpYWmxibk52YmlCU2IyRmtJRTV2Y25Sb0xDQlBjMmhoZDJFOFluSStDaUFnSUNBZ0lDQWdLRGt3TlNrZ056STRMVFl4T1RrPSIgd2lkdGg9IjE1MCIgc3R5bGU9ImJvcmRlcjpub25lICFpbXBvcnRhbnQ7IiBoZWlnaHQ9IjE1MCI+PC9pZnJhbWU+YClbMF07CiAgICAgICAgICAgIHBvcHVwXzMxZTc3YWExODAyNzRmMmNhMDIyNzIxOGJlNzViYTRkLnNldENvbnRlbnQoaV9mcmFtZV8wOTIwMTBiM2QzYzk0ZDIyYTQ5MmU2NDk0ZTI0ZWVjZCk7CiAgICAgICAgCgogICAgICAgIG1hcmtlcl9iZTY5MzkwODc4MTM0ODUxYmU1ZjY1M2YyZDYxZDYxOC5iaW5kUG9wdXAocG9wdXBfMzFlNzdhYTE4MDI3NGYyY2EwMjI3MjE4YmU3NWJhNGQpCiAgICAgICAgOwoKICAgICAgICAKICAgIAogICAgCiAgICAgICAgICAgIHZhciBtYXJrZXJfMDUzNTk5ZmE5MDUyNDc0NWE4NDBkYTY2ZTU1MWIxNTggPSBMLm1hcmtlcigKICAgICAgICAgICAgICAgIFs0My44OTcwMjIsIC03OC44NTkxOTgwNjUxMjkzNl0sCiAgICAgICAgICAgICAgICB7InBhcnNlSHRtbCI6IGZhbHNlLCAicmFkaXVzIjogNX0KICAgICAgICAgICAgKS5hZGRUbyhtYXBfMmIzMzkzN2YwNjBiNDMxNDhhZDQxMjdlMmJlNGExMTApOwogICAgICAgIAogICAgCiAgICAgICAgICAgIHZhciBpY29uXzRkZmE5Y2NlMjk2YzQ1OTJiYjY1YzZkMjY0ZGRhZmY5ID0gTC5Bd2Vzb21lTWFya2Vycy5pY29uKAogICAgICAgICAgICAgICAgeyJleHRyYUNsYXNzZXMiOiAiZmEtcm90YXRlLTAiLCAiaWNvbiI6ICJmYS1hc3RlcmlzayIsICJpY29uQ29sb3IiOiAid2hpdGUiLCAibWFya2VyQ29sb3IiOiAicmVkIiwgInByZWZpeCI6ICJmYSJ9CiAgICAgICAgICAgICk7CiAgICAgICAgICAgIG1hcmtlcl8wNTM1OTlmYTkwNTI0NzQ1YTg0MGRhNjZlNTUxYjE1OC5zZXRJY29uKGljb25fNGRmYTljY2UyOTZjNDU5MmJiNjVjNmQyNjRkZGFmZjkpOwogICAgICAgIAogICAgCiAgICAgICAgdmFyIHBvcHVwXzY1ODA4OTIyZTg1ZTQ3MTNiMDlhZTAyODYzMmVmZDc4ID0gTC5wb3B1cCh7Im1heFdpZHRoIjogMjAwfSk7CgogICAgICAgIAogICAgICAgICAgICB2YXIgaV9mcmFtZV84MDI2YzA4YTY0MDM0Yzc5YTdmYzFlMWRiZGJhOTJmMiA9ICQoYDxpZnJhbWUgc3JjPSJkYXRhOnRleHQvaHRtbDtjaGFyc2V0PXV0Zi04O2Jhc2U2NCxDaUFnSUNCUGMyaGhkMkVnVTNCdmNuUnpJRWhoYkd3Z2IyWWdSbUZ0WlN3OFluSStDaUFnSUNBZ0lDQWdPVGtnUVhSb2Iyd2dVM1FnUlN3Z1QzTm9ZWGRoUEdKeVBnb2dJQ0FnSUNBZ0lDZzVNRFVwSURJME5TMHdNell3IiB3aWR0aD0iMTUwIiBzdHlsZT0iYm9yZGVyOm5vbmUgIWltcG9ydGFudDsiIGhlaWdodD0iMTUwIj48L2lmcmFtZT5gKVswXTsKICAgICAgICAgICAgcG9wdXBfNjU4MDg5MjJlODVlNDcxM2IwOWFlMDI4NjMyZWZkNzguc2V0Q29udGVudChpX2ZyYW1lXzgwMjZjMDhhNjQwMzRjNzlhN2ZjMWUxZGJkYmE5MmYyKTsKICAgICAgICAKCiAgICAgICAgbWFya2VyXzA1MzU5OWZhOTA1MjQ3NDVhODQwZGE2NmU1NTFiMTU4LmJpbmRQb3B1cChwb3B1cF82NTgwODkyMmU4NWU0NzEzYjA5YWUwMjg2MzJlZmQ3OCkKICAgICAgICA7CgogICAgICAgIAogICAgCiAgICAKICAgICAgICAgICAgdmFyIG1hcmtlcl8wMGZmYTQwMDRjYWE0YjBjYjI0Mjc4YzI5MDQxNzRlMiA9IEwubWFya2VyKAogICAgICAgICAgICAgICAgWzQzLjkyNzA3NjgyNSwgLTc5LjA3MjEwMjczNzVdLAogICAgICAgICAgICAgICAgeyJwYXJzZUh0bWwiOiBmYWxzZSwgInJhZGl1cyI6IDV9CiAgICAgICAgICAgICkuYWRkVG8obWFwXzJiMzM5MzdmMDYwYjQzMTQ4YWQ0MTI3ZTJiZTRhMTEwKTsKICAgICAgICAKICAgIAogICAgICAgICAgICB2YXIgaWNvbl9hNjI3OGFjZWMzZTU0ZjI4YTZkZDUyZGI2YzhmZmU3NCA9IEwuQXdlc29tZU1hcmtlcnMuaWNvbigKICAgICAgICAgICAgICAgIHsiZXh0cmFDbGFzc2VzIjogImZhLXJvdGF0ZS0wIiwgImljb24iOiAiZmEtYXN0ZXJpc2siLCAiaWNvbkNvbG9yIjogIndoaXRlIiwgIm1hcmtlckNvbG9yIjogInJlZCIsICJwcmVmaXgiOiAiZmEifQogICAgICAgICAgICApOwogICAgICAgICAgICBtYXJrZXJfMDBmZmE0MDA0Y2FhNGIwY2IyNDI3OGMyOTA0MTc0ZTIuc2V0SWNvbihpY29uX2E2Mjc4YWNlYzNlNTRmMjhhNmRkNTJkYjZjOGZmZTc0KTsKICAgICAgICAKICAgIAogICAgICAgIHZhciBwb3B1cF8yMDg0OTA1NDYyN2Y0N2Q5ODhjODE0ZWZjMjRhMjIwYiA9IEwucG9wdXAoeyJtYXhXaWR0aCI6IDIwMH0pOwoKICAgICAgICAKICAgICAgICAgICAgdmFyIGlfZnJhbWVfYzBmMTIzMTUwZGY1NDkwZWE4OWIyODg3NTVkMTQzYWEgPSAkKGA8aWZyYW1lIHNyYz0iZGF0YTp0ZXh0L2h0bWw7Y2hhcnNldD11dGYtODtiYXNlNjQsQ2lBZ0lDQlFhV05yWlhKcGJtY2dUWFZ6WlhWdElGWnBiR3hoWjJVc1BHSnlQZ29nSUNBZ0lDQWdJREl6TmpVZ05uUm9JRU52Ym1ObGMzTnBiMjRnVW1RdUxDQkhjbVZsYm5kdmIyUThZbkkrQ2lBZ0lDQWdJQ0FnS0Rrd05Ta2dOamd6TFRnME1ERT0iIHdpZHRoPSIxNTAiIHN0eWxlPSJib3JkZXI6bm9uZSAhaW1wb3J0YW50OyIgaGVpZ2h0PSIxNTAiPjwvaWZyYW1lPmApWzBdOwogICAgICAgICAgICBwb3B1cF8yMDg0OTA1NDYyN2Y0N2Q5ODhjODE0ZWZjMjRhMjIwYi5zZXRDb250ZW50KGlfZnJhbWVfYzBmMTIzMTUwZGY1NDkwZWE4OWIyODg3NTVkMTQzYWEpOwogICAgICAgIAoKICAgICAgICBtYXJrZXJfMDBmZmE0MDA0Y2FhNGIwY2IyNDI3OGMyOTA0MTc0ZTIuYmluZFBvcHVwKHBvcHVwXzIwODQ5MDU0NjI3ZjQ3ZDk4OGM4MTRlZmMyNGEyMjBiKQogICAgICAgIDsKCiAgICAgICAgCiAgICAKICAgIAogICAgICAgICAgICB2YXIgbWFya2VyX2FkMzYyZjA5ODA2YzRjNWM4NmQyYjcyMmUzMzMzZGVhID0gTC5tYXJrZXIoCiAgICAgICAgICAgICAgICBbNDMuODQ1NDA3NCwgLTc5LjA1MTUxOTRdLAogICAgICAgICAgICAgICAgeyJwYXJzZUh0bWwiOiBmYWxzZSwgInJhZGl1cyI6IDV9CiAgICAgICAgICAgICkuYWRkVG8obWFwXzJiMzM5MzdmMDYwYjQzMTQ4YWQ0MTI3ZTJiZTRhMTEwKTsKICAgICAgICAKICAgIAogICAgICAgICAgICB2YXIgaWNvbl8xZTkwZDE3MmI2ZGQ0YmZmYmM2NDdjMjk3NjNiMTlhMCA9IEwuQXdlc29tZU1hcmtlcnMuaWNvbigKICAgICAgICAgICAgICAgIHsiZXh0cmFDbGFzc2VzIjogImZhLXJvdGF0ZS0wIiwgImljb24iOiAiZmEtYXN0ZXJpc2siLCAiaWNvbkNvbG9yIjogIndoaXRlIiwgIm1hcmtlckNvbG9yIjogImdyZWVuIiwgInByZWZpeCI6ICJmYSJ9CiAgICAgICAgICAgICk7CiAgICAgICAgICAgIG1hcmtlcl9hZDM2MmYwOTgwNmM0YzVjODZkMmI3MjJlMzMzM2RlYS5zZXRJY29uKGljb25fMWU5MGQxNzJiNmRkNGJmZmJjNjQ3YzI5NzYzYjE5YTApOwogICAgICAgIAogICAgCiAgICAgICAgdmFyIHBvcHVwX2M3NDc4NTJhOWRjYzQxZTZiYWIwN2I2NzI5NTI4NzhiID0gTC5wb3B1cCh7Im1heFdpZHRoIjogMjAwfSk7CgogICAgICAgIAogICAgICAgICAgICB2YXIgaV9mcmFtZV8yMDI0MzM3YTNkYTU0ODdmYTU1NDk5NTExNmEwYmI4NyA9ICQoYDxpZnJhbWUgc3JjPSJkYXRhOnRleHQvaHRtbDtjaGFyc2V0PXV0Zi04O2Jhc2U2NCxDaUFnSUNCQmFtRjRJRU52YlcxMWJtbDBlU0JVYUdWaGRISmxMRHhpY2o0S0lDQWdJQ0FnSUNBM09DQkRhSFZ5WTJnZ1UzUnlaV1YwSUZOdmRYUm9MQ0JCYW1GNFBHSnlQZ29nSUNBZ0lDQWdJQ2d5T0RrcElEZzVNaTAwTVRNeSIgd2lkdGg9IjE1MCIgc3R5bGU9ImJvcmRlcjpub25lICFpbXBvcnRhbnQ7IiBoZWlnaHQ9IjE1MCI+PC9pZnJhbWU+YClbMF07CiAgICAgICAgICAgIHBvcHVwX2M3NDc4NTJhOWRjYzQxZTZiYWIwN2I2NzI5NTI4NzhiLnNldENvbnRlbnQoaV9mcmFtZV8yMDI0MzM3YTNkYTU0ODdmYTU1NDk5NTExNmEwYmI4Nyk7CiAgICAgICAgCgogICAgICAgIG1hcmtlcl9hZDM2MmYwOTgwNmM0YzVjODZkMmI3MjJlMzMzM2RlYS5iaW5kUG9wdXAocG9wdXBfYzc0Nzg1MmE5ZGNjNDFlNmJhYjA3YjY3Mjk1Mjg3OGIpCiAgICAgICAgOwoKICAgICAgICAKICAgIAogICAgCiAgICAgICAgICAgIHZhciBtYXJrZXJfYzU5ZTM2YzQwMTVmNDQwOWI4ZWU1OThiNjcxNzFjMWIgPSBMLm1hcmtlcigKICAgICAgICAgICAgICAgIFs0My44OTc5NTYsIC03OC44Mjg0OTE0ODMzNzQzMl0sCiAgICAgICAgICAgICAgICB7InBhcnNlSHRtbCI6IGZhbHNlLCAicmFkaXVzIjogNX0KICAgICAgICAgICAgKS5hZGRUbyhtYXBfMmIzMzkzN2YwNjBiNDMxNDhhZDQxMjdlMmJlNGExMTApOwogICAgICAgIAogICAgCiAgICAgICAgICAgIHZhciBpY29uXzE2OGQwOTZmMWI4ZjQyNzNhZmVhNTVkYTIyODQ2N2VmID0gTC5Bd2Vzb21lTWFya2Vycy5pY29uKAogICAgICAgICAgICAgICAgeyJleHRyYUNsYXNzZXMiOiAiZmEtcm90YXRlLTAiLCAiaWNvbiI6ICJmYS1hc3RlcmlzayIsICJpY29uQ29sb3IiOiAid2hpdGUiLCAibWFya2VyQ29sb3IiOiAiZ3JlZW4iLCAicHJlZml4IjogImZhIn0KICAgICAgICAgICAgKTsKICAgICAgICAgICAgbWFya2VyX2M1OWUzNmM0MDE1ZjQ0MDliOGVlNTk4YjY3MTcxYzFiLnNldEljb24oaWNvbl8xNjhkMDk2ZjFiOGY0MjczYWZlYTU1ZGEyMjg0NjdlZik7CiAgICAgICAgCiAgICAKICAgICAgICB2YXIgcG9wdXBfY2MwNmMxN2ViZmZiNGJjNzg1ZTFmZGE2Y2UzOTQ1YWEgPSBMLnBvcHVwKHsibWF4V2lkdGgiOiAyMDB9KTsKCiAgICAgICAgCiAgICAgICAgICAgIHZhciBpX2ZyYW1lX2Q3YTE5NDdlZjZjOTQ3MDc4ODMwZDYyZGI5YTZiYTIwID0gJChgPGlmcmFtZSBzcmM9ImRhdGE6dGV4dC9odG1sO2NoYXJzZXQ9dXRmLTg7YmFzZTY0LENpQWdJQ0JVYUdVZ1JISnBablIzYjI5a0lGUm9aV0YwY21VZ1IzSnZkWEFzUEdKeVBnb2dJQ0FnSUNBZ0lEa3hNQ0JYWVd4dWRYUWdRMjkxY25Rc0lFOXphR0YzWVR4aWNqNEtJQ0FnSUNBZ0lDQW9PVEExS1NBMU56WXRNak01Tmc9PSIgd2lkdGg9IjE1MCIgc3R5bGU9ImJvcmRlcjpub25lICFpbXBvcnRhbnQ7IiBoZWlnaHQ9IjE1MCI+PC9pZnJhbWU+YClbMF07CiAgICAgICAgICAgIHBvcHVwX2NjMDZjMTdlYmZmYjRiYzc4NWUxZmRhNmNlMzk0NWFhLnNldENvbnRlbnQoaV9mcmFtZV9kN2ExOTQ3ZWY2Yzk0NzA3ODgzMGQ2MmRiOWE2YmEyMCk7CiAgICAgICAgCgogICAgICAgIG1hcmtlcl9jNTllMzZjNDAxNWY0NDA5YjhlZTU5OGI2NzE3MWMxYi5iaW5kUG9wdXAocG9wdXBfY2MwNmMxN2ViZmZiNGJjNzg1ZTFmZGE2Y2UzOTQ1YWEpCiAgICAgICAgOwoKICAgICAgICAKICAgIAogICAgCiAgICAgICAgICAgIHZhciBtYXJrZXJfNWQzOTE2M2ExYTYzNDIwMGI2NDAzZWQ3M2NkYzhkODQgPSBMLm1hcmtlcigKICAgICAgICAgICAgICAgIFs0My44NzUyODU5LCAtNzguOTQzMDU5NV0sCiAgICAgICAgICAgICAgICB7InBhcnNlSHRtbCI6IGZhbHNlLCAicmFkaXVzIjogNX0KICAgICAgICAgICAgKS5hZGRUbyhtYXBfMmIzMzkzN2YwNjBiNDMxNDhhZDQxMjdlMmJlNGExMTApOwogICAgICAgIAogICAgCiAgICAgICAgICAgIHZhciBpY29uXzhmYzViOWE1ZjcwNjRiMTRhZDZhM2Q2MzdmNzNjYjQ2ID0gTC5Bd2Vzb21lTWFya2Vycy5pY29uKAogICAgICAgICAgICAgICAgeyJleHRyYUNsYXNzZXMiOiAiZmEtcm90YXRlLTAiLCAiaWNvbiI6ICJmYS1hc3RlcmlzayIsICJpY29uQ29sb3IiOiAid2hpdGUiLCAibWFya2VyQ29sb3IiOiAiZ3JlZW4iLCAicHJlZml4IjogImZhIn0KICAgICAgICAgICAgKTsKICAgICAgICAgICAgbWFya2VyXzVkMzkxNjNhMWE2MzQyMDBiNjQwM2VkNzNjZGM4ZDg0LnNldEljb24oaWNvbl84ZmM1YjlhNWY3MDY0YjE0YWQ2YTNkNjM3ZjczY2I0Nik7CiAgICAgICAgCiAgICAKICAgICAgICB2YXIgcG9wdXBfZDkzYmFhMWEyOGUzNDc5MGFhYmVlYmZkNDliZjMzNWMgPSBMLnBvcHVwKHsibWF4V2lkdGgiOiAyMDB9KTsKCiAgICAgICAgCiAgICAgICAgICAgIHZhciBpX2ZyYW1lXzY0MGU4YjNhZjc0ODRiYzM5MGZhODk5YTVkODBjZWE3ID0gJChgPGlmcmFtZSBzcmM9ImRhdGE6dGV4dC9odG1sO2NoYXJzZXQ9dXRmLTg7YmFzZTY0LENpQWdJQ0JYYUdsMFlua2dRMjkxY25Sb2IzVnpaU0JVYUdWaGRISmxMRHhpY2o0S0lDQWdJQ0FnSUNBME1UWWdRMlZ1ZEhKbElGTjBjbVZsZENCVGIzVjBhQ3dnVjJocGRHSjVQR0p5UGdvZ0lDQWdJQ0FnSUNnNU1EVXBJRFkyT0MwNE1URXgiIHdpZHRoPSIxNTAiIHN0eWxlPSJib3JkZXI6bm9uZSAhaW1wb3J0YW50OyIgaGVpZ2h0PSIxNTAiPjwvaWZyYW1lPmApWzBdOwogICAgICAgICAgICBwb3B1cF9kOTNiYWExYTI4ZTM0NzkwYWFiZWViZmQ0OWJmMzM1Yy5zZXRDb250ZW50KGlfZnJhbWVfNjQwZThiM2FmNzQ4NGJjMzkwZmE4OTlhNWQ4MGNlYTcpOwogICAgICAgIAoKICAgICAgICBtYXJrZXJfNWQzOTE2M2ExYTYzNDIwMGI2NDAzZWQ3M2NkYzhkODQuYmluZFBvcHVwKHBvcHVwX2Q5M2JhYTFhMjhlMzQ3OTBhYWJlZWJmZDQ5YmYzMzVjKQogICAgICAgIDsKCiAgICAgICAgCiAgICAKICAgIAogICAgICAgICAgICB2YXIgbWFya2VyXzhmZGZkOTRjY2IxYzQ1YzY4MWM3ZmMwNTU4YzYzNWVkID0gTC5tYXJrZXIoCiAgICAgICAgICAgICAgICBbNDMuODQxMjI4OSwgLTc5LjAyNjQ4NDJdLAogICAgICAgICAgICAgICAgeyJwYXJzZUh0bWwiOiBmYWxzZSwgInJhZGl1cyI6IDV9CiAgICAgICAgICAgICkuYWRkVG8obWFwXzJiMzM5MzdmMDYwYjQzMTQ4YWQ0MTI3ZTJiZTRhMTEwKTsKICAgICAgICAKICAgIAogICAgICAgICAgICB2YXIgaWNvbl9mZmVlZTJmOTgzM2U0NTAxYTgxZTE5MDMyM2ZhMzg5NiA9IEwuQXdlc29tZU1hcmtlcnMuaWNvbigKICAgICAgICAgICAgICAgIHsiZXh0cmFDbGFzc2VzIjogImZhLXJvdGF0ZS0wIiwgImljb24iOiAiZmEtYXN0ZXJpc2siLCAiaWNvbkNvbG9yIjogIndoaXRlIiwgIm1hcmtlckNvbG9yIjogImdyZWVuIiwgInByZWZpeCI6ICJmYSJ9CiAgICAgICAgICAgICk7CiAgICAgICAgICAgIG1hcmtlcl84ZmRmZDk0Y2NiMWM0NWM2ODFjN2ZjMDU1OGM2MzVlZC5zZXRJY29uKGljb25fZmZlZWUyZjk4MzNlNDUwMWE4MWUxOTAzMjNmYTM4OTYpOwogICAgICAgIAogICAgCiAgICAgICAgdmFyIHBvcHVwXzdlMTU0YzQzYzk0NDQ3YTk4OTVjZTAyOWViMThjMzk3ID0gTC5wb3B1cCh7Im1heFdpZHRoIjogMjAwfSk7CgogICAgICAgIAogICAgICAgICAgICB2YXIgaV9mcmFtZV9hMTY4YTk4MDhjZWQ0NTNiOTk5YzkzYmRhMmNhMzE5MSA9ICQoYDxpZnJhbWUgc3JjPSJkYXRhOnRleHQvaHRtbDtjaGFyc2V0PXV0Zi04O2Jhc2U2NCxDaUFnSUNCWmRXc2dXWFZySjNNZ1JIVnlhR0Z0TER4aWNqNEtJQ0FnSUNBZ0lDQXlNelVnUW1GNWJIa2dVM1F1SUZjdUxDQkJhbUY0UEdKeVBnb2dJQ0FnSUNBZ0lDZzBNVFlwSURrMk55MDJOREkxIiB3aWR0aD0iMTUwIiBzdHlsZT0iYm9yZGVyOm5vbmUgIWltcG9ydGFudDsiIGhlaWdodD0iMTUwIj48L2lmcmFtZT5gKVswXTsKICAgICAgICAgICAgcG9wdXBfN2UxNTRjNDNjOTQ0NDdhOTg5NWNlMDI5ZWIxOGMzOTcuc2V0Q29udGVudChpX2ZyYW1lX2ExNjhhOTgwOGNlZDQ1M2I5OTljOTNiZGEyY2EzMTkxKTsKICAgICAgICAKCiAgICAgICAgbWFya2VyXzhmZGZkOTRjY2IxYzQ1YzY4MWM3ZmMwNTU4YzYzNWVkLmJpbmRQb3B1cChwb3B1cF83ZTE1NGM0M2M5NDQ0N2E5ODk1Y2UwMjllYjE4YzM5NykKICAgICAgICA7CgogICAgICAgIAogICAgCiAgICAKICAgICAgICAgICAgdmFyIG1hcmtlcl9iNjNhM2IxOTJhZTg0NDIzODMyYzQ5M2U4YjQ4ZmIzMCA9IEwubWFya2VyKAogICAgICAgICAgICAgICAgWzQzLjg5NTcyMDc1LCAtNzguODY2NjgzNzU1ODU5NTFdLAogICAgICAgICAgICAgICAgeyJwYXJzZUh0bWwiOiBmYWxzZSwgInJhZGl1cyI6IDV9CiAgICAgICAgICAgICkuYWRkVG8obWFwXzJiMzM5MzdmMDYwYjQzMTQ4YWQ0MTI3ZTJiZTRhMTEwKTsKICAgICAgICAKICAgIAogICAgICAgICAgICB2YXIgaWNvbl84NGNiZThlNGIzODc0MjZiOTg2N2Y0ZmU0Y2MwOTJkMyA9IEwuQXdlc29tZU1hcmtlcnMuaWNvbigKICAgICAgICAgICAgICAgIHsiZXh0cmFDbGFzc2VzIjogImZhLXJvdGF0ZS0wIiwgImljb24iOiAiZmEtYXN0ZXJpc2siLCAiaWNvbkNvbG9yIjogIndoaXRlIiwgIm1hcmtlckNvbG9yIjogImdyZWVuIiwgInByZWZpeCI6ICJmYSJ9CiAgICAgICAgICAgICk7CiAgICAgICAgICAgIG1hcmtlcl9iNjNhM2IxOTJhZTg0NDIzODMyYzQ5M2U4YjQ4ZmIzMC5zZXRJY29uKGljb25fODRjYmU4ZTRiMzg3NDI2Yjk4NjdmNGZlNGNjMDkyZDMpOwogICAgICAgIAogICAgCiAgICAgICAgdmFyIHBvcHVwXzAyZWY4Y2ZmODdlNzRhODRiNWY2MmRjYmE0ZDEwMGIwID0gTC5wb3B1cCh7Im1heFdpZHRoIjogMjAwfSk7CgogICAgICAgIAogICAgICAgICAgICB2YXIgaV9mcmFtZV83MjQxOGYzY2NiYjQ0MDAyODJiNzVlODdlZDVlYjlhMiA9ICQoYDxpZnJhbWUgc3JjPSJkYXRhOnRleHQvaHRtbDtjaGFyc2V0PXV0Zi04O2Jhc2U2NCxDaUFnSUNCRWRYSm9ZVzBnVTJodlpYTjBjbWx1WnlCUVpYSm1iM0p0WlhKekxEeGljajRLSUNBZ0lDQWdJQ0EwTlNCUmRXVmxiaUJUZEN3Z1QzTm9ZWGRoUEdKeVBnb2dJQ0FnSUNBZ0lDZzVNRFVwSURjeU5TMDVNalUyIiB3aWR0aD0iMTUwIiBzdHlsZT0iYm9yZGVyOm5vbmUgIWltcG9ydGFudDsiIGhlaWdodD0iMTUwIj48L2lmcmFtZT5gKVswXTsKICAgICAgICAgICAgcG9wdXBfMDJlZjhjZmY4N2U3NGE4NGI1ZjYyZGNiYTRkMTAwYjAuc2V0Q29udGVudChpX2ZyYW1lXzcyNDE4ZjNjY2JiNDQwMDI4MmI3NWU4N2VkNWViOWEyKTsKICAgICAgICAKCiAgICAgICAgbWFya2VyX2I2M2EzYjE5MmFlODQ0MjM4MzJjNDkzZThiNDhmYjMwLmJpbmRQb3B1cChwb3B1cF8wMmVmOGNmZjg3ZTc0YTg0YjVmNjJkY2JhNGQxMDBiMCkKICAgICAgICA7CgogICAgICAgIAogICAgCiAgICAKICAgICAgICAgICAgdmFyIG1hcmtlcl85MGFiNjJjNjEwZjU0YjVkOTdiZTk0OTYyYjE3NDdhMSA9IEwubWFya2VyKAogICAgICAgICAgICAgICAgWzQzLjkyOTY4MzYsIC03OC44ODI1NzU5XSwKICAgICAgICAgICAgICAgIHsicGFyc2VIdG1sIjogZmFsc2UsICJyYWRpdXMiOiA1fQogICAgICAgICAgICApLmFkZFRvKG1hcF8yYjMzOTM3ZjA2MGI0MzE0OGFkNDEyN2UyYmU0YTExMCk7CiAgICAgICAgCiAgICAKICAgICAgICAgICAgdmFyIGljb25fN2ViNjlkMTU2MzI1NDhhYjg5Yjc5Njc5MWI0YzZmMWMgPSBMLkF3ZXNvbWVNYXJrZXJzLmljb24oCiAgICAgICAgICAgICAgICB7ImV4dHJhQ2xhc3NlcyI6ICJmYS1yb3RhdGUtMCIsICJpY29uIjogImZhLWFzdGVyaXNrIiwgImljb25Db2xvciI6ICJ3aGl0ZSIsICJtYXJrZXJDb2xvciI6ICJncmVlbiIsICJwcmVmaXgiOiAiZmEifQogICAgICAgICAgICApOwogICAgICAgICAgICBtYXJrZXJfOTBhYjYyYzYxMGY1NGI1ZDk3YmU5NDk2MmIxNzQ3YTEuc2V0SWNvbihpY29uXzdlYjY5ZDE1NjMyNTQ4YWI4OWI3OTY3OTFiNGM2ZjFjKTsKICAgICAgICAKICAgIAogICAgICAgIHZhciBwb3B1cF9mNmJlMjc2NzUyMTU0MmRmYjZkMjMyMGZmYmFmNTllMCA9IEwucG9wdXAoeyJtYXhXaWR0aCI6IDIwMH0pOwoKICAgICAgICAKICAgICAgICAgICAgdmFyIGlfZnJhbWVfOWJmMDdhYjM0ZmQyNDVkODk1ZmQ2YzQ1ZDM5NjNlYjUgPSAkKGA8aWZyYW1lIHNyYz0iZGF0YTp0ZXh0L2h0bWw7Y2hhcnNldD11dGYtODtiYXNlNjQsQ2lBZ0lDQlBjMmhoZDJFZ1RHbDBkR3hsSUZSb1pXRjBjbVVzUEdKeVBnb2dJQ0FnSUNBZ0lEWXlJRkoxYzNObGRIUWdRWFpsTENCUGMyaGhkMkU4WW5JK0NpQWdJQ0FnSUNBZ0tEa3dOU2tnTnpJekxUQXlPREk9IiB3aWR0aD0iMTUwIiBzdHlsZT0iYm9yZGVyOm5vbmUgIWltcG9ydGFudDsiIGhlaWdodD0iMTUwIj48L2lmcmFtZT5gKVswXTsKICAgICAgICAgICAgcG9wdXBfZjZiZTI3Njc1MjE1NDJkZmI2ZDIzMjBmZmJhZjU5ZTAuc2V0Q29udGVudChpX2ZyYW1lXzliZjA3YWIzNGZkMjQ1ZDg5NWZkNmM0NWQzOTYzZWI1KTsKICAgICAgICAKCiAgICAgICAgbWFya2VyXzkwYWI2MmM2MTBmNTRiNWQ5N2JlOTQ5NjJiMTc0N2ExLmJpbmRQb3B1cChwb3B1cF9mNmJlMjc2NzUyMTU0MmRmYjZkMjMyMGZmYmFmNTllMCkKICAgICAgICA7CgogICAgICAgIAogICAgCiAgICAKICAgICAgICAgICAgdmFyIG1hcmtlcl9iMzdhNmRhNjZhZjA0ZmJkOWE2YmVhOWI2ZWJiODViYyA9IEwubWFya2VyKAogICAgICAgICAgICAgICAgWzQzLjkwMjgzMjIsIC03OC44NDA5MDQ1XSwKICAgICAgICAgICAgICAgIHsicGFyc2VIdG1sIjogZmFsc2UsICJyYWRpdXMiOiA1fQogICAgICAgICAgICApLmFkZFRvKG1hcF8yYjMzOTM3ZjA2MGI0MzE0OGFkNDEyN2UyYmU0YTExMCk7CiAgICAgICAgCiAgICAKICAgICAgICAgICAgdmFyIGljb25fMGU2ZWI5YzEwOWU0NDMwOTlkOWViMzMyZTk4NzRhNDQgPSBMLkF3ZXNvbWVNYXJrZXJzLmljb24oCiAgICAgICAgICAgICAgICB7ImV4dHJhQ2xhc3NlcyI6ICJmYS1yb3RhdGUtMCIsICJpY29uIjogImZhLWFzdGVyaXNrIiwgImljb25Db2xvciI6ICJ3aGl0ZSIsICJtYXJrZXJDb2xvciI6ICJncmVlbiIsICJwcmVmaXgiOiAiZmEifQogICAgICAgICAgICApOwogICAgICAgICAgICBtYXJrZXJfYjM3YTZkYTY2YWYwNGZiZDlhNmJlYTliNmViYjg1YmMuc2V0SWNvbihpY29uXzBlNmViOWMxMDllNDQzMDk5ZDllYjMzMmU5ODc0YTQ0KTsKICAgICAgICAKICAgIAogICAgICAgIHZhciBwb3B1cF8xMDFjYzc0NjAwOTQ0MWFhYTVhMjY5ZTdlZjM4N2E0NiA9IEwucG9wdXAoeyJtYXhXaWR0aCI6IDIwMH0pOwoKICAgICAgICAKICAgICAgICAgICAgdmFyIGlfZnJhbWVfOTkzODQzNzNlZjJhNDg3ZWFlYWRlMDNmODU0NDk0Y2QgPSAkKGA8aWZyYW1lIHNyYz0iZGF0YTp0ZXh0L2h0bWw7Y2hhcnNldD11dGYtODtiYXNlNjQsQ2lBZ0lDQlNaV2RsYm5RZ1ZHaGxZWFJ5WlNCUGJuUmhjbWx2SUZSbFkyZ3NQR0p5UGdvZ0lDQWdJQ0FnSURVd0lFdHBibWNnVTNRZ1JTd2dUM05vWVhkaFBHSnlQZ29nSUNBZ0lDQWdJQ2c1TURVcElEY3lNUzB6TXprNUlHVjRkQzRnTWc9PSIgd2lkdGg9IjE1MCIgc3R5bGU9ImJvcmRlcjpub25lICFpbXBvcnRhbnQ7IiBoZWlnaHQ9IjE1MCI+PC9pZnJhbWU+YClbMF07CiAgICAgICAgICAgIHBvcHVwXzEwMWNjNzQ2MDA5NDQxYWFhNWEyNjllN2VmMzg3YTQ2LnNldENvbnRlbnQoaV9mcmFtZV85OTM4NDM3M2VmMmE0ODdlYWVhZGUwM2Y4NTQ0OTRjZCk7CiAgICAgICAgCgogICAgICAgIG1hcmtlcl9iMzdhNmRhNjZhZjA0ZmJkOWE2YmVhOWI2ZWJiODViYy5iaW5kUG9wdXAocG9wdXBfMTAxY2M3NDYwMDk0NDFhYWE1YTI2OWU3ZWYzODdhNDYpCiAgICAgICAgOwoKICAgICAgICAKICAgIAogICAgCiAgICAgICAgICAgIHZhciBtYXJrZXJfMjNkOTgzY2IxZDVjNGU3ZTkyNjdlYzlkMzk0OTg3YWMgPSBMLm1hcmtlcigKICAgICAgICAgICAgICAgIFs0My44NjU0MjcxLCAtNzguODI4OTY4M10sCiAgICAgICAgICAgICAgICB7InBhcnNlSHRtbCI6IGZhbHNlLCAicmFkaXVzIjogNX0KICAgICAgICAgICAgKS5hZGRUbyhtYXBfMmIzMzkzN2YwNjBiNDMxNDhhZDQxMjdlMmJlNGExMTApOwogICAgICAgIAogICAgCiAgICAgICAgICAgIHZhciBpY29uX2IwNDFhZjkxYmUzMTQyNzRhNzU4NzgxNzUzNmE0NjJmID0gTC5Bd2Vzb21lTWFya2Vycy5pY29uKAogICAgICAgICAgICAgICAgeyJleHRyYUNsYXNzZXMiOiAiZmEtcm90YXRlLTAiLCAiaWNvbiI6ICJmYS1hc3RlcmlzayIsICJpY29uQ29sb3IiOiAid2hpdGUiLCAibWFya2VyQ29sb3IiOiAicmVkIiwgInByZWZpeCI6ICJmYSJ9CiAgICAgICAgICAgICk7CiAgICAgICAgICAgIG1hcmtlcl8yM2Q5ODNjYjFkNWM0ZTdlOTI2N2VjOWQzOTQ5ODdhYy5zZXRJY29uKGljb25fYjA0MWFmOTFiZTMxNDI3NGE3NTg3ODE3NTM2YTQ2MmYpOwogICAgICAgIAogICAgCiAgICAgICAgdmFyIHBvcHVwXzAyY2NmNTU4NTA2MjRmODc4YjIxMjQzYjcxOWMwZWZkID0gTC5wb3B1cCh7Im1heFdpZHRoIjogMjAwfSk7CgogICAgICAgIAogICAgICAgICAgICB2YXIgaV9mcmFtZV82MTlmZmU3YmIxY2I0MDhmODA5MjE5ODk0YmYyNTIyNiA9ICQoYDxpZnJhbWUgc3JjPSJkYXRhOnRleHQvaHRtbDtjaGFyc2V0PXV0Zi04O2Jhc2U2NCxDaUFnSUNCUGMyaGhkMkVnSUUxMWMyVjFiU3c4WW5JK0NpQWdJQ0FnSUNBZ01UUTFNQ0JUYVcxamIyVWdVM1F1SUZOdmRYUm9MQ0JQYzJoaGQyRThZbkkrQ2lBZ0lDQWdJQ0FnS0Rrd05Ta2dORE0yTFRjMk1qUT0iIHdpZHRoPSIxNTAiIHN0eWxlPSJib3JkZXI6bm9uZSAhaW1wb3J0YW50OyIgaGVpZ2h0PSIxNTAiPjwvaWZyYW1lPmApWzBdOwogICAgICAgICAgICBwb3B1cF8wMmNjZjU1ODUwNjI0Zjg3OGIyMTI0M2I3MTljMGVmZC5zZXRDb250ZW50KGlfZnJhbWVfNjE5ZmZlN2JiMWNiNDA4ZjgwOTIxOTg5NGJmMjUyMjYpOwogICAgICAgIAoKICAgICAgICBtYXJrZXJfMjNkOTgzY2IxZDVjNGU3ZTkyNjdlYzlkMzk0OTg3YWMuYmluZFBvcHVwKHBvcHVwXzAyY2NmNTU4NTA2MjRmODc4YjIxMjQzYjcxOWMwZWZkKQogICAgICAgIDsKCiAgICAgICAgCiAgICAKICAgIAogICAgICAgICAgICB2YXIgbWFya2VyXzc3YjBjNmQzYTNhZDRjZTY5YTRjMTFhNTEyNDJhZWM3ID0gTC5tYXJrZXIoCiAgICAgICAgICAgICAgICBbNDMuOTI5NjgzNiwgLTc4Ljg4MjU3NTldLAogICAgICAgICAgICAgICAgeyJwYXJzZUh0bWwiOiBmYWxzZSwgInJhZGl1cyI6IDV9CiAgICAgICAgICAgICkuYWRkVG8obWFwXzJiMzM5MzdmMDYwYjQzMTQ4YWQ0MTI3ZTJiZTRhMTEwKTsKICAgICAgICAKICAgIAogICAgICAgICAgICB2YXIgaWNvbl9lNTE1YjA4ODUzMjk0OGYzYTdlYWUzYzc0MWEzNDA5YiA9IEwuQXdlc29tZU1hcmtlcnMuaWNvbigKICAgICAgICAgICAgICAgIHsiZXh0cmFDbGFzc2VzIjogImZhLXJvdGF0ZS0wIiwgImljb24iOiAiZmEtYXN0ZXJpc2siLCAiaWNvbkNvbG9yIjogIndoaXRlIiwgIm1hcmtlckNvbG9yIjogImdyZWVuIiwgInByZWZpeCI6ICJmYSJ9CiAgICAgICAgICAgICk7CiAgICAgICAgICAgIG1hcmtlcl83N2IwYzZkM2EzYWQ0Y2U2OWE0YzExYTUxMjQyYWVjNy5zZXRJY29uKGljb25fZTUxNWIwODg1MzI5NDhmM2E3ZWFlM2M3NDFhMzQwOWIpOwogICAgICAgIAogICAgCiAgICAgICAgdmFyIHBvcHVwXzFiZDQzODg3ZmRmYTRmYWU5YzJlNjBjZDdiNjY2YzI1ID0gTC5wb3B1cCh7Im1heFdpZHRoIjogMjAwfSk7CgogICAgICAgIAogICAgICAgICAgICB2YXIgaV9mcmFtZV83ODc5NGJlNDVlODg0YzdmYmFhZTNiOTdhOTZkOWIyNyA9ICQoYDxpZnJhbWUgc3JjPSJkYXRhOnRleHQvaHRtbDtjaGFyc2V0PXV0Zi04O2Jhc2U2NCxDaUFnSUNCUGMyaGhkMkVnVEdsMGRHeGxJRlJvWldGMFpYSXNQR0p5UGdvZ0lDQWdJQ0FnSURZeUlGSjFjM05sZEhRZ1FYWmxMaXdnVDNOb1lYZGhQR0p5UGdvZ0lDQWdJQ0FnSUNnNU1EVXBJRGN5TXlBd01qZ3kiIHdpZHRoPSIxNTAiIHN0eWxlPSJib3JkZXI6bm9uZSAhaW1wb3J0YW50OyIgaGVpZ2h0PSIxNTAiPjwvaWZyYW1lPmApWzBdOwogICAgICAgICAgICBwb3B1cF8xYmQ0Mzg4N2ZkZmE0ZmFlOWMyZTYwY2Q3YjY2NmMyNS5zZXRDb250ZW50KGlfZnJhbWVfNzg3OTRiZTQ1ZTg4NGM3ZmJhYWUzYjk3YTk2ZDliMjcpOwogICAgICAgIAoKICAgICAgICBtYXJrZXJfNzdiMGM2ZDNhM2FkNGNlNjlhNGMxMWE1MTI0MmFlYzcuYmluZFBvcHVwKHBvcHVwXzFiZDQzODg3ZmRmYTRmYWU5YzJlNjBjZDdiNjY2YzI1KQogICAgICAgIDsKCiAgICAgICAgCiAgICAKICAgIAogICAgICAgICAgICB2YXIgbWFya2VyXzhlODNjNjRlNTkzMTQwM2Q4ZDFmNzRmNTVjNzU5MTFhID0gTC5tYXJrZXIoCiAgICAgICAgICAgICAgICBbNDMuOTA0MjE2MTQ5OTk5OTk2LCAtNzguODY3OTAzNjc1XSwKICAgICAgICAgICAgICAgIHsicGFyc2VIdG1sIjogZmFsc2UsICJyYWRpdXMiOiA1fQogICAgICAgICAgICApLmFkZFRvKG1hcF8yYjMzOTM3ZjA2MGI0MzE0OGFkNDEyN2UyYmU0YTExMCk7CiAgICAgICAgCiAgICAKICAgICAgICAgICAgdmFyIGljb25fZjkyNThiN2E1YTNmNDBiM2E5NTdmNmZjMzhjMzgwOTQgPSBMLkF3ZXNvbWVNYXJrZXJzLmljb24oCiAgICAgICAgICAgICAgICB7ImV4dHJhQ2xhc3NlcyI6ICJmYS1yb3RhdGUtMCIsICJpY29uIjogImZhLWFzdGVyaXNrIiwgImljb25Db2xvciI6ICJ3aGl0ZSIsICJtYXJrZXJDb2xvciI6ICJyZWQiLCAicHJlZml4IjogImZhIn0KICAgICAgICAgICAgKTsKICAgICAgICAgICAgbWFya2VyXzhlODNjNjRlNTkzMTQwM2Q4ZDFmNzRmNTVjNzU5MTFhLnNldEljb24oaWNvbl9mOTI1OGI3YTVhM2Y0MGIzYTk1N2Y2ZmMzOGMzODA5NCk7CiAgICAgICAgCiAgICAKICAgICAgICB2YXIgcG9wdXBfNjg5OTYyYjg5YjMxNDY1MWIzMTMxYTk1OTY1ZDBhMTggPSBMLnBvcHVwKHsibWF4V2lkdGgiOiAyMDB9KTsKCiAgICAgICAgCiAgICAgICAgICAgIHZhciBpX2ZyYW1lX2E3MTZjYmY1ZWUzMDQ0ZDdiZjZmZTNmNmU4YjNhMThjID0gJChgPGlmcmFtZSBzcmM9ImRhdGE6dGV4dC9odG1sO2NoYXJzZXQ9dXRmLTg7YmFzZTY0LENpQWdJQ0JRWVhKcmQyOXZaQ0JGYzNSaGRHVXNQR0p5UGdvZ0lDQWdJQ0FnSURJM01DQlRhVzFqYjJVZ1UzUXVJRTV2Y25Sb0xDQlBjMmhoZDJFOFluSStDaUFnSUNBZ0lDQWdLRGt3TlNrZ05ETXpJRFF6TVRFPSIgd2lkdGg9IjE1MCIgc3R5bGU9ImJvcmRlcjpub25lICFpbXBvcnRhbnQ7IiBoZWlnaHQ9IjE1MCI+PC9pZnJhbWU+YClbMF07CiAgICAgICAgICAgIHBvcHVwXzY4OTk2MmI4OWIzMTQ2NTFiMzEzMWE5NTk2NWQwYTE4LnNldENvbnRlbnQoaV9mcmFtZV9hNzE2Y2JmNWVlMzA0NGQ3YmY2ZmUzZjZlOGIzYTE4Yyk7CiAgICAgICAgCgogICAgICAgIG1hcmtlcl84ZTgzYzY0ZTU5MzE0MDNkOGQxZjc0ZjU1Yzc1OTExYS5iaW5kUG9wdXAocG9wdXBfNjg5OTYyYjg5YjMxNDY1MWIzMTMxYTk1OTY1ZDBhMTgpCiAgICAgICAgOwoKICAgICAgICAKICAgIAo8L3NjcmlwdD4= onload=\"this.contentDocument.open();this.contentDocument.write(atob(this.getAttribute('data-html')));this.contentDocument.close();\" allowfullscreen webkitallowfullscreen mozallowfullscreen></iframe></div></div>"
      ],
      "text/plain": [
       "<folium.folium.Map at 0x14b181a6d30>"
      ]
     },
     "execution_count": 23,
     "metadata": {},
     "output_type": "execute_result"
    }
   ],
   "source": [
    "# add markers\n",
    "count = 0\n",
    "for lat, lng, name, address, cat, city, phone in zip(arts_df['lat'], \n",
    "                                                     arts_df['lng'],\n",
    "                                                     arts_df['name'],\n",
    "                                                     arts_df['address'],\n",
    "                                                     arts_df['categories'],\n",
    "                                                     arts_df['city'],\n",
    "                                                     arts_df['Phone']):\n",
    "    \n",
    "    #create the text for the popup labels\n",
    "    if phone == 'none': #there is no phone number\n",
    "        lab='''{},<br>\n",
    "        {}, {}'''.format(name, address, city)\n",
    "        \n",
    "    else: #there is a phone number\n",
    "        lab='''{},<br>\n",
    "        {}, {}<br>\n",
    "        {}'''.format(name, address, city, phone)\n",
    "    \n",
    "    iframe = folium.IFrame(lab,\n",
    "                       width=150,\n",
    "                       height=150)\n",
    "    \n",
    "    popup = folium.Popup(iframe,\n",
    "                     max_width=200)\n",
    "    \n",
    "    #select the colours for the icons\n",
    "    if cat == 'Art Gallery':\n",
    "        colour = 'blue'\n",
    "    elif cat == 'Museum':\n",
    "        colour = 'red'\n",
    "    else: #only Theater left\n",
    "        colour = 'green'\n",
    "   \n",
    "    #create and add each marker\n",
    "    folium.Marker(\n",
    "        [lat, lng],\n",
    "        radius = 5,\n",
    "        popup = popup,\n",
    "        icon=folium.Icon(color=colour,icon = 'fa-asterisk', prefix ='fa'),\n",
    "        parse_html = False).add_to(map_durham)\n",
    "    count += 1\n",
    "print(count)\n",
    "map_durham"
   ]
  },
  {
   "cell_type": "markdown",
   "metadata": {},
   "source": [
    "### Above map may not show the legend in the npviewer"
   ]
  },
  {
   "cell_type": "markdown",
   "metadata": {},
   "source": [
    "### - Convert map to HTML file"
   ]
  },
  {
   "cell_type": "code",
   "execution_count": 55,
   "metadata": {},
   "outputs": [
    {
     "name": "stdout",
     "output_type": "stream",
     "text": [
      "done\n"
     ]
    }
   ],
   "source": [
    "map_durham.save(outfile = 'Durham map.html')\n",
    "print('done')"
   ]
  },
  {
   "cell_type": "code",
   "execution_count": null,
   "metadata": {},
   "outputs": [],
   "source": []
  }
 ],
 "metadata": {
  "kernelspec": {
   "display_name": "Python 3",
   "language": "python",
   "name": "python3"
  },
  "language_info": {
   "codemirror_mode": {
    "name": "ipython",
    "version": 3
   },
   "file_extension": ".py",
   "mimetype": "text/x-python",
   "name": "python",
   "nbconvert_exporter": "python",
   "pygments_lexer": "ipython3",
   "version": "3.8.3"
  }
 },
 "nbformat": 4,
 "nbformat_minor": 1
}
